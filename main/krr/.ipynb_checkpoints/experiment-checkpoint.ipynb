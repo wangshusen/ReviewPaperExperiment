{
 "cells": [
  {
   "cell_type": "code",
   "execution_count": 1,
   "metadata": {
    "collapsed": false
   },
   "outputs": [
    {
     "name": "stdout",
     "output_type": "stream",
     "text": [
      "abalone_FastSPSD_Adaptive.mat\n"
     ]
    }
   ],
   "source": [
    "import numpy\n",
    "import time\n",
    "import scipy.io\n",
    "\n",
    "# parameters\n",
    "# To Be Specified!!!\n",
    "dataname = 'abalone'\n",
    "inputfilename = 'abalone_train_test_scaled'\n",
    "#parameters = {'sketch': 'Uniform', 'method': 'Nystrom', 'sigmaLower': 0.5, 'sigmaUpper': 5, 'sigmaNum': 15, 'gammaLower': -15, 'gammaUpper': 1, 'gammaNum': 30}\n",
    "parameters = {'sketch': 'Adaptive', 'method': 'FastSPSD', 'sigmaLower': 0.5, 'sigmaUpper': 5, 'sigmaNum': 15, 'gammaLower': -15, 'gammaUpper': 1, 'gammaNum': 30}\n",
    "#parameters = {'sketch': 'Uniform', 'method': 'RandFeature', 'sigmaLower': 0.5, 'sigmaUpper': 5, 'sigmaNum': 15, 'gammaLower': -15, 'gammaUpper': 1, 'gammaNum': 30}\n",
    "#ss = [50, 70, 90, 110, 140, 170, 200, 240, 280, 320, 370, 420, 470, 530, 590, 650, 720, 790, 860, 940, 1030]\n",
    "ss = [50, 70, 90, 110, 140, 170, 200, 240, 280, 320, 370, 420, 470, 530, 590, 650, 720]\n",
    "\n",
    "\n",
    "# output file name\n",
    "if parameters['method'] != 'RandFeature':\n",
    "    outfilename = dataname + '_' + parameters['method'] + '_' + parameters['sketch'] + '.mat'\n",
    "else:\n",
    "    outfilename = dataname + '_' + parameters['method'] + '.mat'\n",
    "print(outfilename)\n",
    "\n",
    "# load data\n",
    "dataDict = scipy.io.loadmat('../../Resource/Data/' + inputfilename +'.mat')\n",
    "matXtrain =  dataDict['Xtrain']\n",
    "matXtest =  dataDict['Xtest']\n",
    "vecYtrain =  dataDict['ytrain']\n",
    "vecYtest =  dataDict['ytest']\n",
    "del dataDict"
   ]
  },
  {
   "cell_type": "code",
   "execution_count": 2,
   "metadata": {
    "collapsed": false
   },
   "outputs": [
    {
     "name": "stdout",
     "output_type": "stream",
     "text": [
      "mse = 4.59915295779, sigma = 1.33156666941, gamma = 0.000141404461241\n",
      "mse = 4.55419403917, sigma = 3.54548425173, gamma = 3.9729151634e-06\n",
      "mse = 4.61370133652, sigma = 2.42148846521, gamma = 2.87586199187e-05\n",
      "mse = 4.5594112411, sigma = 2.58477122974, gamma = 1.86215152562e-05\n",
      "mse = 4.53109718954, sigma = 2.03186097601, gamma = 6.74213320318e-05\n",
      "mse = 4.60086686907, sigma = 2.0881296307, gamma = 5.96320475243e-05\n",
      "mse = 4.57698592805, sigma = 2.61276836843, gamma = 3.22783645099e-05\n",
      "mse = 4.55412888585, sigma = 3.22430447666, gamma = 9.32784383946e-06\n",
      "mse = 4.54390988463, sigma = 2.54393576449, gamma = 2.34626890633e-05\n",
      "mse = 4.56542864761, sigma = 2.57076726683, gamma = 2.72975901218e-05\n",
      "s = 50, MSE = 4.76263684566\n",
      "Time_CR = 0.0707082033157,  Time_TP = 0.00438444495201\n",
      "mse = 4.53808744441, sigma = 1.16807191459, gamma = 0.000143329351762\n",
      "mse = 4.49727369865, sigma = 1.06795108037, gamma = 0.00010452236481\n",
      "mse = 4.53963110968, sigma = 1.1305014436, gamma = 0.000109018523817\n",
      "mse = 4.54934461794, sigma = 1.22446494027, gamma = 0.000119933406583\n",
      "mse = 4.54193954962, sigma = 1.67876752527, gamma = 7.64054362181e-05\n",
      "mse = 4.48695410383, sigma = 1.39488437833, gamma = 3.8604266083e-05\n",
      "mse = 4.5061656408, sigma = 1.25183365487, gamma = 0.000102334997019\n",
      "mse = 4.51579945399, sigma = 1.28231825261, gamma = 0.000105483397816\n",
      "mse = 4.56191742635, sigma = 2.23211213534, gamma = 4.32217153216e-05\n",
      "mse = 4.58230426296, sigma = 1.4533757845, gamma = 7.76666843147e-05\n",
      "s = 70, MSE = 4.73418524646\n",
      "Time_CR = 0.0934448957443,  Time_TP = 0.00595471024513\n",
      "mse = 4.47730791117, sigma = 1.50464528888, gamma = 3.29276193164e-05\n",
      "mse = 4.57117063754, sigma = 2.12770956994, gamma = 5.20379440243e-05\n"
     ]
    },
    {
     "ename": "KeyboardInterrupt",
     "evalue": "",
     "output_type": "error",
     "traceback": [
      "\u001b[0;31m---------------------------------------------------------------------------\u001b[0m",
      "\u001b[0;31mKeyboardInterrupt\u001b[0m                         Traceback (most recent call last)",
      "\u001b[0;32m<ipython-input-2-df3afb475f19>\u001b[0m in \u001b[0;36m<module>\u001b[0;34m()\u001b[0m\n\u001b[1;32m     22\u001b[0m         \u001b[0mmse\u001b[0m \u001b[0;34m=\u001b[0m \u001b[0;36m0\u001b[0m\u001b[0;34m\u001b[0m\u001b[0m\n\u001b[1;32m     23\u001b[0m         \u001b[0;32mfor\u001b[0m \u001b[0mj\u001b[0m \u001b[0;32min\u001b[0m \u001b[0mrange\u001b[0m\u001b[0;34m(\u001b[0m\u001b[0mnumRepeat2\u001b[0m\u001b[0;34m)\u001b[0m\u001b[0;34m:\u001b[0m\u001b[0;34m\u001b[0m\u001b[0m\n\u001b[0;32m---> 24\u001b[0;31m             \u001b[0mmse\u001b[0m \u001b[0;34m=\u001b[0m  \u001b[0mtp\u001b[0m\u001b[0;34m.\u001b[0m\u001b[0mtrainPredict\u001b[0m\u001b[0;34m(\u001b[0m\u001b[0mmatXtrain\u001b[0m\u001b[0;34m,\u001b[0m \u001b[0mvecYtrain\u001b[0m\u001b[0;34m,\u001b[0m \u001b[0mmatXtest\u001b[0m\u001b[0;34m,\u001b[0m \u001b[0mvecYtest\u001b[0m\u001b[0;34m,\u001b[0m \u001b[0ms\u001b[0m\u001b[0;34m,\u001b[0m \u001b[0msigmaOpt\u001b[0m\u001b[0;34m,\u001b[0m \u001b[0mgammaOpt\u001b[0m\u001b[0;34m,\u001b[0m \u001b[0mparameters\u001b[0m\u001b[0;34m)\u001b[0m\u001b[0;34m\u001b[0m\u001b[0m\n\u001b[0m\u001b[1;32m     25\u001b[0m             \u001b[0mMSEs\u001b[0m\u001b[0;34m[\u001b[0m\u001b[0ml\u001b[0m\u001b[0;34m,\u001b[0m \u001b[0mi\u001b[0m \u001b[0;34m*\u001b[0m \u001b[0mnumRepeat2\u001b[0m \u001b[0;34m+\u001b[0m \u001b[0mj\u001b[0m\u001b[0;34m]\u001b[0m \u001b[0;34m=\u001b[0m \u001b[0mmse\u001b[0m\u001b[0;34m\u001b[0m\u001b[0m\n\u001b[1;32m     26\u001b[0m         \u001b[0mt2\u001b[0m \u001b[0;34m=\u001b[0m \u001b[0mtime\u001b[0m\u001b[0;34m.\u001b[0m\u001b[0mtime\u001b[0m\u001b[0;34m(\u001b[0m\u001b[0;34m)\u001b[0m\u001b[0;34m\u001b[0m\u001b[0m\n",
      "\u001b[0;32m/Users/shusenwang/Documents/Code/MatApproxPython/Source/KRR/trainPredict.py\u001b[0m in \u001b[0;36mtrainPredict\u001b[0;34m(***failed resolving arguments***)\u001b[0m\n\u001b[1;32m     18\u001b[0m         \u001b[0mmatUL\u001b[0m\u001b[0;34m,\u001b[0m \u001b[0mvecSL\u001b[0m \u001b[0;34m=\u001b[0m \u001b[0mrbfKernelApprox\u001b[0m\u001b[0;34m.\u001b[0m\u001b[0mnystrom3\u001b[0m\u001b[0;34m(\u001b[0m\u001b[0mmatX\u001b[0m\u001b[0;34m,\u001b[0m \u001b[0msigmaOpt\u001b[0m\u001b[0;34m,\u001b[0m \u001b[0mnumFeature\u001b[0m\u001b[0;34m,\u001b[0m \u001b[0mparameters\u001b[0m\u001b[0;34m[\u001b[0m\u001b[0;34m'sketch'\u001b[0m\u001b[0;34m]\u001b[0m\u001b[0;34m)\u001b[0m\u001b[0;34m\u001b[0m\u001b[0m\n\u001b[1;32m     19\u001b[0m     \u001b[0;32mif\u001b[0m \u001b[0mparameters\u001b[0m\u001b[0;34m[\u001b[0m\u001b[0;34m'method'\u001b[0m\u001b[0;34m]\u001b[0m \u001b[0;34m==\u001b[0m \u001b[0;34m'FastSPSD'\u001b[0m\u001b[0;34m:\u001b[0m\u001b[0;34m\u001b[0m\u001b[0m\n\u001b[0;32m---> 20\u001b[0;31m         \u001b[0mmatUL\u001b[0m\u001b[0;34m,\u001b[0m \u001b[0mvecSL\u001b[0m \u001b[0;34m=\u001b[0m \u001b[0mrbfKernelApprox\u001b[0m\u001b[0;34m.\u001b[0m\u001b[0mfastSPSD3\u001b[0m\u001b[0;34m(\u001b[0m\u001b[0mmatX\u001b[0m\u001b[0;34m,\u001b[0m \u001b[0msigmaOpt\u001b[0m\u001b[0;34m,\u001b[0m \u001b[0mnumFeature\u001b[0m\u001b[0;34m,\u001b[0m \u001b[0mparameters\u001b[0m\u001b[0;34m[\u001b[0m\u001b[0;34m'sketch'\u001b[0m\u001b[0;34m]\u001b[0m\u001b[0;34m)\u001b[0m\u001b[0;34m\u001b[0m\u001b[0m\n\u001b[0m\u001b[1;32m     21\u001b[0m     \u001b[0;32mif\u001b[0m \u001b[0mparameters\u001b[0m\u001b[0;34m[\u001b[0m\u001b[0;34m'method'\u001b[0m\u001b[0;34m]\u001b[0m \u001b[0;34m==\u001b[0m \u001b[0;34m'RandFeature'\u001b[0m\u001b[0;34m:\u001b[0m\u001b[0;34m\u001b[0m\u001b[0m\n\u001b[1;32m     22\u001b[0m         \u001b[0mmatUL\u001b[0m\u001b[0;34m,\u001b[0m \u001b[0mvecSL\u001b[0m \u001b[0;34m=\u001b[0m \u001b[0mrbfKernelApprox\u001b[0m\u001b[0;34m.\u001b[0m\u001b[0mrandFeature3\u001b[0m\u001b[0;34m(\u001b[0m\u001b[0mmatX\u001b[0m\u001b[0;34m,\u001b[0m \u001b[0msigmaOpt\u001b[0m\u001b[0;34m,\u001b[0m \u001b[0mnumFeature\u001b[0m\u001b[0;34m)\u001b[0m\u001b[0;34m\u001b[0m\u001b[0m\n",
      "\u001b[0;32m/Users/shusenwang/Documents/Code/MatApproxPython/Source/KernelApproximate/rbfKernelApprox.py\u001b[0m in \u001b[0;36mfastSPSD3\u001b[0;34m(matX, sigma, s, sketching)\u001b[0m\n\u001b[1;32m    101\u001b[0m         \u001b[0marrIndex\u001b[0m \u001b[0;34m=\u001b[0m \u001b[0msketch\u001b[0m\u001b[0;34m.\u001b[0m\u001b[0mmixedUniformKmeans\u001b[0m\u001b[0;34m(\u001b[0m\u001b[0mmatX\u001b[0m\u001b[0;34m,\u001b[0m \u001b[0ms\u001b[0m\u001b[0;34m)\u001b[0m\u001b[0;34m\u001b[0m\u001b[0m\n\u001b[1;32m    102\u001b[0m     \u001b[0;32melif\u001b[0m \u001b[0msketching\u001b[0m \u001b[0;34m==\u001b[0m \u001b[0;34m'Adaptive'\u001b[0m\u001b[0;34m:\u001b[0m\u001b[0;34m\u001b[0m\u001b[0m\n\u001b[0;32m--> 103\u001b[0;31m         \u001b[0marrIndex\u001b[0m \u001b[0;34m=\u001b[0m \u001b[0madaptiveSampling\u001b[0m\u001b[0;34m.\u001b[0m\u001b[0madaptiveSamplingRBF\u001b[0m\u001b[0;34m(\u001b[0m\u001b[0mmatX\u001b[0m\u001b[0;34m,\u001b[0m \u001b[0msigma\u001b[0m\u001b[0;34m,\u001b[0m \u001b[0ms\u001b[0m\u001b[0;34m)\u001b[0m\u001b[0;34m\u001b[0m\u001b[0m\n\u001b[0m\u001b[1;32m    104\u001b[0m     \u001b[0mmatC\u001b[0m \u001b[0;34m=\u001b[0m \u001b[0mkernelFun\u001b[0m\u001b[0;34m.\u001b[0m\u001b[0mrbf\u001b[0m\u001b[0;34m(\u001b[0m\u001b[0mmatX\u001b[0m\u001b[0;34m,\u001b[0m \u001b[0mmatX\u001b[0m\u001b[0;34m[\u001b[0m\u001b[0marrIndex\u001b[0m\u001b[0;34m,\u001b[0m \u001b[0;34m:\u001b[0m\u001b[0;34m]\u001b[0m\u001b[0;34m,\u001b[0m \u001b[0msigma\u001b[0m\u001b[0;34m)\u001b[0m\u001b[0;34m\u001b[0m\u001b[0m\n\u001b[1;32m    105\u001b[0m     \u001b[0mmatC\u001b[0m \u001b[0;34m=\u001b[0m \u001b[0mnumpy\u001b[0m\u001b[0;34m.\u001b[0m\u001b[0mlinalg\u001b[0m\u001b[0;34m.\u001b[0m\u001b[0mqr\u001b[0m\u001b[0;34m(\u001b[0m\u001b[0mmatC\u001b[0m\u001b[0;34m,\u001b[0m \u001b[0mmode\u001b[0m\u001b[0;34m=\u001b[0m\u001b[0;34m'reduced'\u001b[0m\u001b[0;34m)\u001b[0m\u001b[0;34m[\u001b[0m\u001b[0;36m0\u001b[0m\u001b[0;34m]\u001b[0m\u001b[0;34m\u001b[0m\u001b[0m\n",
      "\u001b[0;32m/Users/shusenwang/Documents/Code/MatApproxPython/Source/KernelApproximate/adaptiveSampling.py\u001b[0m in \u001b[0;36madaptiveSamplingRBF\u001b[0;34m(matX, sigma, s)\u001b[0m\n\u001b[1;32m     16\u001b[0m     \u001b[0;31m# ================ Compute Residual ================ #\u001b[0m\u001b[0;34m\u001b[0m\u001b[0;34m\u001b[0m\u001b[0m\n\u001b[1;32m     17\u001b[0m     \u001b[0mmatRes\u001b[0m \u001b[0;34m=\u001b[0m \u001b[0mnumpy\u001b[0m\u001b[0;34m.\u001b[0m\u001b[0mdot\u001b[0m\u001b[0;34m(\u001b[0m\u001b[0mmatQ\u001b[0m\u001b[0;34m,\u001b[0m \u001b[0mnumpy\u001b[0m\u001b[0;34m.\u001b[0m\u001b[0mdot\u001b[0m\u001b[0;34m(\u001b[0m\u001b[0mmatQ\u001b[0m\u001b[0;34m.\u001b[0m\u001b[0mT\u001b[0m\u001b[0;34m,\u001b[0m \u001b[0mmatA\u001b[0m\u001b[0;34m)\u001b[0m\u001b[0;34m)\u001b[0m\u001b[0;34m\u001b[0m\u001b[0m\n\u001b[0;32m---> 18\u001b[0;31m     \u001b[0mmatRes\u001b[0m \u001b[0;34m=\u001b[0m \u001b[0mmatA\u001b[0m \u001b[0;34m-\u001b[0m \u001b[0mmatRes\u001b[0m\u001b[0;34m\u001b[0m\u001b[0m\n\u001b[0m\u001b[1;32m     19\u001b[0m     \u001b[0;31m# ==================== Sampling ==================== #\u001b[0m\u001b[0;34m\u001b[0m\u001b[0;34m\u001b[0m\u001b[0m\n\u001b[1;32m     20\u001b[0m     \u001b[0mmatRes\u001b[0m \u001b[0;34m=\u001b[0m \u001b[0mnumpy\u001b[0m\u001b[0;34m.\u001b[0m\u001b[0msquare\u001b[0m\u001b[0;34m(\u001b[0m\u001b[0mmatRes\u001b[0m\u001b[0;34m)\u001b[0m\u001b[0;34m\u001b[0m\u001b[0m\n",
      "\u001b[0;31mKeyboardInterrupt\u001b[0m: "
     ]
    }
   ],
   "source": [
    "import crossValidation as cv\n",
    "import trainPredict as tp\n",
    "\n",
    "numS = len(ss)\n",
    "\n",
    "# repeat the whole cross-validation + train-predict procedure for numRepeat1 times\n",
    "\n",
    "numRepeat1 = 10\n",
    "numRepeat2 = 20\n",
    "\n",
    "# the generalization Mean Squared Error\n",
    "MSEs = numpy.zeros((numS, numRepeat1 * numRepeat2))\n",
    "TimeCR = numpy.zeros(numS)\n",
    "TimeTP = numpy.zeros(numS)\n",
    "\n",
    "for l in range(numS):\n",
    "    s = ss[l]\n",
    "    for i in range(numRepeat1):\n",
    "        t0 = time.time()\n",
    "        sigmaOpt, gammaOpt, mseTmp = cv.crossValid(matXtrain, vecYtrain, s, parameters)\n",
    "        t1 = time.time()\n",
    "        mse = 0\n",
    "        for j in range(numRepeat2):\n",
    "            mse =  tp.trainPredict(matXtrain, vecYtrain, matXtest, vecYtest, s, sigmaOpt, gammaOpt, parameters)\n",
    "            MSEs[l, i * numRepeat2 + j] = mse\n",
    "        t2 = time.time()\n",
    "        \n",
    "    mseMean = numpy.mean(MSEs[l, :])\n",
    "    TimeCR[l] = (t1 - t0) / numRepeat1\n",
    "    TimeTP[l] = (t2 - t1) / numRepeat1 / numRepeat2\n",
    "    print('s = ' + str(s) + ', MSE = ' + str(mseMean))\n",
    "    print('Time_CR = ' + str(TimeCR[l]) + ',  Time_TP = ' + str(TimeTP[l]))\n",
    "\n",
    "mathDict = {'MSEs': MSEs, 'ss': ss, 'TimeCR': TimeCR, 'TimeTP': TimeTP}\n",
    "scipy.io.savemat(outfilename, mathDict)\n"
   ]
  },
  {
   "cell_type": "code",
   "execution_count": 10,
   "metadata": {
    "collapsed": false
   },
   "outputs": [
    {
     "data": {
      "text/plain": [
       "1474051379.408508"
      ]
     },
     "execution_count": 10,
     "metadata": {},
     "output_type": "execute_result"
    }
   ],
   "source": [
    "import time\n",
    "\n",
    "time.time()"
   ]
  },
  {
   "cell_type": "code",
   "execution_count": 11,
   "metadata": {
    "collapsed": false
   },
   "outputs": [
    {
     "data": {
      "text/plain": [
       "1474051381.486758"
      ]
     },
     "execution_count": 11,
     "metadata": {},
     "output_type": "execute_result"
    }
   ],
   "source": [
    "time.time()"
   ]
  },
  {
   "cell_type": "code",
   "execution_count": null,
   "metadata": {
    "collapsed": true
   },
   "outputs": [],
   "source": []
  }
 ],
 "metadata": {
  "anaconda-cloud": {},
  "kernelspec": {
   "display_name": "Python [Root]",
   "language": "python",
   "name": "Python [Root]"
  },
  "language_info": {
   "codemirror_mode": {
    "name": "ipython",
    "version": 3
   },
   "file_extension": ".py",
   "mimetype": "text/x-python",
   "name": "python",
   "nbconvert_exporter": "python",
   "pygments_lexer": "ipython3",
   "version": "3.5.2"
  }
 },
 "nbformat": 4,
 "nbformat_minor": 0
}

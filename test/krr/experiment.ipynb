{
 "cells": [
  {
   "cell_type": "code",
   "execution_count": 1,
   "metadata": {
    "collapsed": false
   },
   "outputs": [
    {
     "name": "stdout",
     "output_type": "stream",
     "text": [
      "mse = 95.5252861372, sigma = 13.1659351096, gamma = 1.41537685097e-08\n",
      "mse = 95.6166348627, sigma = 63.3374652649, gamma = 2.12395110853e-09\n",
      "mse = 96.0389321081, sigma = 17.6091856281, gamma = 6.30441973111e-09\n",
      "mse = 95.3303594459, sigma = 37.5034072615, gamma = 3.58461338975e-09\n",
      "mse = 95.7552921476, sigma = 48.0529920387, gamma = 2.83785062272e-09\n",
      "mse = 95.2079600826, sigma = 18.6862668561, gamma = 1.52168437693e-08\n",
      "mse = 95.2613474678, sigma = 63.148849664, gamma = 5.99231721948e-10\n",
      "mse = 95.2246080028, sigma = 48.7617133214, gamma = 1.32315066282e-09\n",
      "mse = 95.6426755156, sigma = 50.8249416574, gamma = 1.70150691869e-09\n",
      "mse = 94.9850282213, sigma = 61.9417741376, gamma = 1.00016100307e-09\n",
      "s = 50, MSE = 95.6224520761\n",
      "Time_CR = 3.40803749561,  Time_TP = 0.284059648514\n",
      "mse = 93.8981860476, sigma = 44.2049931945, gamma = 2.22358476474e-09\n",
      "mse = 93.7560883328, sigma = 48.9563496654, gamma = 2.40585361558e-09\n"
     ]
    },
    {
     "ename": "KeyboardInterrupt",
     "evalue": "",
     "output_type": "error",
     "traceback": [
      "\u001b[0;31m---------------------------------------------------------------------------\u001b[0m",
      "\u001b[0;31mKeyboardInterrupt\u001b[0m                         Traceback (most recent call last)",
      "\u001b[0;32m<ipython-input-1-474f3682e18d>\u001b[0m in \u001b[0;36m<module>\u001b[0;34m()\u001b[0m\n\u001b[1;32m     14\u001b[0m \u001b[0;31m# Nystrom\u001b[0m\u001b[0;34m\u001b[0m\u001b[0;34m\u001b[0m\u001b[0m\n\u001b[1;32m     15\u001b[0m \u001b[0mparameters\u001b[0m \u001b[0;34m=\u001b[0m \u001b[0;34m{\u001b[0m\u001b[0;34m'sketch'\u001b[0m\u001b[0;34m:\u001b[0m \u001b[0;34m'Uniform'\u001b[0m\u001b[0;34m,\u001b[0m \u001b[0;34m'method'\u001b[0m\u001b[0;34m:\u001b[0m \u001b[0;34m'Nystrom'\u001b[0m\u001b[0;34m,\u001b[0m \u001b[0;34m'sigmaLower'\u001b[0m\u001b[0;34m:\u001b[0m \u001b[0msigLower\u001b[0m\u001b[0;34m,\u001b[0m \u001b[0;34m'sigmaUpper'\u001b[0m\u001b[0;34m:\u001b[0m \u001b[0msigUpper\u001b[0m\u001b[0;34m,\u001b[0m \u001b[0;34m'sigmaNum'\u001b[0m\u001b[0;34m:\u001b[0m \u001b[0msigNum\u001b[0m\u001b[0;34m,\u001b[0m \u001b[0;34m'gammaLower'\u001b[0m\u001b[0;34m:\u001b[0m \u001b[0mgamLower\u001b[0m\u001b[0;34m,\u001b[0m \u001b[0;34m'gammaUpper'\u001b[0m\u001b[0;34m:\u001b[0m \u001b[0mgamUpper\u001b[0m\u001b[0;34m,\u001b[0m \u001b[0;34m'gammaNum'\u001b[0m\u001b[0;34m:\u001b[0m \u001b[0mgamNum\u001b[0m\u001b[0;34m}\u001b[0m\u001b[0;34m\u001b[0m\u001b[0m\n\u001b[0;32m---> 16\u001b[0;31m \u001b[0mkrrExperiment\u001b[0m\u001b[0;34m.\u001b[0m\u001b[0mkrrExperiment\u001b[0m\u001b[0;34m(\u001b[0m\u001b[0mdataName\u001b[0m\u001b[0;34m,\u001b[0m \u001b[0minputFileName\u001b[0m\u001b[0;34m,\u001b[0m \u001b[0mparameters\u001b[0m\u001b[0;34m,\u001b[0m \u001b[0msketchSizes\u001b[0m\u001b[0;34m)\u001b[0m\u001b[0;34m\u001b[0m\u001b[0m\n\u001b[0m\u001b[1;32m     17\u001b[0m \u001b[0;34m\u001b[0m\u001b[0m\n\u001b[1;32m     18\u001b[0m \u001b[0mparameters\u001b[0m \u001b[0;34m=\u001b[0m \u001b[0;34m{\u001b[0m\u001b[0;34m'sketch'\u001b[0m\u001b[0;34m:\u001b[0m \u001b[0;34m'Adaptive'\u001b[0m\u001b[0;34m,\u001b[0m \u001b[0;34m'method'\u001b[0m\u001b[0;34m:\u001b[0m \u001b[0;34m'Nystrom'\u001b[0m\u001b[0;34m,\u001b[0m \u001b[0;34m'sigmaLower'\u001b[0m\u001b[0;34m:\u001b[0m \u001b[0msigLower\u001b[0m\u001b[0;34m,\u001b[0m \u001b[0;34m'sigmaUpper'\u001b[0m\u001b[0;34m:\u001b[0m \u001b[0msigUpper\u001b[0m\u001b[0;34m,\u001b[0m \u001b[0;34m'sigmaNum'\u001b[0m\u001b[0;34m:\u001b[0m \u001b[0msigNum\u001b[0m\u001b[0;34m,\u001b[0m \u001b[0;34m'gammaLower'\u001b[0m\u001b[0;34m:\u001b[0m \u001b[0mgamLower\u001b[0m\u001b[0;34m,\u001b[0m \u001b[0;34m'gammaUpper'\u001b[0m\u001b[0;34m:\u001b[0m \u001b[0mgamUpper\u001b[0m\u001b[0;34m,\u001b[0m \u001b[0;34m'gammaNum'\u001b[0m\u001b[0;34m:\u001b[0m \u001b[0mgamNum\u001b[0m\u001b[0;34m}\u001b[0m\u001b[0;34m\u001b[0m\u001b[0m\n",
      "\u001b[0;32m/Users/shusenwang/Documents/Code/RandMatComputation/test/krr/krrExperiment.py\u001b[0m in \u001b[0;36mkrrExperiment\u001b[0;34m(dataName, inputFileName, parameters, sketchSizes)\u001b[0m\n\u001b[1;32m     40\u001b[0m         \u001b[0;32mfor\u001b[0m \u001b[0mi\u001b[0m \u001b[0;32min\u001b[0m \u001b[0mrange\u001b[0m\u001b[0;34m(\u001b[0m\u001b[0mnumRepeat1\u001b[0m\u001b[0;34m)\u001b[0m\u001b[0;34m:\u001b[0m\u001b[0;34m\u001b[0m\u001b[0m\n\u001b[1;32m     41\u001b[0m             \u001b[0mt0\u001b[0m \u001b[0;34m=\u001b[0m \u001b[0mtime\u001b[0m\u001b[0;34m.\u001b[0m\u001b[0mtime\u001b[0m\u001b[0;34m(\u001b[0m\u001b[0;34m)\u001b[0m\u001b[0;34m\u001b[0m\u001b[0m\n\u001b[0;32m---> 42\u001b[0;31m             \u001b[0msigmaOpt\u001b[0m\u001b[0;34m,\u001b[0m \u001b[0mgammaOpt\u001b[0m\u001b[0;34m,\u001b[0m \u001b[0mmseTmp\u001b[0m \u001b[0;34m=\u001b[0m \u001b[0mcv\u001b[0m\u001b[0;34m.\u001b[0m\u001b[0mcrossValid\u001b[0m\u001b[0;34m(\u001b[0m\u001b[0mmatXtrain\u001b[0m\u001b[0;34m,\u001b[0m \u001b[0mvecYtrain\u001b[0m\u001b[0;34m,\u001b[0m \u001b[0ms\u001b[0m\u001b[0;34m,\u001b[0m \u001b[0mparameters\u001b[0m\u001b[0;34m)\u001b[0m\u001b[0;34m\u001b[0m\u001b[0m\n\u001b[0m\u001b[1;32m     43\u001b[0m             \u001b[0mt1\u001b[0m \u001b[0;34m=\u001b[0m \u001b[0mtime\u001b[0m\u001b[0;34m.\u001b[0m\u001b[0mtime\u001b[0m\u001b[0;34m(\u001b[0m\u001b[0;34m)\u001b[0m\u001b[0;34m\u001b[0m\u001b[0m\n\u001b[1;32m     44\u001b[0m             \u001b[0mmse\u001b[0m \u001b[0;34m=\u001b[0m \u001b[0;36m0\u001b[0m\u001b[0;34m\u001b[0m\u001b[0m\n",
      "\u001b[0;32m/Users/shusenwang/Documents/Code/RandMatComputation/main/krr/crossValidation.py\u001b[0m in \u001b[0;36mcrossValid\u001b[0;34m(matXtrain, vecYtrain, numFeature, parameters)\u001b[0m\n\u001b[1;32m     36\u001b[0m         \u001b[0;31m# ====== extract features from the training data ====== #\u001b[0m\u001b[0;34m\u001b[0m\u001b[0;34m\u001b[0m\u001b[0m\n\u001b[1;32m     37\u001b[0m         \u001b[0;32mif\u001b[0m \u001b[0mparameters\u001b[0m\u001b[0;34m[\u001b[0m\u001b[0;34m'method'\u001b[0m\u001b[0;34m]\u001b[0m \u001b[0;34m==\u001b[0m \u001b[0;34m'Nystrom'\u001b[0m\u001b[0;34m:\u001b[0m\u001b[0;34m\u001b[0m\u001b[0m\n\u001b[0;32m---> 38\u001b[0;31m             \u001b[0mmatUL\u001b[0m\u001b[0;34m,\u001b[0m \u001b[0mvecSL\u001b[0m \u001b[0;34m=\u001b[0m \u001b[0mrbfKernelApprox\u001b[0m\u001b[0;34m.\u001b[0m\u001b[0mnystrom\u001b[0m\u001b[0;34m(\u001b[0m\u001b[0mmatXtrain\u001b[0m\u001b[0;34m,\u001b[0m \u001b[0msigma\u001b[0m\u001b[0;34m,\u001b[0m \u001b[0mnumFeature\u001b[0m\u001b[0;34m,\u001b[0m \u001b[0mparameters\u001b[0m\u001b[0;34m[\u001b[0m\u001b[0;34m'sketch'\u001b[0m\u001b[0;34m]\u001b[0m\u001b[0;34m)\u001b[0m\u001b[0;34m\u001b[0m\u001b[0m\n\u001b[0m\u001b[1;32m     39\u001b[0m         \u001b[0;32mif\u001b[0m \u001b[0mparameters\u001b[0m\u001b[0;34m[\u001b[0m\u001b[0;34m'method'\u001b[0m\u001b[0;34m]\u001b[0m \u001b[0;34m==\u001b[0m \u001b[0;34m'FastSPSD'\u001b[0m\u001b[0;34m:\u001b[0m\u001b[0;34m\u001b[0m\u001b[0m\n\u001b[1;32m     40\u001b[0m             \u001b[0mmatUL\u001b[0m\u001b[0;34m,\u001b[0m \u001b[0mvecSL\u001b[0m \u001b[0;34m=\u001b[0m \u001b[0mrbfKernelApprox\u001b[0m\u001b[0;34m.\u001b[0m\u001b[0mfastSPSD\u001b[0m\u001b[0;34m(\u001b[0m\u001b[0mmatXtrain\u001b[0m\u001b[0;34m,\u001b[0m \u001b[0msigma\u001b[0m\u001b[0;34m,\u001b[0m \u001b[0mnumFeature\u001b[0m\u001b[0;34m,\u001b[0m \u001b[0mparameters\u001b[0m\u001b[0;34m[\u001b[0m\u001b[0;34m'sketch'\u001b[0m\u001b[0;34m]\u001b[0m\u001b[0;34m)\u001b[0m\u001b[0;34m\u001b[0m\u001b[0m\n",
      "\u001b[0;32m/Users/shusenwang/Documents/Code/RandMatComputation/main/kernel/rbfKernelApprox.py\u001b[0m in \u001b[0;36mnystrom\u001b[0;34m(matX, sigma, s, sketching)\u001b[0m\n\u001b[1;32m     21\u001b[0m     \u001b[0mmatUW\u001b[0m \u001b[0;34m=\u001b[0m \u001b[0mmatUW\u001b[0m\u001b[0;34m[\u001b[0m\u001b[0;34m:\u001b[0m\u001b[0;34m,\u001b[0m \u001b[0;36m0\u001b[0m\u001b[0;34m:\u001b[0m\u001b[0mk\u001b[0m\u001b[0;34m]\u001b[0m \u001b[0;34m/\u001b[0m \u001b[0mnumpy\u001b[0m\u001b[0;34m.\u001b[0m\u001b[0msqrt\u001b[0m\u001b[0;34m(\u001b[0m\u001b[0mvecSW\u001b[0m\u001b[0;34m[\u001b[0m\u001b[0;36m0\u001b[0m\u001b[0;34m:\u001b[0m\u001b[0mk\u001b[0m\u001b[0;34m]\u001b[0m\u001b[0;34m)\u001b[0m\u001b[0;34m\u001b[0m\u001b[0m\n\u001b[1;32m     22\u001b[0m     \u001b[0mmatC\u001b[0m \u001b[0;34m=\u001b[0m \u001b[0mnumpy\u001b[0m\u001b[0;34m.\u001b[0m\u001b[0mdot\u001b[0m\u001b[0;34m(\u001b[0m\u001b[0mmatC\u001b[0m\u001b[0;34m,\u001b[0m \u001b[0mmatUW\u001b[0m\u001b[0;34m)\u001b[0m\u001b[0;34m\u001b[0m\u001b[0m\n\u001b[0;32m---> 23\u001b[0;31m     \u001b[0mmatUL\u001b[0m\u001b[0;34m,\u001b[0m \u001b[0mvecSL\u001b[0m\u001b[0;34m,\u001b[0m \u001b[0mmatVL\u001b[0m \u001b[0;34m=\u001b[0m \u001b[0mnumpy\u001b[0m\u001b[0;34m.\u001b[0m\u001b[0mlinalg\u001b[0m\u001b[0;34m.\u001b[0m\u001b[0msvd\u001b[0m\u001b[0;34m(\u001b[0m\u001b[0mmatC\u001b[0m\u001b[0;34m,\u001b[0m \u001b[0mfull_matrices\u001b[0m\u001b[0;34m=\u001b[0m\u001b[0;32mFalse\u001b[0m\u001b[0;34m)\u001b[0m\u001b[0;34m\u001b[0m\u001b[0m\n\u001b[0m\u001b[1;32m     24\u001b[0m     \u001b[0;32mreturn\u001b[0m \u001b[0mmatUL\u001b[0m\u001b[0;34m,\u001b[0m \u001b[0mvecSL\u001b[0m\u001b[0;34m\u001b[0m\u001b[0m\n\u001b[1;32m     25\u001b[0m \u001b[0;34m\u001b[0m\u001b[0m\n",
      "\u001b[0;32m/Users/shusenwang/anaconda/lib/python3.5/site-packages/numpy/linalg/linalg.py\u001b[0m in \u001b[0;36msvd\u001b[0;34m(a, full_matrices, compute_uv)\u001b[0m\n\u001b[1;32m   1357\u001b[0m \u001b[0;34m\u001b[0m\u001b[0m\n\u001b[1;32m   1358\u001b[0m         \u001b[0msignature\u001b[0m \u001b[0;34m=\u001b[0m \u001b[0;34m'D->DdD'\u001b[0m \u001b[0;32mif\u001b[0m \u001b[0misComplexType\u001b[0m\u001b[0;34m(\u001b[0m\u001b[0mt\u001b[0m\u001b[0;34m)\u001b[0m \u001b[0;32melse\u001b[0m \u001b[0;34m'd->ddd'\u001b[0m\u001b[0;34m\u001b[0m\u001b[0m\n\u001b[0;32m-> 1359\u001b[0;31m         \u001b[0mu\u001b[0m\u001b[0;34m,\u001b[0m \u001b[0ms\u001b[0m\u001b[0;34m,\u001b[0m \u001b[0mvt\u001b[0m \u001b[0;34m=\u001b[0m \u001b[0mgufunc\u001b[0m\u001b[0;34m(\u001b[0m\u001b[0ma\u001b[0m\u001b[0;34m,\u001b[0m \u001b[0msignature\u001b[0m\u001b[0;34m=\u001b[0m\u001b[0msignature\u001b[0m\u001b[0;34m,\u001b[0m \u001b[0mextobj\u001b[0m\u001b[0;34m=\u001b[0m\u001b[0mextobj\u001b[0m\u001b[0;34m)\u001b[0m\u001b[0;34m\u001b[0m\u001b[0m\n\u001b[0m\u001b[1;32m   1360\u001b[0m         \u001b[0mu\u001b[0m \u001b[0;34m=\u001b[0m \u001b[0mu\u001b[0m\u001b[0;34m.\u001b[0m\u001b[0mastype\u001b[0m\u001b[0;34m(\u001b[0m\u001b[0mresult_t\u001b[0m\u001b[0;34m,\u001b[0m \u001b[0mcopy\u001b[0m\u001b[0;34m=\u001b[0m\u001b[0;32mFalse\u001b[0m\u001b[0;34m)\u001b[0m\u001b[0;34m\u001b[0m\u001b[0m\n\u001b[1;32m   1361\u001b[0m         \u001b[0ms\u001b[0m \u001b[0;34m=\u001b[0m \u001b[0ms\u001b[0m\u001b[0;34m.\u001b[0m\u001b[0mastype\u001b[0m\u001b[0;34m(\u001b[0m\u001b[0m_realType\u001b[0m\u001b[0;34m(\u001b[0m\u001b[0mresult_t\u001b[0m\u001b[0;34m)\u001b[0m\u001b[0;34m,\u001b[0m \u001b[0mcopy\u001b[0m\u001b[0;34m=\u001b[0m\u001b[0;32mFalse\u001b[0m\u001b[0;34m)\u001b[0m\u001b[0;34m\u001b[0m\u001b[0m\n",
      "\u001b[0;31mKeyboardInterrupt\u001b[0m: "
     ]
    }
   ],
   "source": [
    "import krrExperiment\n",
    "\n",
    "# The Music Year Prediction Dataset\n",
    "dataName = 'YearPrediction'\n",
    "inputFileName = 'YearPrediction_train_test_scaled'\n",
    "sketchSizes = [50, 70, 90, 110, 140, 170, 200, 240, 280, 320, 370, 420, 470, 530, 590, 650, 720, 790, 870, 950, 1040, 1140, 1250, 1370, 1500]\n",
    "sigLower = 10\n",
    "sigUpper = 70\n",
    "sigNum = 10\n",
    "gamLower = -29\n",
    "gamUpper = -18\n",
    "gamNum = 20\n",
    "\n",
    "# Nystrom, with 3 sketching methods\n",
    "parameters = {'sketch': 'Uniform', 'method': 'Nystrom', 'sigmaLower': sigLower, 'sigmaUpper': sigUpper, 'sigmaNum': sigNum, 'gammaLower': gamLower, 'gammaUpper': gamUpper, 'gammaNum': gamNum}\n",
    "krrExperiment.krrExperiment(dataName, inputFileName, parameters, sketchSizes)\n",
    "\n",
    "parameters = {'sketch': 'Adaptive', 'method': 'Nystrom', 'sigmaLower': sigLower, 'sigmaUpper': sigUpper, 'sigmaNum': sigNum, 'gammaLower': gamLower, 'gammaUpper': gamUpper, 'gammaNum': gamNum}\n",
    "krrExperiment.krrExperiment(dataName, inputFileName, parameters, sketchSizes)\n",
    "\n",
    "parameters = {'sketch': 'Kmeans', 'method': 'Nystrom', 'sigmaLower': sigLower, 'sigmaUpper': sigUpper, 'sigmaNum': sigNum, 'gammaLower': gamLower, 'gammaUpper': gamUpper, 'gammaNum': gamNum}\n",
    "krrExperiment.krrExperiment(dataName, inputFileName, parameters, sketchSizes)\n",
    "\n",
    "# FastSPSD, with 3 sketching methods\n",
    "parameters = {'sketch': 'Uniform', 'method': 'FastSPSD', 'sigmaLower': sigLower, 'sigmaUpper': sigUpper, 'sigmaNum': sigNum, 'gammaLower': gamLower, 'gammaUpper': gamUpper, 'gammaNum': gamNum}\n",
    "krrExperiment.krrExperiment(dataName, inputFileName, parameters, sketchSizes)\n",
    "\n",
    "parameters = {'sketch': 'Adaptive', 'method': 'FastSPSD', 'sigmaLower': sigLower, 'sigmaUpper': sigUpper, 'sigmaNum': sigNum, 'gammaLower': gamLower, 'gammaUpper': gamUpper, 'gammaNum': gamNum}\n",
    "krrExperiment.krrExperiment(dataName, inputFileName, parameters, sketchSizes)\n",
    "\n",
    "parameters = {'sketch': 'Kmeans', 'method': 'FastSPSD', 'sigmaLower': sigLower, 'sigmaUpper': sigUpper, 'sigmaNum': sigNum, 'gammaLower': gamLower, 'gammaUpper': gamUpper, 'gammaNum': gamNum}\n",
    "krrExperiment.krrExperiment(dataName, inputFileName, parameters, sketchSizes)\n",
    "\n",
    "# Random Feature Mapping\n",
    "parameters = {'method': 'RandFeature', 'sigmaLower': sigLower, 'sigmaUpper': sigUpper, 'sigmaNum': sigNum, 'gammaLower': gamLower, 'gammaUpper': gamUpper, 'gammaNum': gamNum}\n",
    "krrExperiment.krrExperiment(dataName, inputFileName, parameters, sketchSizes)\n",
    "\n",
    "\n"
   ]
  },
  {
   "cell_type": "code",
   "execution_count": 2,
   "metadata": {
    "collapsed": false
   },
   "outputs": [
    {
     "data": {
      "text/plain": [
       "6.914400106940203e-13"
      ]
     },
     "execution_count": 2,
     "metadata": {},
     "output_type": "execute_result"
    }
   ],
   "source": [
    "import numpy\n",
    "numpy.exp(-28)"
   ]
  },
  {
   "cell_type": "code",
   "execution_count": null,
   "metadata": {
    "collapsed": true
   },
   "outputs": [],
   "source": []
  }
 ],
 "metadata": {
  "anaconda-cloud": {},
  "kernelspec": {
   "display_name": "Python [Root]",
   "language": "python",
   "name": "Python [Root]"
  },
  "language_info": {
   "codemirror_mode": {
    "name": "ipython",
    "version": 3
   },
   "file_extension": ".py",
   "mimetype": "text/x-python",
   "name": "python",
   "nbconvert_exporter": "python",
   "pygments_lexer": "ipython3",
   "version": "3.5.2"
  }
 },
 "nbformat": 4,
 "nbformat_minor": 0
}

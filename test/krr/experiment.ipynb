{
 "cells": [
  {
   "cell_type": "code",
   "execution_count": 1,
   "metadata": {
    "collapsed": false
   },
   "outputs": [
    {
     "name": "stdout",
     "output_type": "stream",
     "text": [
      "mse = 94.0838565373, sigma = 39.8841519816, gamma = 6.06712839454e-09\n",
      "mse = 94.2405643718, sigma = 49.9800274265, gamma = 3.99146684536e-09\n",
      "mse = 93.8425626783, sigma = 15.6972311535, gamma = 1.41831639761e-08\n",
      "mse = 93.981605032, sigma = 28.0278251751, gamma = 1.1661299364e-08\n",
      "mse = 94.3501343426, sigma = 57.1849743917, gamma = 2.38086340737e-09\n",
      "mse = 94.078110425, sigma = 36.2506170767, gamma = 4.10436022974e-09\n",
      "mse = 93.8843334092, sigma = 62.0923627877, gamma = 1.40406788216e-09\n",
      "mse = 93.789381742, sigma = 13.24235385, gamma = 1.46983015904e-08\n",
      "mse = 93.9295618491, sigma = 28.9781511485, gamma = 1.18036209895e-08\n",
      "mse = 94.2601766228, sigma = 19.3635124704, gamma = 1.13246854641e-08\n",
      "s = 50, MSE = 94.0622895985\n",
      "Time_CR = 3.26284241676,  Time_TP = 0.295941598415\n"
     ]
    },
    {
     "ename": "KeyboardInterrupt",
     "evalue": "",
     "output_type": "error",
     "traceback": [
      "\u001b[0;31m---------------------------------------------------------------------------\u001b[0m",
      "\u001b[0;31mKeyboardInterrupt\u001b[0m                         Traceback (most recent call last)",
      "\u001b[0;32m<ipython-input-1-3212f3b5abd1>\u001b[0m in \u001b[0;36m<module>\u001b[0;34m()\u001b[0m\n\u001b[1;32m     14\u001b[0m \u001b[0;31m# Nystrom, with 3 sketching methods\u001b[0m\u001b[0;34m\u001b[0m\u001b[0;34m\u001b[0m\u001b[0m\n\u001b[1;32m     15\u001b[0m \u001b[0mparameters\u001b[0m \u001b[0;34m=\u001b[0m \u001b[0;34m{\u001b[0m\u001b[0;34m'sketch'\u001b[0m\u001b[0;34m:\u001b[0m \u001b[0;34m'Uniform'\u001b[0m\u001b[0;34m,\u001b[0m \u001b[0;34m'method'\u001b[0m\u001b[0;34m:\u001b[0m \u001b[0;34m'Nystrom'\u001b[0m\u001b[0;34m,\u001b[0m \u001b[0;34m'sigmaLower'\u001b[0m\u001b[0;34m:\u001b[0m \u001b[0msigLower\u001b[0m\u001b[0;34m,\u001b[0m \u001b[0;34m'sigmaUpper'\u001b[0m\u001b[0;34m:\u001b[0m \u001b[0msigUpper\u001b[0m\u001b[0;34m,\u001b[0m \u001b[0;34m'sigmaNum'\u001b[0m\u001b[0;34m:\u001b[0m \u001b[0msigNum\u001b[0m\u001b[0;34m,\u001b[0m \u001b[0;34m'gammaLower'\u001b[0m\u001b[0;34m:\u001b[0m \u001b[0mgamLower\u001b[0m\u001b[0;34m,\u001b[0m \u001b[0;34m'gammaUpper'\u001b[0m\u001b[0;34m:\u001b[0m \u001b[0mgamUpper\u001b[0m\u001b[0;34m,\u001b[0m \u001b[0;34m'gammaNum'\u001b[0m\u001b[0;34m:\u001b[0m \u001b[0mgamNum\u001b[0m\u001b[0;34m}\u001b[0m\u001b[0;34m\u001b[0m\u001b[0m\n\u001b[0;32m---> 16\u001b[0;31m \u001b[0mkrrExperiment\u001b[0m\u001b[0;34m.\u001b[0m\u001b[0mkrrExperiment\u001b[0m\u001b[0;34m(\u001b[0m\u001b[0mdataName\u001b[0m\u001b[0;34m,\u001b[0m \u001b[0minputFileName\u001b[0m\u001b[0;34m,\u001b[0m \u001b[0mparameters\u001b[0m\u001b[0;34m,\u001b[0m \u001b[0msketchSizes\u001b[0m\u001b[0;34m)\u001b[0m\u001b[0;34m\u001b[0m\u001b[0m\n\u001b[0m\u001b[1;32m     17\u001b[0m \u001b[0;34m\u001b[0m\u001b[0m\n\u001b[1;32m     18\u001b[0m \u001b[0mparameters\u001b[0m \u001b[0;34m=\u001b[0m \u001b[0;34m{\u001b[0m\u001b[0;34m'sketch'\u001b[0m\u001b[0;34m:\u001b[0m \u001b[0;34m'Adaptive'\u001b[0m\u001b[0;34m,\u001b[0m \u001b[0;34m'method'\u001b[0m\u001b[0;34m:\u001b[0m \u001b[0;34m'Nystrom'\u001b[0m\u001b[0;34m,\u001b[0m \u001b[0;34m'sigmaLower'\u001b[0m\u001b[0;34m:\u001b[0m \u001b[0msigLower\u001b[0m\u001b[0;34m,\u001b[0m \u001b[0;34m'sigmaUpper'\u001b[0m\u001b[0;34m:\u001b[0m \u001b[0msigUpper\u001b[0m\u001b[0;34m,\u001b[0m \u001b[0;34m'sigmaNum'\u001b[0m\u001b[0;34m:\u001b[0m \u001b[0msigNum\u001b[0m\u001b[0;34m,\u001b[0m \u001b[0;34m'gammaLower'\u001b[0m\u001b[0;34m:\u001b[0m \u001b[0mgamLower\u001b[0m\u001b[0;34m,\u001b[0m \u001b[0;34m'gammaUpper'\u001b[0m\u001b[0;34m:\u001b[0m \u001b[0mgamUpper\u001b[0m\u001b[0;34m,\u001b[0m \u001b[0;34m'gammaNum'\u001b[0m\u001b[0;34m:\u001b[0m \u001b[0mgamNum\u001b[0m\u001b[0;34m}\u001b[0m\u001b[0;34m\u001b[0m\u001b[0m\n",
      "\u001b[0;32m/Users/shusenwang/Documents/Experiment/test/krr/krrExperiment.py\u001b[0m in \u001b[0;36mkrrExperiment\u001b[0;34m(dataName, inputFileName, parameters, sketchSizes)\u001b[0m\n\u001b[1;32m     40\u001b[0m         \u001b[0;32mfor\u001b[0m \u001b[0mi\u001b[0m \u001b[0;32min\u001b[0m \u001b[0mrange\u001b[0m\u001b[0;34m(\u001b[0m\u001b[0mnumRepeat1\u001b[0m\u001b[0;34m)\u001b[0m\u001b[0;34m:\u001b[0m\u001b[0;34m\u001b[0m\u001b[0m\n\u001b[1;32m     41\u001b[0m             \u001b[0mt0\u001b[0m \u001b[0;34m=\u001b[0m \u001b[0mtime\u001b[0m\u001b[0;34m.\u001b[0m\u001b[0mtime\u001b[0m\u001b[0;34m(\u001b[0m\u001b[0;34m)\u001b[0m\u001b[0;34m\u001b[0m\u001b[0m\n\u001b[0;32m---> 42\u001b[0;31m             \u001b[0msigmaOpt\u001b[0m\u001b[0;34m,\u001b[0m \u001b[0mgammaOpt\u001b[0m\u001b[0;34m,\u001b[0m \u001b[0mmseTmp\u001b[0m \u001b[0;34m=\u001b[0m \u001b[0mcv\u001b[0m\u001b[0;34m.\u001b[0m\u001b[0mcrossValid\u001b[0m\u001b[0;34m(\u001b[0m\u001b[0mmatXtrain\u001b[0m\u001b[0;34m,\u001b[0m \u001b[0mvecYtrain\u001b[0m\u001b[0;34m,\u001b[0m \u001b[0ms\u001b[0m\u001b[0;34m,\u001b[0m \u001b[0mparameters\u001b[0m\u001b[0;34m)\u001b[0m\u001b[0;34m\u001b[0m\u001b[0m\n\u001b[0m\u001b[1;32m     43\u001b[0m             \u001b[0mt1\u001b[0m \u001b[0;34m=\u001b[0m \u001b[0mtime\u001b[0m\u001b[0;34m.\u001b[0m\u001b[0mtime\u001b[0m\u001b[0;34m(\u001b[0m\u001b[0;34m)\u001b[0m\u001b[0;34m\u001b[0m\u001b[0m\n\u001b[1;32m     44\u001b[0m             \u001b[0mmse\u001b[0m \u001b[0;34m=\u001b[0m \u001b[0;36m0\u001b[0m\u001b[0;34m\u001b[0m\u001b[0m\n",
      "\u001b[0;32m/Users/shusenwang/Documents/Experiment/main/krr/crossValidation.py\u001b[0m in \u001b[0;36mcrossValid\u001b[0;34m(matXtrain, vecYtrain, numFeature, parameters)\u001b[0m\n\u001b[1;32m     36\u001b[0m         \u001b[0;31m# ====== extract features from the training data ====== #\u001b[0m\u001b[0;34m\u001b[0m\u001b[0;34m\u001b[0m\u001b[0m\n\u001b[1;32m     37\u001b[0m         \u001b[0;32mif\u001b[0m \u001b[0mparameters\u001b[0m\u001b[0;34m[\u001b[0m\u001b[0;34m'method'\u001b[0m\u001b[0;34m]\u001b[0m \u001b[0;34m==\u001b[0m \u001b[0;34m'Nystrom'\u001b[0m\u001b[0;34m:\u001b[0m\u001b[0;34m\u001b[0m\u001b[0m\n\u001b[0;32m---> 38\u001b[0;31m             \u001b[0mmatUL\u001b[0m\u001b[0;34m,\u001b[0m \u001b[0mvecSL\u001b[0m \u001b[0;34m=\u001b[0m \u001b[0mrbfKernelApprox\u001b[0m\u001b[0;34m.\u001b[0m\u001b[0mnystrom\u001b[0m\u001b[0;34m(\u001b[0m\u001b[0mmatXtrain\u001b[0m\u001b[0;34m,\u001b[0m \u001b[0msigma\u001b[0m\u001b[0;34m,\u001b[0m \u001b[0mnumFeature\u001b[0m\u001b[0;34m,\u001b[0m \u001b[0mparameters\u001b[0m\u001b[0;34m[\u001b[0m\u001b[0;34m'sketch'\u001b[0m\u001b[0;34m]\u001b[0m\u001b[0;34m)\u001b[0m\u001b[0;34m\u001b[0m\u001b[0m\n\u001b[0m\u001b[1;32m     39\u001b[0m         \u001b[0;32mif\u001b[0m \u001b[0mparameters\u001b[0m\u001b[0;34m[\u001b[0m\u001b[0;34m'method'\u001b[0m\u001b[0;34m]\u001b[0m \u001b[0;34m==\u001b[0m \u001b[0;34m'FastSPSD'\u001b[0m\u001b[0;34m:\u001b[0m\u001b[0;34m\u001b[0m\u001b[0m\n\u001b[1;32m     40\u001b[0m             \u001b[0mmatUL\u001b[0m\u001b[0;34m,\u001b[0m \u001b[0mvecSL\u001b[0m \u001b[0;34m=\u001b[0m \u001b[0mrbfKernelApprox\u001b[0m\u001b[0;34m.\u001b[0m\u001b[0mfastSPSD\u001b[0m\u001b[0;34m(\u001b[0m\u001b[0mmatXtrain\u001b[0m\u001b[0;34m,\u001b[0m \u001b[0msigma\u001b[0m\u001b[0;34m,\u001b[0m \u001b[0mnumFeature\u001b[0m\u001b[0;34m,\u001b[0m \u001b[0mparameters\u001b[0m\u001b[0;34m[\u001b[0m\u001b[0;34m'sketch'\u001b[0m\u001b[0;34m]\u001b[0m\u001b[0;34m)\u001b[0m\u001b[0;34m\u001b[0m\u001b[0m\n",
      "\u001b[0;32m/Users/shusenwang/Documents/Experiment/main/kernel/rbfKernelApprox.py\u001b[0m in \u001b[0;36mnystrom\u001b[0;34m(matX, sigma, s, sketching)\u001b[0m\n\u001b[1;32m     16\u001b[0m     \u001b[0;32melif\u001b[0m \u001b[0msketching\u001b[0m \u001b[0;34m==\u001b[0m \u001b[0;34m'Adaptive'\u001b[0m\u001b[0;34m:\u001b[0m\u001b[0;34m\u001b[0m\u001b[0m\n\u001b[1;32m     17\u001b[0m         \u001b[0marrIndex\u001b[0m \u001b[0;34m=\u001b[0m \u001b[0madaptiveSampling\u001b[0m\u001b[0;34m.\u001b[0m\u001b[0madaptiveSamplingRBF\u001b[0m\u001b[0;34m(\u001b[0m\u001b[0mmatX\u001b[0m\u001b[0;34m,\u001b[0m \u001b[0msigma\u001b[0m\u001b[0;34m,\u001b[0m \u001b[0ms\u001b[0m\u001b[0;34m)\u001b[0m\u001b[0;34m\u001b[0m\u001b[0m\n\u001b[0;32m---> 18\u001b[0;31m     \u001b[0mmatC\u001b[0m \u001b[0;34m=\u001b[0m \u001b[0mkernelFun\u001b[0m\u001b[0;34m.\u001b[0m\u001b[0mrbf\u001b[0m\u001b[0;34m(\u001b[0m\u001b[0mmatX\u001b[0m\u001b[0;34m,\u001b[0m \u001b[0mmatX\u001b[0m\u001b[0;34m[\u001b[0m\u001b[0marrIndex\u001b[0m\u001b[0;34m,\u001b[0m \u001b[0;34m:\u001b[0m\u001b[0;34m]\u001b[0m\u001b[0;34m,\u001b[0m \u001b[0msigma\u001b[0m\u001b[0;34m)\u001b[0m\u001b[0;34m\u001b[0m\u001b[0m\n\u001b[0m\u001b[1;32m     19\u001b[0m     \u001b[0mmatW\u001b[0m \u001b[0;34m=\u001b[0m \u001b[0mmatC\u001b[0m\u001b[0;34m[\u001b[0m\u001b[0marrIndex\u001b[0m\u001b[0;34m,\u001b[0m \u001b[0;34m:\u001b[0m\u001b[0;34m]\u001b[0m\u001b[0;34m\u001b[0m\u001b[0m\n\u001b[1;32m     20\u001b[0m     \u001b[0mmatUW\u001b[0m\u001b[0;34m,\u001b[0m \u001b[0mvecSW\u001b[0m\u001b[0;34m,\u001b[0m \u001b[0mmatVW\u001b[0m \u001b[0;34m=\u001b[0m \u001b[0mnumpy\u001b[0m\u001b[0;34m.\u001b[0m\u001b[0mlinalg\u001b[0m\u001b[0;34m.\u001b[0m\u001b[0msvd\u001b[0m\u001b[0;34m(\u001b[0m\u001b[0mmatW\u001b[0m\u001b[0;34m,\u001b[0m \u001b[0mfull_matrices\u001b[0m\u001b[0;34m=\u001b[0m\u001b[0;32mFalse\u001b[0m\u001b[0;34m)\u001b[0m\u001b[0;34m\u001b[0m\u001b[0m\n",
      "\u001b[0;32m/Users/shusenwang/Documents/Experiment/main/kernel/kernelFun.py\u001b[0m in \u001b[0;36mrbf\u001b[0;34m(matrixX1, matrixX2, sigma)\u001b[0m\n\u001b[1;32m      4\u001b[0m     \u001b[0mn1\u001b[0m \u001b[0;34m=\u001b[0m \u001b[0mmatrixX1\u001b[0m\u001b[0;34m.\u001b[0m\u001b[0mshape\u001b[0m\u001b[0;34m[\u001b[0m\u001b[0;36m0\u001b[0m\u001b[0;34m]\u001b[0m\u001b[0;34m\u001b[0m\u001b[0m\n\u001b[1;32m      5\u001b[0m     \u001b[0mn2\u001b[0m \u001b[0;34m=\u001b[0m \u001b[0mmatrixX2\u001b[0m\u001b[0;34m.\u001b[0m\u001b[0mshape\u001b[0m\u001b[0;34m[\u001b[0m\u001b[0;36m0\u001b[0m\u001b[0;34m]\u001b[0m\u001b[0;34m\u001b[0m\u001b[0m\n\u001b[0;32m----> 6\u001b[0;31m     \u001b[0mK\u001b[0m \u001b[0;34m=\u001b[0m \u001b[0mnp\u001b[0m\u001b[0;34m.\u001b[0m\u001b[0mdot\u001b[0m\u001b[0;34m(\u001b[0m\u001b[0mmatrixX1\u001b[0m\u001b[0;34m,\u001b[0m \u001b[0mmatrixX2\u001b[0m\u001b[0;34m.\u001b[0m\u001b[0mT\u001b[0m\u001b[0;34m)\u001b[0m\u001b[0;34m\u001b[0m\u001b[0m\n\u001b[0m\u001b[1;32m      7\u001b[0m     \u001b[0mrowNormX1\u001b[0m \u001b[0;34m=\u001b[0m \u001b[0mnp\u001b[0m\u001b[0;34m.\u001b[0m\u001b[0msum\u001b[0m\u001b[0;34m(\u001b[0m\u001b[0mnp\u001b[0m\u001b[0;34m.\u001b[0m\u001b[0msquare\u001b[0m\u001b[0;34m(\u001b[0m\u001b[0mmatrixX1\u001b[0m\u001b[0;34m)\u001b[0m\u001b[0;34m,\u001b[0m \u001b[0;36m1\u001b[0m\u001b[0;34m)\u001b[0m \u001b[0;34m/\u001b[0m \u001b[0;36m2\u001b[0m\u001b[0;34m\u001b[0m\u001b[0m\n\u001b[1;32m      8\u001b[0m     \u001b[0mrowNormX2\u001b[0m \u001b[0;34m=\u001b[0m \u001b[0mnp\u001b[0m\u001b[0;34m.\u001b[0m\u001b[0msum\u001b[0m\u001b[0;34m(\u001b[0m\u001b[0mnp\u001b[0m\u001b[0;34m.\u001b[0m\u001b[0msquare\u001b[0m\u001b[0;34m(\u001b[0m\u001b[0mmatrixX2\u001b[0m\u001b[0;34m)\u001b[0m\u001b[0;34m,\u001b[0m \u001b[0;36m1\u001b[0m\u001b[0;34m)\u001b[0m \u001b[0;34m/\u001b[0m \u001b[0;36m2\u001b[0m\u001b[0;34m\u001b[0m\u001b[0m\n",
      "\u001b[0;31mKeyboardInterrupt\u001b[0m: "
     ]
    }
   ],
   "source": [
    "import krrExperiment\n",
    "\n",
    "# The Music Year Prediction Dataset\n",
    "dataName = 'YearPrediction'\n",
    "inputFileName = 'YearPrediction_train_test_scaled'\n",
    "sketchSizes = [50, 70, 90, 110, 140, 170, 200, 240, 280, 320, 370, 420, 470, 530, 590, 650, 720, 790, 870, 950, 1040, 1140, 1250, 1370, 1500]\n",
    "sigLower = 10\n",
    "sigUpper = 70\n",
    "sigNum = 10\n",
    "gamLower = -29\n",
    "gamUpper = -18\n",
    "gamNum = 20\n",
    "\n",
    "# Nystrom, with 3 sketching methods\n",
    "parameters = {'sketch': 'Uniform', 'method': 'Nystrom', 'sigmaLower': sigLower, 'sigmaUpper': sigUpper, 'sigmaNum': sigNum, 'gammaLower': gamLower, 'gammaUpper': gamUpper, 'gammaNum': gamNum}\n",
    "krrExperiment.krrExperiment(dataName, inputFileName, parameters, sketchSizes)\n",
    "\n",
    "parameters = {'sketch': 'Adaptive', 'method': 'Nystrom', 'sigmaLower': sigLower, 'sigmaUpper': sigUpper, 'sigmaNum': sigNum, 'gammaLower': gamLower, 'gammaUpper': gamUpper, 'gammaNum': gamNum}\n",
    "krrExperiment.krrExperiment(dataName, inputFileName, parameters, sketchSizes)\n",
    "\n",
    "parameters = {'sketch': 'Kmeans', 'method': 'Nystrom', 'sigmaLower': sigLower, 'sigmaUpper': sigUpper, 'sigmaNum': sigNum, 'gammaLower': gamLower, 'gammaUpper': gamUpper, 'gammaNum': gamNum}\n",
    "krrExperiment.krrExperiment(dataName, inputFileName, parameters, sketchSizes)\n",
    "\n",
    "# FastSPSD, with 3 sketching methods\n",
    "parameters = {'sketch': 'Uniform', 'method': 'FastSPSD', 'sigmaLower': sigLower, 'sigmaUpper': sigUpper, 'sigmaNum': sigNum, 'gammaLower': gamLower, 'gammaUpper': gamUpper, 'gammaNum': gamNum}\n",
    "krrExperiment.krrExperiment(dataName, inputFileName, parameters, sketchSizes)\n",
    "\n",
    "parameters = {'sketch': 'Adaptive', 'method': 'FastSPSD', 'sigmaLower': sigLower, 'sigmaUpper': sigUpper, 'sigmaNum': sigNum, 'gammaLower': gamLower, 'gammaUpper': gamUpper, 'gammaNum': gamNum}\n",
    "krrExperiment.krrExperiment(dataName, inputFileName, parameters, sketchSizes)\n",
    "\n",
    "parameters = {'sketch': 'Kmeans', 'method': 'FastSPSD', 'sigmaLower': sigLower, 'sigmaUpper': sigUpper, 'sigmaNum': sigNum, 'gammaLower': gamLower, 'gammaUpper': gamUpper, 'gammaNum': gamNum}\n",
    "krrExperiment.krrExperiment(dataName, inputFileName, parameters, sketchSizes)\n",
    "\n",
    "# Random Feature Mapping\n",
    "parameters = {'method': 'RandFeature', 'sigmaLower': sigLower, 'sigmaUpper': sigUpper, 'sigmaNum': sigNum, 'gammaLower': gamLower, 'gammaUpper': gamUpper, 'gammaNum': gamNum}\n",
    "krrExperiment.krrExperiment(dataName, inputFileName, parameters, sketchSizes)\n",
    "\n",
    "\n"
   ]
  },
  {
   "cell_type": "code",
   "execution_count": 2,
   "metadata": {
    "collapsed": false
   },
   "outputs": [
    {
     "data": {
      "text/plain": [
       "6.914400106940203e-13"
      ]
     },
     "execution_count": 2,
     "metadata": {},
     "output_type": "execute_result"
    }
   ],
   "source": [
    "import numpy\n",
    "numpy.exp(-28)"
   ]
  },
  {
   "cell_type": "code",
   "execution_count": null,
   "metadata": {
    "collapsed": true
   },
   "outputs": [],
   "source": []
  }
 ],
 "metadata": {
  "anaconda-cloud": {},
  "kernelspec": {
   "display_name": "Python [Root]",
   "language": "python",
   "name": "Python [Root]"
  },
  "language_info": {
   "codemirror_mode": {
    "name": "ipython",
    "version": 3
   },
   "file_extension": ".py",
   "mimetype": "text/x-python",
   "name": "python",
   "nbconvert_exporter": "python",
   "pygments_lexer": "ipython3",
   "version": "3.5.2"
  }
 },
 "nbformat": 4,
 "nbformat_minor": 0
}

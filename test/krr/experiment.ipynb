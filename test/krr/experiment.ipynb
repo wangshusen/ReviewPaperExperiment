{
 "cells": [
  {
   "cell_type": "code",
   "execution_count": 4,
   "metadata": {
    "collapsed": false
   },
   "outputs": [
    {
     "name": "stdout",
     "output_type": "stream",
     "text": [
      "mse = 94.1547376237, sigma = 55.9742971507, gamma = 1.83258168876e-09\n",
      "mse = 94.5411126665, sigma = 12.3184403704, gamma = 7.42156205971e-09\n",
      "mse = 94.4381197623, sigma = 60.732190584, gamma = 2.33163180287e-09\n"
     ]
    },
    {
     "ename": "KeyboardInterrupt",
     "evalue": "",
     "output_type": "error",
     "traceback": [
      "\u001b[0;31m---------------------------------------------------------------------------\u001b[0m",
      "\u001b[0;31mKeyboardInterrupt\u001b[0m                         Traceback (most recent call last)",
      "\u001b[0;32m<ipython-input-4-3212f3b5abd1>\u001b[0m in \u001b[0;36m<module>\u001b[0;34m()\u001b[0m\n\u001b[1;32m     14\u001b[0m \u001b[0;31m# Nystrom, with 3 sketching methods\u001b[0m\u001b[0;34m\u001b[0m\u001b[0;34m\u001b[0m\u001b[0m\n\u001b[1;32m     15\u001b[0m \u001b[0mparameters\u001b[0m \u001b[0;34m=\u001b[0m \u001b[0;34m{\u001b[0m\u001b[0;34m'sketch'\u001b[0m\u001b[0;34m:\u001b[0m \u001b[0;34m'Uniform'\u001b[0m\u001b[0;34m,\u001b[0m \u001b[0;34m'method'\u001b[0m\u001b[0;34m:\u001b[0m \u001b[0;34m'Nystrom'\u001b[0m\u001b[0;34m,\u001b[0m \u001b[0;34m'sigmaLower'\u001b[0m\u001b[0;34m:\u001b[0m \u001b[0msigLower\u001b[0m\u001b[0;34m,\u001b[0m \u001b[0;34m'sigmaUpper'\u001b[0m\u001b[0;34m:\u001b[0m \u001b[0msigUpper\u001b[0m\u001b[0;34m,\u001b[0m \u001b[0;34m'sigmaNum'\u001b[0m\u001b[0;34m:\u001b[0m \u001b[0msigNum\u001b[0m\u001b[0;34m,\u001b[0m \u001b[0;34m'gammaLower'\u001b[0m\u001b[0;34m:\u001b[0m \u001b[0mgamLower\u001b[0m\u001b[0;34m,\u001b[0m \u001b[0;34m'gammaUpper'\u001b[0m\u001b[0;34m:\u001b[0m \u001b[0mgamUpper\u001b[0m\u001b[0;34m,\u001b[0m \u001b[0;34m'gammaNum'\u001b[0m\u001b[0;34m:\u001b[0m \u001b[0mgamNum\u001b[0m\u001b[0;34m}\u001b[0m\u001b[0;34m\u001b[0m\u001b[0m\n\u001b[0;32m---> 16\u001b[0;31m \u001b[0mkrrExperiment\u001b[0m\u001b[0;34m.\u001b[0m\u001b[0mkrrExperiment\u001b[0m\u001b[0;34m(\u001b[0m\u001b[0mdataName\u001b[0m\u001b[0;34m,\u001b[0m \u001b[0minputFileName\u001b[0m\u001b[0;34m,\u001b[0m \u001b[0mparameters\u001b[0m\u001b[0;34m,\u001b[0m \u001b[0msketchSizes\u001b[0m\u001b[0;34m)\u001b[0m\u001b[0;34m\u001b[0m\u001b[0m\n\u001b[0m\u001b[1;32m     17\u001b[0m \u001b[0;34m\u001b[0m\u001b[0m\n\u001b[1;32m     18\u001b[0m \u001b[0mparameters\u001b[0m \u001b[0;34m=\u001b[0m \u001b[0;34m{\u001b[0m\u001b[0;34m'sketch'\u001b[0m\u001b[0;34m:\u001b[0m \u001b[0;34m'Adaptive'\u001b[0m\u001b[0;34m,\u001b[0m \u001b[0;34m'method'\u001b[0m\u001b[0;34m:\u001b[0m \u001b[0;34m'Nystrom'\u001b[0m\u001b[0;34m,\u001b[0m \u001b[0;34m'sigmaLower'\u001b[0m\u001b[0;34m:\u001b[0m \u001b[0msigLower\u001b[0m\u001b[0;34m,\u001b[0m \u001b[0;34m'sigmaUpper'\u001b[0m\u001b[0;34m:\u001b[0m \u001b[0msigUpper\u001b[0m\u001b[0;34m,\u001b[0m \u001b[0;34m'sigmaNum'\u001b[0m\u001b[0;34m:\u001b[0m \u001b[0msigNum\u001b[0m\u001b[0;34m,\u001b[0m \u001b[0;34m'gammaLower'\u001b[0m\u001b[0;34m:\u001b[0m \u001b[0mgamLower\u001b[0m\u001b[0;34m,\u001b[0m \u001b[0;34m'gammaUpper'\u001b[0m\u001b[0;34m:\u001b[0m \u001b[0mgamUpper\u001b[0m\u001b[0;34m,\u001b[0m \u001b[0;34m'gammaNum'\u001b[0m\u001b[0;34m:\u001b[0m \u001b[0mgamNum\u001b[0m\u001b[0;34m}\u001b[0m\u001b[0;34m\u001b[0m\u001b[0m\n",
      "\u001b[0;32m/Users/shusenwang/Documents/Experiment/test/krr/krrExperiment.py\u001b[0m in \u001b[0;36mkrrExperiment\u001b[0;34m(dataName, inputFileName, parameters, sketchSizes)\u001b[0m\n\u001b[1;32m     44\u001b[0m             \u001b[0mmse\u001b[0m \u001b[0;34m=\u001b[0m \u001b[0;36m0\u001b[0m\u001b[0;34m\u001b[0m\u001b[0m\n\u001b[1;32m     45\u001b[0m             \u001b[0;32mfor\u001b[0m \u001b[0mj\u001b[0m \u001b[0;32min\u001b[0m \u001b[0mrange\u001b[0m\u001b[0;34m(\u001b[0m\u001b[0mnumRepeat2\u001b[0m\u001b[0;34m)\u001b[0m\u001b[0;34m:\u001b[0m\u001b[0;34m\u001b[0m\u001b[0m\n\u001b[0;32m---> 46\u001b[0;31m                 \u001b[0mmse\u001b[0m \u001b[0;34m=\u001b[0m  \u001b[0mtp\u001b[0m\u001b[0;34m.\u001b[0m\u001b[0mtrainPredict\u001b[0m\u001b[0;34m(\u001b[0m\u001b[0mmatXtrain\u001b[0m\u001b[0;34m,\u001b[0m \u001b[0mvecYtrain\u001b[0m\u001b[0;34m,\u001b[0m \u001b[0mmatXtest\u001b[0m\u001b[0;34m,\u001b[0m \u001b[0mvecYtest\u001b[0m\u001b[0;34m,\u001b[0m \u001b[0ms\u001b[0m\u001b[0;34m,\u001b[0m \u001b[0msigmaOpt\u001b[0m\u001b[0;34m,\u001b[0m \u001b[0mgammaOpt\u001b[0m\u001b[0;34m,\u001b[0m \u001b[0mparameters\u001b[0m\u001b[0;34m)\u001b[0m\u001b[0;34m\u001b[0m\u001b[0m\n\u001b[0m\u001b[1;32m     47\u001b[0m                 \u001b[0mMSEs\u001b[0m\u001b[0;34m[\u001b[0m\u001b[0ml\u001b[0m\u001b[0;34m,\u001b[0m \u001b[0mi\u001b[0m \u001b[0;34m*\u001b[0m \u001b[0mnumRepeat2\u001b[0m \u001b[0;34m+\u001b[0m \u001b[0mj\u001b[0m\u001b[0;34m]\u001b[0m \u001b[0;34m=\u001b[0m \u001b[0mmse\u001b[0m\u001b[0;34m\u001b[0m\u001b[0m\n\u001b[1;32m     48\u001b[0m             \u001b[0mt2\u001b[0m \u001b[0;34m=\u001b[0m \u001b[0mtime\u001b[0m\u001b[0;34m.\u001b[0m\u001b[0mtime\u001b[0m\u001b[0;34m(\u001b[0m\u001b[0;34m)\u001b[0m\u001b[0;34m\u001b[0m\u001b[0m\n",
      "\u001b[0;32m/Users/shusenwang/Documents/Experiment/main/krr/trainPredict.py\u001b[0m in \u001b[0;36mtrainPredict\u001b[0;34m(matXtrain, vecYtrain, matXtest, vecYtest, numFeature, sigmaOpt, gammaOpt, parameters)\u001b[0m\n\u001b[1;32m     10\u001b[0m     \u001b[0mn\u001b[0m \u001b[0;34m=\u001b[0m \u001b[0mmatXtrain\u001b[0m\u001b[0;34m.\u001b[0m\u001b[0mshape\u001b[0m\u001b[0;34m[\u001b[0m\u001b[0;36m0\u001b[0m\u001b[0;34m]\u001b[0m\u001b[0;34m\u001b[0m\u001b[0m\n\u001b[1;32m     11\u001b[0m     \u001b[0mm\u001b[0m \u001b[0;34m=\u001b[0m \u001b[0mmatXtest\u001b[0m\u001b[0;34m.\u001b[0m\u001b[0mshape\u001b[0m\u001b[0;34m[\u001b[0m\u001b[0;36m0\u001b[0m\u001b[0;34m]\u001b[0m\u001b[0;34m\u001b[0m\u001b[0m\n\u001b[0;32m---> 12\u001b[0;31m     \u001b[0mmatX\u001b[0m \u001b[0;34m=\u001b[0m \u001b[0mnumpy\u001b[0m\u001b[0;34m.\u001b[0m\u001b[0mconcatenate\u001b[0m\u001b[0;34m(\u001b[0m\u001b[0;34m(\u001b[0m\u001b[0mmatXtrain\u001b[0m\u001b[0;34m,\u001b[0m \u001b[0mmatXtest\u001b[0m\u001b[0;34m)\u001b[0m\u001b[0;34m)\u001b[0m\u001b[0;34m\u001b[0m\u001b[0m\n\u001b[0m\u001b[1;32m     13\u001b[0m     \u001b[0;32mdel\u001b[0m \u001b[0mmatXtrain\u001b[0m\u001b[0;34m\u001b[0m\u001b[0m\n\u001b[1;32m     14\u001b[0m     \u001b[0;32mdel\u001b[0m \u001b[0mmatXtest\u001b[0m\u001b[0;34m\u001b[0m\u001b[0m\n",
      "\u001b[0;31mKeyboardInterrupt\u001b[0m: "
     ]
    }
   ],
   "source": [
    "import krrExperiment\n",
    "import mkl\n",
    "\n",
    "mkl.set_num_threads(4)\n",
    "\n",
    "# The Music Year Prediction Dataset\n",
    "dataName = 'YearPrediction'\n",
    "inputFileName = 'YearPrediction_train_test_scaled'\n",
    "sketchSizes = [50, 70, 90, 110, 140, 170, 200, 240, 280, 320, 370, 420, 470, 530, 590, 650, 720, 790, 870, 950, 1040, 1140, 1250, 1370, 1500]\n",
    "sigLower = 10\n",
    "sigUpper = 70\n",
    "sigNum = 10\n",
    "gamLower = -29\n",
    "gamUpper = -18\n",
    "gamNum = 20\n",
    "\n",
    "# Nystrom, with 3 sketching methods\n",
    "parameters = {'sketch': 'Uniform', 'method': 'Nystrom', 'sigmaLower': sigLower, 'sigmaUpper': sigUpper, 'sigmaNum': sigNum, 'gammaLower': gamLower, 'gammaUpper': gamUpper, 'gammaNum': gamNum}\n",
    "krrExperiment.krrExperiment(dataName, inputFileName, parameters, sketchSizes)\n",
    "\n",
    "parameters = {'sketch': 'Adaptive', 'method': 'Nystrom', 'sigmaLower': sigLower, 'sigmaUpper': sigUpper, 'sigmaNum': sigNum, 'gammaLower': gamLower, 'gammaUpper': gamUpper, 'gammaNum': gamNum}\n",
    "krrExperiment.krrExperiment(dataName, inputFileName, parameters, sketchSizes)\n",
    "\n",
    "parameters = {'sketch': 'Kmeans', 'method': 'Nystrom', 'sigmaLower': sigLower, 'sigmaUpper': sigUpper, 'sigmaNum': sigNum, 'gammaLower': gamLower, 'gammaUpper': gamUpper, 'gammaNum': gamNum}\n",
    "krrExperiment.krrExperiment(dataName, inputFileName, parameters, sketchSizes)\n",
    "\n",
    "# FastSPSD, with 3 sketching methods\n",
    "parameters = {'sketch': 'Uniform', 'method': 'FastSPSD', 'sigmaLower': sigLower, 'sigmaUpper': sigUpper, 'sigmaNum': sigNum, 'gammaLower': gamLower, 'gammaUpper': gamUpper, 'gammaNum': gamNum}\n",
    "krrExperiment.krrExperiment(dataName, inputFileName, parameters, sketchSizes)\n",
    "\n",
    "parameters = {'sketch': 'Adaptive', 'method': 'FastSPSD', 'sigmaLower': sigLower, 'sigmaUpper': sigUpper, 'sigmaNum': sigNum, 'gammaLower': gamLower, 'gammaUpper': gamUpper, 'gammaNum': gamNum}\n",
    "krrExperiment.krrExperiment(dataName, inputFileName, parameters, sketchSizes)\n",
    "\n",
    "parameters = {'sketch': 'Kmeans', 'method': 'FastSPSD', 'sigmaLower': sigLower, 'sigmaUpper': sigUpper, 'sigmaNum': sigNum, 'gammaLower': gamLower, 'gammaUpper': gamUpper, 'gammaNum': gamNum}\n",
    "krrExperiment.krrExperiment(dataName, inputFileName, parameters, sketchSizes)\n",
    "\n",
    "# Random Feature Mapping\n",
    "parameters = {'method': 'RandFeature', 'sigmaLower': sigLower, 'sigmaUpper': sigUpper, 'sigmaNum': sigNum, 'gammaLower': gamLower, 'gammaUpper': gamUpper, 'gammaNum': gamNum}\n",
    "krrExperiment.krrExperiment(dataName, inputFileName, parameters, sketchSizes)\n",
    "\n",
    "\n"
   ]
  },
  {
   "cell_type": "code",
   "execution_count": 2,
   "metadata": {
    "collapsed": false
   },
   "outputs": [
    {
     "data": {
      "text/plain": [
       "6.914400106940203e-13"
      ]
     },
     "execution_count": 2,
     "metadata": {},
     "output_type": "execute_result"
    }
   ],
   "source": [
    "import numpy\n",
    "numpy.exp(-28)"
   ]
  }
 ],
 "metadata": {
  "anaconda-cloud": {},
  "kernelspec": {
   "display_name": "Python [Root]",
   "language": "python",
   "name": "Python [Root]"
  },
  "language_info": {
   "codemirror_mode": {
    "name": "ipython",
    "version": 3
   },
   "file_extension": ".py",
   "mimetype": "text/x-python",
   "name": "python",
   "nbconvert_exporter": "python",
   "pygments_lexer": "ipython3",
   "version": "3.5.2"
  }
 },
 "nbformat": 4,
 "nbformat_minor": 0
}

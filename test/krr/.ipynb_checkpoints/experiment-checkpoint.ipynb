{
 "cells": [
  {
   "cell_type": "code",
   "execution_count": 1,
   "metadata": {
    "collapsed": false
   },
   "outputs": [
    {
     "name": "stdout",
     "output_type": "stream",
     "text": [
      "mse = 94.1469800503, sigma = 13.6001668534, gamma = 1.13864113958e-08\n",
      "cost time 29.710749864578247\n",
      "mse = 94.2267637042, sigma = 32.086896884, gamma = 7.50957027197e-09\n",
      "cost time 29.323565006256104\n",
      "mse = 94.0702569606, sigma = 56.103713681, gamma = 1.47675320685e-09\n",
      "cost time 30.806961059570312\n",
      "mse = 94.158567015, sigma = 43.3110940152, gamma = 3.31522481313e-09\n",
      "cost time 30.86929702758789\n",
      "mse = 93.9795742942, sigma = 64.9007998678, gamma = 1.75487404074e-09\n",
      "cost time 30.91205596923828\n",
      "mse = 93.5558695326, sigma = 58.1939244238, gamma = 1.72132824049e-09\n",
      "cost time 30.865988969802856\n",
      "mse = 94.2424768558, sigma = 62.6140157999, gamma = 1.408546427e-09\n",
      "cost time 30.601866006851196\n",
      "mse = 93.8887769429, sigma = 13.426796943, gamma = 7.8412626727e-09\n",
      "cost time 32.63304090499878\n",
      "mse = 94.5110155565, sigma = 62.9645967693, gamma = 2.37499975435e-09\n",
      "cost time 31.628966093063354\n"
     ]
    },
    {
     "ename": "KeyboardInterrupt",
     "evalue": "",
     "output_type": "error",
     "traceback": [
      "\u001b[0;31m---------------------------------------------------------------------------\u001b[0m",
      "\u001b[0;31mKeyboardInterrupt\u001b[0m                         Traceback (most recent call last)",
      "\u001b[0;32m<ipython-input-1-e76a8911601e>\u001b[0m in \u001b[0;36m<module>\u001b[0;34m()\u001b[0m\n\u001b[1;32m     17\u001b[0m \u001b[0;31m# Nystrom, with 3 sketching methods\u001b[0m\u001b[0;34m\u001b[0m\u001b[0;34m\u001b[0m\u001b[0m\n\u001b[1;32m     18\u001b[0m \u001b[0mparameters\u001b[0m \u001b[0;34m=\u001b[0m \u001b[0;34m{\u001b[0m\u001b[0;34m'sketch'\u001b[0m\u001b[0;34m:\u001b[0m \u001b[0;34m'Uniform'\u001b[0m\u001b[0;34m,\u001b[0m \u001b[0;34m'method'\u001b[0m\u001b[0;34m:\u001b[0m \u001b[0;34m'Nystrom'\u001b[0m\u001b[0;34m,\u001b[0m \u001b[0;34m'sigmaLower'\u001b[0m\u001b[0;34m:\u001b[0m \u001b[0msigLower\u001b[0m\u001b[0;34m,\u001b[0m \u001b[0;34m'sigmaUpper'\u001b[0m\u001b[0;34m:\u001b[0m \u001b[0msigUpper\u001b[0m\u001b[0;34m,\u001b[0m \u001b[0;34m'sigmaNum'\u001b[0m\u001b[0;34m:\u001b[0m \u001b[0msigNum\u001b[0m\u001b[0;34m,\u001b[0m \u001b[0;34m'gammaLower'\u001b[0m\u001b[0;34m:\u001b[0m \u001b[0mgamLower\u001b[0m\u001b[0;34m,\u001b[0m \u001b[0;34m'gammaUpper'\u001b[0m\u001b[0;34m:\u001b[0m \u001b[0mgamUpper\u001b[0m\u001b[0;34m,\u001b[0m \u001b[0;34m'gammaNum'\u001b[0m\u001b[0;34m:\u001b[0m \u001b[0mgamNum\u001b[0m\u001b[0;34m}\u001b[0m\u001b[0;34m\u001b[0m\u001b[0m\n\u001b[0;32m---> 19\u001b[0;31m \u001b[0mkrrExperiment\u001b[0m\u001b[0;34m.\u001b[0m\u001b[0mkrrExperiment\u001b[0m\u001b[0;34m(\u001b[0m\u001b[0mdataName\u001b[0m\u001b[0;34m,\u001b[0m \u001b[0minputFileName\u001b[0m\u001b[0;34m,\u001b[0m \u001b[0mparameters\u001b[0m\u001b[0;34m,\u001b[0m \u001b[0msketchSizes\u001b[0m\u001b[0;34m)\u001b[0m\u001b[0;34m\u001b[0m\u001b[0m\n\u001b[0m\u001b[1;32m     20\u001b[0m \u001b[0;34m\u001b[0m\u001b[0m\n\u001b[1;32m     21\u001b[0m \u001b[0mparameters\u001b[0m \u001b[0;34m=\u001b[0m \u001b[0;34m{\u001b[0m\u001b[0;34m'sketch'\u001b[0m\u001b[0;34m:\u001b[0m \u001b[0;34m'Adaptive'\u001b[0m\u001b[0;34m,\u001b[0m \u001b[0;34m'method'\u001b[0m\u001b[0;34m:\u001b[0m \u001b[0;34m'Nystrom'\u001b[0m\u001b[0;34m,\u001b[0m \u001b[0;34m'sigmaLower'\u001b[0m\u001b[0;34m:\u001b[0m \u001b[0msigLower\u001b[0m\u001b[0;34m,\u001b[0m \u001b[0;34m'sigmaUpper'\u001b[0m\u001b[0;34m:\u001b[0m \u001b[0msigUpper\u001b[0m\u001b[0;34m,\u001b[0m \u001b[0;34m'sigmaNum'\u001b[0m\u001b[0;34m:\u001b[0m \u001b[0msigNum\u001b[0m\u001b[0;34m,\u001b[0m \u001b[0;34m'gammaLower'\u001b[0m\u001b[0;34m:\u001b[0m \u001b[0mgamLower\u001b[0m\u001b[0;34m,\u001b[0m \u001b[0;34m'gammaUpper'\u001b[0m\u001b[0;34m:\u001b[0m \u001b[0mgamUpper\u001b[0m\u001b[0;34m,\u001b[0m \u001b[0;34m'gammaNum'\u001b[0m\u001b[0;34m:\u001b[0m \u001b[0mgamNum\u001b[0m\u001b[0;34m}\u001b[0m\u001b[0;34m\u001b[0m\u001b[0m\n",
      "\u001b[0;32m/Users/shusenwang/Documents/Experiment/test/krr/krrExperiment.py\u001b[0m in \u001b[0;36mkrrExperiment\u001b[0;34m(dataName, inputFileName, parameters, sketchSizes)\u001b[0m\n\u001b[1;32m     45\u001b[0m             \u001b[0mmse\u001b[0m \u001b[0;34m=\u001b[0m \u001b[0;36m0\u001b[0m\u001b[0;34m\u001b[0m\u001b[0m\n\u001b[1;32m     46\u001b[0m             \u001b[0;32mfor\u001b[0m \u001b[0mj\u001b[0m \u001b[0;32min\u001b[0m \u001b[0mrange\u001b[0m\u001b[0;34m(\u001b[0m\u001b[0mnumRepeat2\u001b[0m\u001b[0;34m)\u001b[0m\u001b[0;34m:\u001b[0m\u001b[0;34m\u001b[0m\u001b[0m\n\u001b[0;32m---> 47\u001b[0;31m                 \u001b[0mmse\u001b[0m \u001b[0;34m=\u001b[0m  \u001b[0mtp\u001b[0m\u001b[0;34m.\u001b[0m\u001b[0mtrainPredict\u001b[0m\u001b[0;34m(\u001b[0m\u001b[0mmatXtrain\u001b[0m\u001b[0;34m,\u001b[0m \u001b[0mvecYtrain\u001b[0m\u001b[0;34m,\u001b[0m \u001b[0mmatXtest\u001b[0m\u001b[0;34m,\u001b[0m \u001b[0mvecYtest\u001b[0m\u001b[0;34m,\u001b[0m \u001b[0ms\u001b[0m\u001b[0;34m,\u001b[0m \u001b[0msigmaOpt\u001b[0m\u001b[0;34m,\u001b[0m \u001b[0mgammaOpt\u001b[0m\u001b[0;34m,\u001b[0m \u001b[0mparameters\u001b[0m\u001b[0;34m)\u001b[0m\u001b[0;34m\u001b[0m\u001b[0m\n\u001b[0m\u001b[1;32m     48\u001b[0m                 \u001b[0mMSEs\u001b[0m\u001b[0;34m[\u001b[0m\u001b[0ml\u001b[0m\u001b[0;34m,\u001b[0m \u001b[0mi\u001b[0m \u001b[0;34m*\u001b[0m \u001b[0mnumRepeat2\u001b[0m \u001b[0;34m+\u001b[0m \u001b[0mj\u001b[0m\u001b[0;34m]\u001b[0m \u001b[0;34m=\u001b[0m \u001b[0mmse\u001b[0m\u001b[0;34m\u001b[0m\u001b[0m\n\u001b[1;32m     49\u001b[0m             \u001b[0mt2\u001b[0m \u001b[0;34m=\u001b[0m \u001b[0mtime\u001b[0m\u001b[0;34m.\u001b[0m\u001b[0mtime\u001b[0m\u001b[0;34m(\u001b[0m\u001b[0;34m)\u001b[0m\u001b[0;34m\u001b[0m\u001b[0m\n",
      "\u001b[0;32m/Users/shusenwang/Documents/Experiment/main/krr/trainPredict.py\u001b[0m in \u001b[0;36mtrainPredict\u001b[0;34m(***failed resolving arguments***)\u001b[0m\n\u001b[1;32m     16\u001b[0m     \u001b[0;31m# =========== Extract Features from the Data =========== #\u001b[0m\u001b[0;34m\u001b[0m\u001b[0;34m\u001b[0m\u001b[0m\n\u001b[1;32m     17\u001b[0m     \u001b[0;32mif\u001b[0m \u001b[0mparameters\u001b[0m\u001b[0;34m[\u001b[0m\u001b[0;34m'method'\u001b[0m\u001b[0;34m]\u001b[0m \u001b[0;34m==\u001b[0m \u001b[0;34m'Nystrom'\u001b[0m\u001b[0;34m:\u001b[0m\u001b[0;34m\u001b[0m\u001b[0m\n\u001b[0;32m---> 18\u001b[0;31m         \u001b[0mmatUL\u001b[0m\u001b[0;34m,\u001b[0m \u001b[0mvecSL\u001b[0m \u001b[0;34m=\u001b[0m \u001b[0mrbfKernelApprox\u001b[0m\u001b[0;34m.\u001b[0m\u001b[0mnystrom\u001b[0m\u001b[0;34m(\u001b[0m\u001b[0mmatX\u001b[0m\u001b[0;34m,\u001b[0m \u001b[0msigmaOpt\u001b[0m\u001b[0;34m,\u001b[0m \u001b[0mnumFeature\u001b[0m\u001b[0;34m,\u001b[0m \u001b[0mparameters\u001b[0m\u001b[0;34m[\u001b[0m\u001b[0;34m'sketch'\u001b[0m\u001b[0;34m]\u001b[0m\u001b[0;34m)\u001b[0m\u001b[0;34m\u001b[0m\u001b[0m\n\u001b[0m\u001b[1;32m     19\u001b[0m     \u001b[0;32mif\u001b[0m \u001b[0mparameters\u001b[0m\u001b[0;34m[\u001b[0m\u001b[0;34m'method'\u001b[0m\u001b[0;34m]\u001b[0m \u001b[0;34m==\u001b[0m \u001b[0;34m'FastSPSD'\u001b[0m\u001b[0;34m:\u001b[0m\u001b[0;34m\u001b[0m\u001b[0m\n\u001b[1;32m     20\u001b[0m         \u001b[0mmatUL\u001b[0m\u001b[0;34m,\u001b[0m \u001b[0mvecSL\u001b[0m \u001b[0;34m=\u001b[0m \u001b[0mrbfKernelApprox\u001b[0m\u001b[0;34m.\u001b[0m\u001b[0mfastSPSD\u001b[0m\u001b[0;34m(\u001b[0m\u001b[0mmatX\u001b[0m\u001b[0;34m,\u001b[0m \u001b[0msigmaOpt\u001b[0m\u001b[0;34m,\u001b[0m \u001b[0mnumFeature\u001b[0m\u001b[0;34m,\u001b[0m \u001b[0mparameters\u001b[0m\u001b[0;34m[\u001b[0m\u001b[0;34m'sketch'\u001b[0m\u001b[0;34m]\u001b[0m\u001b[0;34m)\u001b[0m\u001b[0;34m\u001b[0m\u001b[0m\n",
      "\u001b[0;32m/Users/shusenwang/Documents/Experiment/main/kernel/rbfKernelApprox.py\u001b[0m in \u001b[0;36mnystrom\u001b[0;34m(matX, sigma, s, sketching)\u001b[0m\n\u001b[1;32m     16\u001b[0m     \u001b[0;32melif\u001b[0m \u001b[0msketching\u001b[0m \u001b[0;34m==\u001b[0m \u001b[0;34m'Adaptive'\u001b[0m\u001b[0;34m:\u001b[0m\u001b[0;34m\u001b[0m\u001b[0m\n\u001b[1;32m     17\u001b[0m         \u001b[0marrIndex\u001b[0m \u001b[0;34m=\u001b[0m \u001b[0madaptiveSampling\u001b[0m\u001b[0;34m.\u001b[0m\u001b[0madaptiveSamplingRBF\u001b[0m\u001b[0;34m(\u001b[0m\u001b[0mmatX\u001b[0m\u001b[0;34m,\u001b[0m \u001b[0msigma\u001b[0m\u001b[0;34m,\u001b[0m \u001b[0ms\u001b[0m\u001b[0;34m)\u001b[0m\u001b[0;34m\u001b[0m\u001b[0m\n\u001b[0;32m---> 18\u001b[0;31m     \u001b[0mmatC\u001b[0m \u001b[0;34m=\u001b[0m \u001b[0mkernelFun\u001b[0m\u001b[0;34m.\u001b[0m\u001b[0mrbf\u001b[0m\u001b[0;34m(\u001b[0m\u001b[0mmatX\u001b[0m\u001b[0;34m,\u001b[0m \u001b[0mmatX\u001b[0m\u001b[0;34m[\u001b[0m\u001b[0marrIndex\u001b[0m\u001b[0;34m,\u001b[0m \u001b[0;34m:\u001b[0m\u001b[0;34m]\u001b[0m\u001b[0;34m,\u001b[0m \u001b[0msigma\u001b[0m\u001b[0;34m)\u001b[0m\u001b[0;34m\u001b[0m\u001b[0m\n\u001b[0m\u001b[1;32m     19\u001b[0m     \u001b[0mmatW\u001b[0m \u001b[0;34m=\u001b[0m \u001b[0mmatC\u001b[0m\u001b[0;34m[\u001b[0m\u001b[0marrIndex\u001b[0m\u001b[0;34m,\u001b[0m \u001b[0;34m:\u001b[0m\u001b[0;34m]\u001b[0m\u001b[0;34m\u001b[0m\u001b[0m\n\u001b[1;32m     20\u001b[0m     \u001b[0mmatUW\u001b[0m\u001b[0;34m,\u001b[0m \u001b[0mvecSW\u001b[0m\u001b[0;34m,\u001b[0m \u001b[0mmatVW\u001b[0m \u001b[0;34m=\u001b[0m \u001b[0mnumpy\u001b[0m\u001b[0;34m.\u001b[0m\u001b[0mlinalg\u001b[0m\u001b[0;34m.\u001b[0m\u001b[0msvd\u001b[0m\u001b[0;34m(\u001b[0m\u001b[0mmatW\u001b[0m\u001b[0;34m,\u001b[0m \u001b[0mfull_matrices\u001b[0m\u001b[0;34m=\u001b[0m\u001b[0;32mFalse\u001b[0m\u001b[0;34m)\u001b[0m\u001b[0;34m\u001b[0m\u001b[0m\n",
      "\u001b[0;32m/Users/shusenwang/Documents/Experiment/main/kernel/kernelFun.py\u001b[0m in \u001b[0;36mrbf\u001b[0;34m(matrixX1, matrixX2, sigma)\u001b[0m\n\u001b[1;32m     10\u001b[0m     \u001b[0mK\u001b[0m \u001b[0;34m=\u001b[0m \u001b[0mK\u001b[0m \u001b[0;34m-\u001b[0m \u001b[0mrowNormX2\u001b[0m\u001b[0;34m.\u001b[0m\u001b[0mreshape\u001b[0m\u001b[0;34m(\u001b[0m\u001b[0;36m1\u001b[0m\u001b[0;34m,\u001b[0m \u001b[0mn2\u001b[0m\u001b[0;34m)\u001b[0m\u001b[0;34m\u001b[0m\u001b[0m\n\u001b[1;32m     11\u001b[0m     \u001b[0mK\u001b[0m \u001b[0;34m=\u001b[0m \u001b[0mK\u001b[0m \u001b[0;34m/\u001b[0m \u001b[0;34m(\u001b[0m\u001b[0msigma\u001b[0m\u001b[0;34m**\u001b[0m\u001b[0;36m2\u001b[0m\u001b[0;34m)\u001b[0m\u001b[0;34m\u001b[0m\u001b[0m\n\u001b[0;32m---> 12\u001b[0;31m     \u001b[0;32mreturn\u001b[0m \u001b[0mnp\u001b[0m\u001b[0;34m.\u001b[0m\u001b[0mexp\u001b[0m\u001b[0;34m(\u001b[0m\u001b[0mK\u001b[0m\u001b[0;34m)\u001b[0m\u001b[0;34m\u001b[0m\u001b[0m\n\u001b[0m\u001b[1;32m     13\u001b[0m \u001b[0;34m\u001b[0m\u001b[0m\n",
      "\u001b[0;31mKeyboardInterrupt\u001b[0m: "
     ]
    }
   ],
   "source": [
    "# to run on EC2,\n",
    "# export MKL_NUM_THREADS=16 (or however many cores)\n",
    "# export MKL_DYNAMIC=FALSE\n",
    "\n",
    "import krrExperiment\n",
    "import mkl\n",
    "\n",
    "mkl.set_num_threads(4)\n",
    "mkl.get_max_threads()\n",
    "\n",
    "# The Music Year Prediction Dataset\n",
    "dataName = 'YearPrediction'\n",
    "inputFileName = 'YearPrediction_train_test_scaled'\n",
    "sketchSizes = [50, 70, 90, 110, 140, 170, 200, 240, 280, 320, 370, 420, 470, 530, 590, 650, 720, 790, 870, 950, 1040, 1140, 1250, 1370, 1500]\n",
    "sigLower = 10\n",
    "sigUpper = 70\n",
    "sigNum = 10\n",
    "gamLower = -29\n",
    "gamUpper = -18\n",
    "gamNum = 20\n",
    "\n",
    "# Nystrom, with 3 sketching methods\n",
    "parameters = {'sketch': 'Uniform', 'method': 'Nystrom', 'sigmaLower': sigLower, 'sigmaUpper': sigUpper, 'sigmaNum': sigNum, 'gammaLower': gamLower, 'gammaUpper': gamUpper, 'gammaNum': gamNum}\n",
    "krrExperiment.krrExperiment(dataName, inputFileName, parameters, sketchSizes)\n",
    "\n",
    "parameters = {'sketch': 'Adaptive', 'method': 'Nystrom', 'sigmaLower': sigLower, 'sigmaUpper': sigUpper, 'sigmaNum': sigNum, 'gammaLower': gamLower, 'gammaUpper': gamUpper, 'gammaNum': gamNum}\n",
    "krrExperiment.krrExperiment(dataName, inputFileName, parameters, sketchSizes)\n",
    "\n",
    "parameters = {'sketch': 'Kmeans', 'method': 'Nystrom', 'sigmaLower': sigLower, 'sigmaUpper': sigUpper, 'sigmaNum': sigNum, 'gammaLower': gamLower, 'gammaUpper': gamUpper, 'gammaNum': gamNum}\n",
    "krrExperiment.krrExperiment(dataName, inputFileName, parameters, sketchSizes)\n",
    "\n",
    "# FastSPSD, with 3 sketching methods\n",
    "parameters = {'sketch': 'Uniform', 'method': 'FastSPSD', 'sigmaLower': sigLower, 'sigmaUpper': sigUpper, 'sigmaNum': sigNum, 'gammaLower': gamLower, 'gammaUpper': gamUpper, 'gammaNum': gamNum}\n",
    "krrExperiment.krrExperiment(dataName, inputFileName, parameters, sketchSizes)\n",
    "\n",
    "parameters = {'sketch': 'Adaptive', 'method': 'FastSPSD', 'sigmaLower': sigLower, 'sigmaUpper': sigUpper, 'sigmaNum': sigNum, 'gammaLower': gamLower, 'gammaUpper': gamUpper, 'gammaNum': gamNum}\n",
    "krrExperiment.krrExperiment(dataName, inputFileName, parameters, sketchSizes)\n",
    "\n",
    "parameters = {'sketch': 'Kmeans', 'method': 'FastSPSD', 'sigmaLower': sigLower, 'sigmaUpper': sigUpper, 'sigmaNum': sigNum, 'gammaLower': gamLower, 'gammaUpper': gamUpper, 'gammaNum': gamNum}\n",
    "krrExperiment.krrExperiment(dataName, inputFileName, parameters, sketchSizes)\n",
    "\n",
    "# Random Feature Mapping\n",
    "parameters = {'method': 'RandFeature', 'sigmaLower': sigLower, 'sigmaUpper': sigUpper, 'sigmaNum': sigNum, 'gammaLower': gamLower, 'gammaUpper': gamUpper, 'gammaNum': gamNum}\n",
    "krrExperiment.krrExperiment(dataName, inputFileName, parameters, sketchSizes)\n",
    "\n",
    "\n"
   ]
  },
  {
   "cell_type": "code",
   "execution_count": 2,
   "metadata": {
    "collapsed": false
   },
   "outputs": [
    {
     "data": {
      "text/plain": [
       "4"
      ]
     },
     "execution_count": 2,
     "metadata": {},
     "output_type": "execute_result"
    }
   ],
   "source": [
    "import mkl\n",
    "\n",
    "mkl.get_max_threads()"
   ]
  },
  {
   "cell_type": "code",
   "execution_count": null,
   "metadata": {
    "collapsed": true
   },
   "outputs": [],
   "source": []
  }
 ],
 "metadata": {
  "anaconda-cloud": {},
  "kernelspec": {
   "display_name": "Python [Root]",
   "language": "python",
   "name": "Python [Root]"
  },
  "language_info": {
   "codemirror_mode": {
    "name": "ipython",
    "version": 3
   },
   "file_extension": ".py",
   "mimetype": "text/x-python",
   "name": "python",
   "nbconvert_exporter": "python",
   "pygments_lexer": "ipython3",
   "version": "3.5.2"
  }
 },
 "nbformat": 4,
 "nbformat_minor": 0
}

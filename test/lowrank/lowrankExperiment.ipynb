{
 "cells": [
  {
   "cell_type": "code",
   "execution_count": 1,
   "metadata": {
    "collapsed": false
   },
   "outputs": [
    {
     "name": "stdout",
     "output_type": "stream",
     "text": [
      "(39861, 28102)\n"
     ]
    }
   ],
   "source": [
    "import numpy\n",
    "import time\n",
    "import scipy.io\n",
    "import lowrankExperiment\n",
    "\n",
    "import mkl\n",
    "mkl.set_num_threads(4)\n",
    "mkl.get_max_threads()\n",
    "\n",
    "#### To Be Specified\n",
    "filename = 'enron.mat' \n",
    "\n",
    "# load data\n",
    "dataDict = scipy.io.loadmat('../../resource/data/' + filename)\n",
    "matA = dataDict['A']\n",
    "print(matA.shape)\n",
    "del dataDict\n",
    "\n",
    "\n"
   ]
  },
  {
   "cell_type": "code",
   "execution_count": 2,
   "metadata": {
    "collapsed": false
   },
   "outputs": [
    {
     "name": "stdout",
     "output_type": "stream",
     "text": [
      "\n",
      "Sketch is Count,   Model is OptCX\n",
      "c = 150\n",
      "Frobenius Error = 1.1717687001    Spectral Error = 20.2413618577\n",
      "Frobenius Error = 1.17364236548    Spectral Error = 20.27372792\n",
      "Time cost is 6.27110600471\n",
      "c = 200\n",
      "Frobenius Error = 1.1401681594    Spectral Error = 19.6954879329\n",
      "Frobenius Error = 1.14300563224    Spectral Error = 19.7445029941\n",
      "Time cost is 6.5065060854\n",
      "\n",
      "Sketch is Gauss,   Model is OptCX\n",
      "c = 150\n"
     ]
    },
    {
     "ename": "KeyboardInterrupt",
     "evalue": "",
     "output_type": "error",
     "traceback": [
      "\u001b[0;31m---------------------------------------------------------------------------\u001b[0m",
      "\u001b[0;31mKeyboardInterrupt\u001b[0m                         Traceback (most recent call last)",
      "\u001b[0;32m<ipython-input-2-3edd7250ed33>\u001b[0m in \u001b[0;36m<module>\u001b[0;34m()\u001b[0m\n\u001b[0;32m----> 1\u001b[0;31m \u001b[0mresultDict\u001b[0m \u001b[0;34m=\u001b[0m \u001b[0mlowrankExperiment\u001b[0m\u001b[0;34m.\u001b[0m\u001b[0mrunExperiment\u001b[0m\u001b[0;34m(\u001b[0m\u001b[0mmatA\u001b[0m\u001b[0;34m)\u001b[0m\u001b[0;34m\u001b[0m\u001b[0m\n\u001b[0m",
      "\u001b[0;32m/Users/shusenwang/Documents/Experiment/test/lowrank/lowrankExperiment.py\u001b[0m in \u001b[0;36mrunExperiment\u001b[0;34m(matA)\u001b[0m\n\u001b[1;32m     97\u001b[0m     \u001b[0mprint\u001b[0m\u001b[0;34m(\u001b[0m\u001b[0;34m''\u001b[0m\u001b[0;34m)\u001b[0m\u001b[0;34m\u001b[0m\u001b[0m\n\u001b[1;32m     98\u001b[0m     \u001b[0mprint\u001b[0m\u001b[0;34m(\u001b[0m\u001b[0;34m'Sketch is '\u001b[0m \u001b[0;34m+\u001b[0m \u001b[0mparam\u001b[0m\u001b[0;34m[\u001b[0m\u001b[0;34m'sketch'\u001b[0m\u001b[0;34m]\u001b[0m \u001b[0;34m+\u001b[0m \u001b[0;34m',   Model is '\u001b[0m \u001b[0;34m+\u001b[0m \u001b[0mparam\u001b[0m\u001b[0;34m[\u001b[0m\u001b[0;34m'model'\u001b[0m\u001b[0;34m]\u001b[0m\u001b[0;34m)\u001b[0m\u001b[0;34m\u001b[0m\u001b[0m\n\u001b[0;32m---> 99\u001b[0;31m     \u001b[0mErrorFro\u001b[0m\u001b[0;34m,\u001b[0m \u001b[0mErrorSpe\u001b[0m\u001b[0;34m,\u001b[0m \u001b[0mTime0\u001b[0m\u001b[0;34m,\u001b[0m \u001b[0mTime1\u001b[0m \u001b[0;34m=\u001b[0m \u001b[0mlowrankExperiment\u001b[0m\u001b[0;34m(\u001b[0m\u001b[0mmatA\u001b[0m\u001b[0;34m,\u001b[0m \u001b[0mparam\u001b[0m\u001b[0;34m)\u001b[0m\u001b[0;34m\u001b[0m\u001b[0m\n\u001b[0m\u001b[1;32m    100\u001b[0m     \u001b[0mresultDict\u001b[0m\u001b[0;34m[\u001b[0m\u001b[0;34m'ErrorFro'\u001b[0m \u001b[0;34m+\u001b[0m \u001b[0mresultName\u001b[0m\u001b[0;34m]\u001b[0m \u001b[0;34m=\u001b[0m \u001b[0mErrorFro\u001b[0m\u001b[0;34m\u001b[0m\u001b[0m\n\u001b[1;32m    101\u001b[0m     \u001b[0mresultDict\u001b[0m\u001b[0;34m[\u001b[0m\u001b[0;34m'ErrorSpe'\u001b[0m \u001b[0;34m+\u001b[0m \u001b[0mresultName\u001b[0m\u001b[0;34m]\u001b[0m \u001b[0;34m=\u001b[0m \u001b[0mErrorSpe\u001b[0m\u001b[0;34m\u001b[0m\u001b[0m\n",
      "\u001b[0;32m/Users/shusenwang/Documents/Experiment/test/lowrank/lowrankExperiment.py\u001b[0m in \u001b[0;36mlowrankExperiment\u001b[0;34m(matA, param)\u001b[0m\n\u001b[1;32m     53\u001b[0m             \u001b[0mmatB\u001b[0m \u001b[0;34m=\u001b[0m \u001b[0mnumpy\u001b[0m\u001b[0;34m.\u001b[0m\u001b[0mdot\u001b[0m\u001b[0;34m(\u001b[0m\u001b[0mmatB\u001b[0m\u001b[0;34m,\u001b[0m \u001b[0mmatV\u001b[0m\u001b[0;34m)\u001b[0m\u001b[0;34m\u001b[0m\u001b[0m\n\u001b[1;32m     54\u001b[0m             \u001b[0mmatB\u001b[0m \u001b[0;34m=\u001b[0m \u001b[0mmatB\u001b[0m \u001b[0;34m-\u001b[0m \u001b[0mmatA\u001b[0m\u001b[0;34m\u001b[0m\u001b[0m\n\u001b[0;32m---> 55\u001b[0;31m             \u001b[0mnormFroRes\u001b[0m \u001b[0;34m=\u001b[0m \u001b[0mnumpy\u001b[0m\u001b[0;34m.\u001b[0m\u001b[0mlinalg\u001b[0m\u001b[0;34m.\u001b[0m\u001b[0mnorm\u001b[0m\u001b[0;34m(\u001b[0m\u001b[0mmatB\u001b[0m\u001b[0;34m,\u001b[0m \u001b[0;34m'fro'\u001b[0m\u001b[0;34m)\u001b[0m\u001b[0;34m\u001b[0m\u001b[0m\n\u001b[0m\u001b[1;32m     56\u001b[0m             \u001b[0mnormSpeRes\u001b[0m \u001b[0;34m=\u001b[0m \u001b[0mnumpy\u001b[0m\u001b[0;34m.\u001b[0m\u001b[0mlinalg\u001b[0m\u001b[0;34m.\u001b[0m\u001b[0mnorm\u001b[0m\u001b[0;34m(\u001b[0m\u001b[0mmatB\u001b[0m\u001b[0;34m)\u001b[0m\u001b[0;34m\u001b[0m\u001b[0m\n\u001b[1;32m     57\u001b[0m             \u001b[0merrFro\u001b[0m \u001b[0;34m=\u001b[0m \u001b[0mnormFroRes\u001b[0m \u001b[0;34m/\u001b[0m \u001b[0mnormFroAres\u001b[0m\u001b[0;34m\u001b[0m\u001b[0m\n",
      "\u001b[0;31mKeyboardInterrupt\u001b[0m: "
     ]
    }
   ],
   "source": [
    "resultDict = lowrankExperiment.runExperiment(matA)"
   ]
  },
  {
   "cell_type": "code",
   "execution_count": null,
   "metadata": {
    "collapsed": false
   },
   "outputs": [],
   "source": [
    "t0 = time.time()\n",
    "matU, vecS, matV = scipy.sparse.linalg.svds(matA, k=100)\n",
    "t1 = time.time()\n",
    "print('elapsed time = ' + str(t1 - t0))\n",
    "print(vecS)"
   ]
  },
  {
   "cell_type": "code",
   "execution_count": 11,
   "metadata": {
    "collapsed": false
   },
   "outputs": [
    {
     "name": "stdout",
     "output_type": "stream",
     "text": [
      "<class 'numpy.ndarray'>\n"
     ]
    }
   ],
   "source": [
    "matB = matA[range(10), :]\n",
    "a = sum(matB).todense()\n",
    "print(type(numpy.array(a)))"
   ]
  },
  {
   "cell_type": "code",
   "execution_count": null,
   "metadata": {
    "collapsed": true
   },
   "outputs": [],
   "source": []
  }
 ],
 "metadata": {
  "anaconda-cloud": {},
  "kernelspec": {
   "display_name": "Python [Root]",
   "language": "python",
   "name": "Python [Root]"
  },
  "language_info": {
   "codemirror_mode": {
    "name": "ipython",
    "version": 3
   },
   "file_extension": ".py",
   "mimetype": "text/x-python",
   "name": "python",
   "nbconvert_exporter": "python",
   "pygments_lexer": "ipython3",
   "version": "3.5.2"
  }
 },
 "nbformat": 4,
 "nbformat_minor": 0
}

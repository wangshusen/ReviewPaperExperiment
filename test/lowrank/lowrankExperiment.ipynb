{
 "cells": [
  {
   "cell_type": "code",
   "execution_count": null,
   "metadata": {
    "collapsed": false
   },
   "outputs": [
    {
     "name": "stdout",
     "output_type": "stream",
     "text": [
      "(39861, 28102)\n"
     ]
    }
   ],
   "source": [
    "import numpy\n",
    "import time\n",
    "import scipy.io\n",
    "import lowrankExperiment\n",
    "\n",
    "#### To Be Specified\n",
    "filename = 'enron.mat' \n",
    "\n",
    "# load data\n",
    "dataname = filename[0:2]\n",
    "dataDict = scipy.io.loadmat('../../resource/data/' + filename)\n",
    "matA = dataDict['A']\n",
    "print(matA.shape)\n",
    "\n",
    "\n"
   ]
  },
  {
   "cell_type": "code",
   "execution_count": null,
   "metadata": {
    "collapsed": false
   },
   "outputs": [
    {
     "name": "stdout",
     "output_type": "stream",
     "text": [
      "\n",
      "Sketch is Gauss,   Model is OptCX\n",
      "c = 150\n",
      "Frobenius Error = 1.17253367238    Spectral Error = 20.2545761385\n"
     ]
    }
   ],
   "source": [
    "resultDict = lowrankExperiment.runExperiment(matA)"
   ]
  },
  {
   "cell_type": "code",
   "execution_count": null,
   "metadata": {
    "collapsed": false
   },
   "outputs": [],
   "source": [
    "t0 = time.time()\n",
    "matU, vecS, matV = scipy.sparse.linalg.svds(matA, k=100)\n",
    "t1 = time.time()\n",
    "print('elapsed time = ' + str(t1 - t0))\n",
    "print(vecS)"
   ]
  },
  {
   "cell_type": "code",
   "execution_count": null,
   "metadata": {
    "collapsed": true
   },
   "outputs": [],
   "source": []
  }
 ],
 "metadata": {
  "anaconda-cloud": {},
  "kernelspec": {
   "display_name": "Python [Root]",
   "language": "python",
   "name": "Python [Root]"
  },
  "language_info": {
   "codemirror_mode": {
    "name": "ipython",
    "version": 3
   },
   "file_extension": ".py",
   "mimetype": "text/x-python",
   "name": "python",
   "nbconvert_exporter": "python",
   "pygments_lexer": "ipython3",
   "version": "3.5.2"
  }
 },
 "nbformat": 4,
 "nbformat_minor": 0
}

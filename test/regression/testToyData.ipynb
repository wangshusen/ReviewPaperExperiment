{
 "cells": [
  {
   "cell_type": "code",
   "execution_count": 1,
   "metadata": {
    "collapsed": false
   },
   "outputs": [
    {
     "name": "stdout",
     "output_type": "stream",
     "text": [
      "(100000, 500)\n",
      "(100000, 500)\n"
     ]
    }
   ],
   "source": [
    "# Generate the Toy Data\n",
    "\n",
    "import numpy\n",
    "import sys\n",
    "sys.path.append('../../main/regression/')\n",
    "import toydata\n",
    "import scipy.io\n",
    "\n",
    "n = 100000\n",
    "d = 500\n",
    "\n",
    "datatype = 'NB'\n",
    "matX, vecW = toydata.generateXW(n, d, datatype)\n",
    "\n",
    "print(matX.shape)\n",
    "dataDict = {'n': n,\n",
    "           'd': d,\n",
    "           'matX': matX,\n",
    "           'vecW': vecW}\n",
    "outputFileName = datatype + '_n=' + str(n) + '_d=' + str(d) + '.mat'\n",
    "scipy.io.savemat(outputFileName, dataDict)\n",
    "\n",
    "mathDict = scipy.io.loadmat(outputFileName)\n",
    "print(matX.shape)"
   ]
  },
  {
   "cell_type": "code",
   "execution_count": null,
   "metadata": {
    "collapsed": true
   },
   "outputs": [],
   "source": []
  }
 ],
 "metadata": {
  "anaconda-cloud": {},
  "kernelspec": {
   "display_name": "Python [Root]",
   "language": "python",
   "name": "Python [Root]"
  },
  "language_info": {
   "codemirror_mode": {
    "name": "ipython",
    "version": 3
   },
   "file_extension": ".py",
   "mimetype": "text/x-python",
   "name": "python",
   "nbconvert_exporter": "python",
   "pygments_lexer": "ipython3",
   "version": "3.5.2"
  }
 },
 "nbformat": 4,
 "nbformat_minor": 0
}

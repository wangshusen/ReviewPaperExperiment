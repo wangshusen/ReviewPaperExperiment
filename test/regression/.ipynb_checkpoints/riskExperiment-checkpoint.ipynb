{
 "cells": [
  {
   "cell_type": "code",
   "execution_count": 1,
   "metadata": {
    "collapsed": false
   },
   "outputs": [
    {
     "name": "stdout",
     "output_type": "stream",
     "text": [
      "(100000, 500)\n",
      "0.990477424599\n"
     ]
    }
   ],
   "source": [
    "import numpy\n",
    "import sys\n",
    "sys.path.append('../../main/regression/')\n",
    "import scipy.io\n",
    "\n",
    "#### To Be Specified\n",
    "filename = 'NG_n=100000_d=500.mat' \n",
    "\n",
    "# load data\n",
    "dataname = filename[0:2]\n",
    "dataDict = scipy.io.loadmat(filename)\n",
    "matX = dataDict['matX']\n",
    "vecW = dataDict['vecW']\n",
    "print(matX.shape)\n",
    "matU, vecS, matV = numpy.linalg.svd(matX, full_matrices=False)\n",
    "vecLev = numpy.sum(matU ** 2, axis=1)\n",
    "print(max(vecLev))\n",
    "\n",
    "\n",
    "\n",
    "# Parameters Fixed for All the Experiments\n",
    "sketchSizes = [1200, 1300, 1400, 1500, 1600, 1800, 2000, 2300, 2600, 2900, 3300, 3700, 4100, 4500, 5000, 5500, 6000, 6600, 7200]\n",
    "vecGamma = [1e-12, 1e-6]"
   ]
  },
  {
   "cell_type": "code",
   "execution_count": 2,
   "metadata": {
    "collapsed": false
   },
   "outputs": [
    {
     "name": "stdout",
     "output_type": "stream",
     "text": [
      "NG_risk_xi=0.1.mat\n",
      "[1200, 1300, 1400, 1500, 1600, 1800, 2000, 2300, 2600, 2900, 3300, 3700, 4100, 4500, 5000, 5500, 6000, 6600, 7200]\n"
     ]
    }
   ],
   "source": [
    "import riskExperiment\n",
    "\n",
    "\n",
    "\n",
    "##### Parameters to Be Specified\n",
    "xi = 0.1 # 0.01, 0.02, 0.05, 0.1, 0.2\n",
    "\n",
    "# Name the output file by the data name + xi value\n",
    "outputFileName = dataname + '_risk_xi=' + str(xi) + '.mat'\n",
    "print(outputFileName)\n",
    "print(sketchSizes)"
   ]
  },
  {
   "cell_type": "code",
   "execution_count": 3,
   "metadata": {
    "collapsed": false
   },
   "outputs": [
    {
     "name": "stdout",
     "output_type": "stream",
     "text": [
      "Pass #0\n",
      "Doing optimal RR...\n",
      "Doing SRFT...\n"
     ]
    },
    {
     "ename": "NameError",
     "evalue": "name 'rrSolve2' is not defined",
     "output_type": "error",
     "traceback": [
      "\u001b[0;31m---------------------------------------------------------------------------\u001b[0m",
      "\u001b[0;31mNameError\u001b[0m                                 Traceback (most recent call last)",
      "\u001b[0;32m<ipython-input-3-9166b5d88eda>\u001b[0m in \u001b[0;36m<module>\u001b[0;34m()\u001b[0m\n\u001b[1;32m      1\u001b[0m \u001b[0msketchSizes\u001b[0m \u001b[0;34m=\u001b[0m \u001b[0;34m[\u001b[0m\u001b[0;36m1200\u001b[0m\u001b[0;34m]\u001b[0m\u001b[0;34m\u001b[0m\u001b[0m\n\u001b[1;32m      2\u001b[0m \u001b[0;34m\u001b[0m\u001b[0m\n\u001b[0;32m----> 3\u001b[0;31m \u001b[0mresultDict\u001b[0m \u001b[0;34m=\u001b[0m \u001b[0mriskExperiment\u001b[0m\u001b[0;34m.\u001b[0m\u001b[0mempiricalRiskRR\u001b[0m\u001b[0;34m(\u001b[0m\u001b[0mmatX\u001b[0m\u001b[0;34m,\u001b[0m \u001b[0mvecW\u001b[0m\u001b[0;34m,\u001b[0m \u001b[0mxi\u001b[0m\u001b[0;34m,\u001b[0m \u001b[0mvecGamma\u001b[0m\u001b[0;34m,\u001b[0m \u001b[0msketchSizes\u001b[0m\u001b[0;34m,\u001b[0m \u001b[0mmatU\u001b[0m\u001b[0;34m,\u001b[0m \u001b[0mvecS\u001b[0m\u001b[0;34m,\u001b[0m \u001b[0mmatV\u001b[0m\u001b[0;34m,\u001b[0m \u001b[0mvecLev\u001b[0m\u001b[0;34m)\u001b[0m\u001b[0;34m\u001b[0m\u001b[0m\n\u001b[0m\u001b[1;32m      4\u001b[0m \u001b[0;31m#scipy.io.savemat(outputFileName, resultDict)\u001b[0m\u001b[0;34m\u001b[0m\u001b[0;34m\u001b[0m\u001b[0m\n",
      "\u001b[0;32m/Users/shusenwang/Documents/Code/RandMatComputation/test/regression/riskExperiment.py\u001b[0m in \u001b[0;36mempiricalRiskRR\u001b[0;34m(matX, vecW, xi, vecGamma, sketchSizes, matU, vecS, matV, vecLev)\u001b[0m\n\u001b[1;32m    328\u001b[0m     \u001b[0;32mfor\u001b[0m \u001b[0mrep\u001b[0m \u001b[0;32min\u001b[0m \u001b[0mrange\u001b[0m\u001b[0;34m(\u001b[0m\u001b[0mRepeat\u001b[0m\u001b[0;34m)\u001b[0m\u001b[0;34m:\u001b[0m\u001b[0;34m\u001b[0m\u001b[0m\n\u001b[1;32m    329\u001b[0m         \u001b[0mprint\u001b[0m\u001b[0;34m(\u001b[0m\u001b[0;34m'Pass #'\u001b[0m \u001b[0;34m+\u001b[0m \u001b[0mstr\u001b[0m\u001b[0;34m(\u001b[0m\u001b[0mrep\u001b[0m\u001b[0;34m)\u001b[0m\u001b[0;34m)\u001b[0m\u001b[0;34m\u001b[0m\u001b[0m\n\u001b[0;32m--> 330\u001b[0;31m         \u001b[0mresultDict1\u001b[0m \u001b[0;34m=\u001b[0m \u001b[0mempiricalRiskRROnce\u001b[0m\u001b[0;34m(\u001b[0m\u001b[0mmatX\u001b[0m\u001b[0;34m,\u001b[0m \u001b[0mvecW\u001b[0m\u001b[0;34m,\u001b[0m \u001b[0mxi\u001b[0m\u001b[0;34m,\u001b[0m \u001b[0mvecGamma\u001b[0m\u001b[0;34m,\u001b[0m \u001b[0msketchSizes\u001b[0m\u001b[0;34m,\u001b[0m \u001b[0mmatU\u001b[0m\u001b[0;34m,\u001b[0m \u001b[0mvecS\u001b[0m\u001b[0;34m,\u001b[0m \u001b[0mmatV\u001b[0m\u001b[0;34m,\u001b[0m \u001b[0mvecLev\u001b[0m\u001b[0;34m)\u001b[0m\u001b[0;34m\u001b[0m\u001b[0m\n\u001b[0m\u001b[1;32m    331\u001b[0m \u001b[0;34m\u001b[0m\u001b[0m\n\u001b[1;32m    332\u001b[0m         \u001b[0mobj\u001b[0m \u001b[0;34m=\u001b[0m \u001b[0mresultDict1\u001b[0m\u001b[0;34m[\u001b[0m\u001b[0;34m'objRR'\u001b[0m\u001b[0;34m]\u001b[0m\u001b[0;34m\u001b[0m\u001b[0m\n",
      "\u001b[0;32m/Users/shusenwang/Documents/Code/RandMatComputation/test/regression/riskExperiment.py\u001b[0m in \u001b[0;36mempiricalRiskRROnce\u001b[0;34m(matX, vecW, xi, vecGamma, sketchSizes, matU, vecS, matV, vecLev)\u001b[0m\n\u001b[1;32m     85\u001b[0m                 \u001b[0mObjs\u001b[0m\u001b[0;34m[\u001b[0m\u001b[0mi\u001b[0m\u001b[0;34m,\u001b[0m \u001b[0mrep\u001b[0m\u001b[0;34m]\u001b[0m \u001b[0;34m=\u001b[0m \u001b[0;34m(\u001b[0m\u001b[0merr\u001b[0m \u001b[0;34m**\u001b[0m \u001b[0;36m2\u001b[0m\u001b[0;34m)\u001b[0m \u001b[0;34m/\u001b[0m \u001b[0mn\u001b[0m \u001b[0;34m+\u001b[0m \u001b[0mgamma\u001b[0m \u001b[0;34m*\u001b[0m \u001b[0;34m(\u001b[0m\u001b[0mreg\u001b[0m \u001b[0;34m**\u001b[0m \u001b[0;36m2\u001b[0m\u001b[0;34m)\u001b[0m\u001b[0;34m\u001b[0m\u001b[0m\n\u001b[1;32m     86\u001b[0m                 \u001b[0;31m# Method 2\u001b[0m\u001b[0;34m\u001b[0m\u001b[0;34m\u001b[0m\u001b[0m\n\u001b[0;32m---> 87\u001b[0;31m                 \u001b[0mvecRR\u001b[0m \u001b[0;34m=\u001b[0m \u001b[0mrrSolve2\u001b[0m\u001b[0;34m(\u001b[0m\u001b[0mmatVsketch\u001b[0m\u001b[0;34m,\u001b[0m \u001b[0mvecSsketch\u001b[0m\u001b[0;34m,\u001b[0m \u001b[0mvecXy\u001b[0m\u001b[0;34m,\u001b[0m \u001b[0mn\u001b[0m \u001b[0;34m*\u001b[0m \u001b[0mgamma\u001b[0m\u001b[0;34m)\u001b[0m\u001b[0;34m\u001b[0m\u001b[0m\n\u001b[0m\u001b[1;32m     88\u001b[0m                 \u001b[0mvecXw\u001b[0m \u001b[0;34m=\u001b[0m \u001b[0mnumpy\u001b[0m\u001b[0;34m.\u001b[0m\u001b[0mdot\u001b[0m\u001b[0;34m(\u001b[0m\u001b[0mmatX\u001b[0m\u001b[0;34m,\u001b[0m \u001b[0mvecRR\u001b[0m\u001b[0;34m)\u001b[0m\u001b[0;34m\u001b[0m\u001b[0m\n\u001b[1;32m     89\u001b[0m                 \u001b[0merr\u001b[0m \u001b[0;34m=\u001b[0m \u001b[0mnumpy\u001b[0m\u001b[0;34m.\u001b[0m\u001b[0mlinalg\u001b[0m\u001b[0;34m.\u001b[0m\u001b[0mnorm\u001b[0m\u001b[0;34m(\u001b[0m\u001b[0mvecXw\u001b[0m \u001b[0;34m-\u001b[0m \u001b[0mvecF\u001b[0m\u001b[0;34m)\u001b[0m\u001b[0;34m\u001b[0m\u001b[0m\n",
      "\u001b[0;31mNameError\u001b[0m: name 'rrSolve2' is not defined"
     ]
    }
   ],
   "source": [
    "sketchSizes = [1200]\n",
    "\n",
    "resultDict = riskExperiment.empiricalRiskRR(matX, vecW, xi, vecGamma, sketchSizes, matU, vecS, matV, vecLev)\n",
    "#scipy.io.savemat(outputFileName, resultDict)\n"
   ]
  },
  {
   "cell_type": "code",
   "execution_count": null,
   "metadata": {
    "collapsed": true
   },
   "outputs": [],
   "source": [
    "print(resultDict['riskSRFT'])\n",
    "print('')\n",
    "print(resultDict['riskSRFT2'])"
   ]
  },
  {
   "cell_type": "code",
   "execution_count": null,
   "metadata": {
    "collapsed": false
   },
   "outputs": [],
   "source": [
    "##### Parameters to Be Specified\n",
    "xi = 0.1 # 0.01, 0.02, 0.05, 0.1, 0.2\n",
    "\n",
    "# Name the output file by the data name + xi value\n",
    "outputFileName = dataname + '_risk_xi=' + str(xi) + '.mat'\n",
    "print(outputFileName)\n",
    "print(sketchSizes)\n",
    "\n",
    "\n",
    "resultDict = riskExperiment.empiricalRiskRR(matX, vecW, xi, vecGamma, sketchSizes, matU, vecS, matV, vecLev)\n",
    "scipy.io.savemat(outputFileName, resultDict)"
   ]
  },
  {
   "cell_type": "code",
   "execution_count": null,
   "metadata": {
    "collapsed": true
   },
   "outputs": [],
   "source": []
  }
 ],
 "metadata": {
  "anaconda-cloud": {},
  "kernelspec": {
   "display_name": "Python [Root]",
   "language": "python",
   "name": "Python [Root]"
  },
  "language_info": {
   "codemirror_mode": {
    "name": "ipython",
    "version": 3
   },
   "file_extension": ".py",
   "mimetype": "text/x-python",
   "name": "python",
   "nbconvert_exporter": "python",
   "pygments_lexer": "ipython3",
   "version": "3.5.2"
  }
 },
 "nbformat": 4,
 "nbformat_minor": 0
}

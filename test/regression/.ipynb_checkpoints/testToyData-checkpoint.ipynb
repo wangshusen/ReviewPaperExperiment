{
 "cells": [
  {
   "cell_type": "code",
   "execution_count": 1,
   "metadata": {
    "collapsed": false
   },
   "outputs": [
    {
     "name": "stdout",
     "output_type": "stream",
     "text": [
      "The Non-uniform Lev-Scores, Good-Condition-Number Data:\n",
      "  The max leverage score is 0.894249497822\n",
      "  The condition number is 10.0\n",
      "\n",
      "The Non-uniform Lev-Scores, Bad-Condition-Number Data:\n",
      "  The max leverage score is 0.916655311535\n",
      "  The condition number is 1000000.0\n",
      "\n",
      "The Uniform Lev-Scores, Good-Condition-Number Data:\n",
      "  The max leverage score is 0.100973025522\n",
      "  The condition number is 10.0\n",
      "\n",
      "The Uniform Lev-Scores, Bad-Condition-Number Data:\n",
      "  The max leverage score is 0.0866714664784\n",
      "  The condition number is 1000000.0\n"
     ]
    }
   ],
   "source": [
    "import numpy\n",
    "import sys\n",
    "sys.path.append('../../main/regression/')\n",
    "import toydata\n",
    "\n",
    "\n",
    "# Test the matrix X\n",
    "matX = toydata.generateX(500, 20, 'NG')\n",
    "matU, vecS = numpy.linalg.svd(matX, full_matrices=False)[0:2]\n",
    "vecLev = numpy.sum(matU ** 2, axis=1)\n",
    "condNum = max(vecS) / min(vecS)\n",
    "print('The Non-uniform Lev-Scores, Good-Condition-Number Data:')\n",
    "print('  The max leverage score is ' + str(max(vecLev)))\n",
    "print('  The condition number is ' + str(condNum))\n",
    "print('')\n",
    "\n",
    "matX = toydata.generateX(500, 20, 'NB')\n",
    "matU, vecS = numpy.linalg.svd(matX, full_matrices=False)[0:2]\n",
    "vecLev = numpy.sum(matU ** 2, axis=1)\n",
    "condNum = max(vecS) / min(vecS)\n",
    "print('The Non-uniform Lev-Scores, Bad-Condition-Number Data:')\n",
    "print('  The max leverage score is ' + str(max(vecLev)))\n",
    "print('  The condition number is ' + str(condNum))\n",
    "print('')\n",
    "\n",
    "matX = toydata.generateX(500, 20, 'UG')\n",
    "matU, vecS = numpy.linalg.svd(matX, full_matrices=False)[0:2]\n",
    "vecLev = numpy.sum(matU ** 2, axis=1)\n",
    "condNum = max(vecS) / min(vecS)\n",
    "print('The Uniform Lev-Scores, Good-Condition-Number Data:')\n",
    "print('  The max leverage score is ' + str(max(vecLev)))\n",
    "print('  The condition number is ' + str(condNum))\n",
    "print('')\n",
    "\n",
    "matX = toydata.generateX(500, 20, 'UB')\n",
    "matU, vecS = numpy.linalg.svd(matX, full_matrices=False)[0:2]\n",
    "vecLev = numpy.sum(matU ** 2, axis=1)\n",
    "condNum = max(vecS) / min(vecS)\n",
    "print('The Uniform Lev-Scores, Bad-Condition-Number Data:')\n",
    "print('  The max leverage score is ' + str(max(vecLev)))\n",
    "print('  The condition number is ' + str(condNum))"
   ]
  },
  {
   "cell_type": "code",
   "execution_count": 2,
   "metadata": {
    "collapsed": false
   },
   "outputs": [
    {
     "name": "stdout",
     "output_type": "stream",
     "text": [
      "vecW = \n",
      "[[ 1. ]\n",
      " [ 1. ]\n",
      " [ 0.1]\n",
      " [ 0.1]\n",
      " [ 0.1]\n",
      " [ 0.1]\n",
      " [ 0.1]\n",
      " [ 0.1]\n",
      " [ 1. ]\n",
      " [ 1. ]]\n",
      "\n",
      "[ vecF, vecY] = \n",
      "[[ 0.15233907  0.09538659]\n",
      " [-0.19630581 -0.2109072 ]\n",
      " [-0.16759498 -0.14896602]\n",
      " [-0.07112923 -0.03708853]\n",
      " [-0.05319881 -0.1087747 ]\n",
      " [-0.23860127 -0.21367306]\n",
      " [-0.27898941 -0.28409563]\n",
      " [ 0.02221642  0.00264771]\n",
      " [-0.25653714 -0.24058059]\n",
      " [-0.12163486 -0.11391141]\n",
      " [-0.05406982 -0.01170897]\n",
      " [ 0.05836638  0.05386421]\n",
      " [ 0.47528518  0.49234537]\n",
      " [ 0.01260592  0.01036113]\n",
      " [-0.20390274 -0.23564167]\n",
      " [-0.20263814 -0.22368132]\n",
      " [-0.08755681 -0.08402227]\n",
      " [ 0.11869151  0.11098487]\n",
      " [ 0.03269319  0.04012942]\n",
      " [ 0.11461796  0.16917035]\n",
      " [-0.40750341 -0.35376457]\n",
      " [-0.30096812 -0.32544126]\n",
      " [ 0.15976486  0.19348209]\n",
      " [ 0.03015579  0.06144878]\n",
      " [-0.59742652 -0.59583719]\n",
      " [ 0.34688423  0.36432744]\n",
      " [-0.1214447  -0.15097727]\n",
      " [-0.16289844 -0.14866649]\n",
      " [-0.32467588 -0.30627802]\n",
      " [-0.28190799 -0.23714559]\n",
      " [-0.12079505 -0.15617713]\n",
      " [-0.17223091 -0.18688537]\n",
      " [-0.04177495  0.00241046]\n",
      " [ 0.04851855  0.01900741]\n",
      " [-0.09982692 -0.0880919 ]\n",
      " [-0.21189063 -0.24179306]\n",
      " [-0.04089157 -0.07928043]\n",
      " [ 0.17270352  0.13481881]\n",
      " [-0.13085738 -0.10315499]\n",
      " [-0.12203955 -0.15425166]\n",
      " [-0.05982708 -0.07647032]\n",
      " [-0.09915859 -0.09455879]\n",
      " [ 0.35638556  0.38107466]\n",
      " [-0.13088003 -0.10672027]\n",
      " [-0.07299922 -0.03965797]\n",
      " [ 0.05947811  0.06761275]\n",
      " [ 0.26166904  0.27621906]\n",
      " [-0.49121833 -0.5309083 ]\n",
      " [-0.19785446 -0.19393161]\n",
      " [ 0.06172102  0.05666259]]\n"
     ]
    }
   ],
   "source": [
    "d = 10\n",
    "n = 50\n",
    "\n",
    "sigma = 0.03\n",
    "\n",
    "\n",
    "matX, vecY, vecW = toydata.generateDataLSR(n, d, 'UG', sigma)\n",
    "\n",
    "print('vecW = ')\n",
    "print(vecW)\n",
    "print('')\n",
    "vecF = numpy.dot(matX, vecW)\n",
    "print('[ vecF, vecY] = ')\n",
    "print(numpy.concatenate((vecF, vecY), axis=1))"
   ]
  },
  {
   "cell_type": "code",
   "execution_count": 1,
   "metadata": {
    "collapsed": false
   },
   "outputs": [
    {
     "name": "stdout",
     "output_type": "stream",
     "text": [
      "(100000, 500)\n",
      "(100000, 500)\n"
     ]
    }
   ],
   "source": [
    "# Generate the Toy Data\n",
    "\n",
    "import numpy\n",
    "import sys\n",
    "sys.path.append('../../main/regression/')\n",
    "import toydata\n",
    "import scipy.io\n",
    "\n",
    "n = 100000\n",
    "d = 500\n",
    "\n",
    "datatype = 'UB'\n",
    "matX, vecW = toydata.generateXW(n, d, datatype)\n",
    "\n",
    "print(matX.shape)\n",
    "dataDict = {'n': n,\n",
    "           'd': d,\n",
    "           'matX': matX,\n",
    "           'vecW': vecW}\n",
    "outputFileName = datatype + '_n=' + str(n) + '_d=' + str(d) + '.mat'\n",
    "scipy.io.savemat(outputFileName, dataDict)\n",
    "\n",
    "mathDict = scipy.io.loadmat(outputFileName)\n",
    "print(matX.shape)"
   ]
  },
  {
   "cell_type": "code",
   "execution_count": null,
   "metadata": {
    "collapsed": true
   },
   "outputs": [],
   "source": []
  }
 ],
 "metadata": {
  "anaconda-cloud": {},
  "kernelspec": {
   "display_name": "Python 3",
   "language": "python",
   "name": "python3"
  },
  "language_info": {
   "codemirror_mode": {
    "name": "ipython",
    "version": 3
   },
   "file_extension": ".py",
   "mimetype": "text/x-python",
   "name": "python",
   "nbconvert_exporter": "python",
   "pygments_lexer": "ipython3",
   "version": "3.4.5"
  }
 },
 "nbformat": 4,
 "nbformat_minor": 0
}

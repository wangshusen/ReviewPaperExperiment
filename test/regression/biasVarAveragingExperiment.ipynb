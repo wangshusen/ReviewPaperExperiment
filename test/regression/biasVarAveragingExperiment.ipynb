{
 "cells": [
  {
   "cell_type": "code",
   "execution_count": 2,
   "metadata": {
    "collapsed": false
   },
   "outputs": [
    {
     "name": "stdout",
     "output_type": "stream",
     "text": [
      "(100000, 500)\n"
     ]
    }
   ],
   "source": [
    "import numpy\n",
    "import sys\n",
    "sys.path.append('../../main/regression/')\n",
    "import scipy.io\n",
    "import biasVarModelAvg\n",
    "\n",
    "#### To Be Specified\n",
    "filename = 'UG_n=100000_d=500.mat' \n",
    "\n",
    "# load data\n",
    "dataname = filename[0:2]\n",
    "dataDict = scipy.io.loadmat(filename)\n",
    "matX = dataDict['matX']\n",
    "vecW = dataDict['vecW']\n",
    "print(matX.shape)\n",
    "matU, vecS, matV = numpy.linalg.svd(matX, full_matrices=False)"
   ]
  },
  {
   "cell_type": "code",
   "execution_count": 5,
   "metadata": {
    "collapsed": false
   },
   "outputs": [
    {
     "name": "stdout",
     "output_type": "stream",
     "text": [
      "Doing uniform sampling...\n",
      "iteration 0\n",
      "iteration 10\n",
      "iteration 20\n",
      "iteration 30\n",
      "iteration 40\n",
      "Doing leverage score sampling...\n",
      "iteration 0\n",
      "iteration 10\n",
      "iteration 20\n",
      "iteration 30\n",
      "iteration 40\n",
      "Doing shrinkage leverage score sampling...\n",
      "iteration 0\n",
      "iteration 10\n",
      "iteration 20\n",
      "iteration 30\n",
      "iteration 40\n",
      "Doing Gaussian projection...\n",
      "iteration 0\n",
      "iteration 10\n",
      "iteration 20\n",
      "iteration 30\n",
      "iteration 40\n",
      "Doing SRFT...\n",
      "iteration 0\n",
      "iteration 10\n",
      "iteration 20\n",
      "iteration 30\n",
      "iteration 40\n",
      "Doing count sketch...\n",
      "iteration 0\n",
      "iteration 10\n",
      "iteration 20\n",
      "iteration 30\n",
      "iteration 40\n",
      "{'biasGauss': array([ 0.05857622,  0.0459137 ,  0.04081386,  0.03762149,  0.03447421,\n",
      "        0.03258973,  0.03133968,  0.03057238,  0.02973893,  0.02921356,\n",
      "        0.02872763,  0.0284042 ,  0.02815324,  0.02793195,  0.02776496,\n",
      "        0.02762587,  0.02753683]), 'g': [1, 2, 3, 4, 6, 8, 10, 12, 15, 18, 22, 26, 30, 35, 40, 45, 50], 's': 1000, 'varOpt': 4.9999899184563451e-05, 'biasLev': array([ 0.05849587,  0.04550566,  0.0398151 ,  0.03700154,  0.03380427,\n",
      "        0.03201915,  0.03089629,  0.03012018,  0.02934212,  0.0288538 ,\n",
      "        0.02844297,  0.02811389,  0.02780994,  0.02752281,  0.02739268,\n",
      "        0.02722908,  0.02709391]), 'biasShrink': array([ 0.05884753,  0.04557993,  0.04042801,  0.03756166,  0.0341968 ,\n",
      "        0.03235051,  0.03107508,  0.03018128,  0.02947175,  0.02899013,\n",
      "        0.02850764,  0.02815882,  0.02785089,  0.02760766,  0.02742335,\n",
      "        0.02728482,  0.02715199]), 'varLev': array([ 0.00039622,  0.00029711,  0.00026399,  0.00024735,  0.00023087,\n",
      "        0.00022274,  0.00021778,  0.00021444,  0.00021117,  0.00020897,\n",
      "        0.00020699,  0.00020561,  0.00020461,  0.00020366,  0.00020295,\n",
      "        0.00020241,  0.00020196]), 'biasCount': array([ 0.06017025,  0.04599716,  0.04047044,  0.03743632,  0.03415111,\n",
      "        0.03239422,  0.0312753 ,  0.03038621,  0.02975024,  0.02924674,\n",
      "        0.028804  ,  0.0284179 ,  0.02817445,  0.02792088,  0.02776915,\n",
      "        0.02764692,  0.02752542]), 'xi': 0.1, 'varShrink': array([ 0.00039636,  0.00029719,  0.00026427,  0.0002477 ,  0.00023118,\n",
      "        0.00022291,  0.00021798,  0.00021466,  0.00021137,  0.00020914,\n",
      "        0.00020716,  0.00020579,  0.00020477,  0.00020383,  0.00020314,\n",
      "        0.00020259,  0.00020214]), 'varCount': array([ 0.00040204,  0.00030163,  0.00026812,  0.00025127,  0.00023443,\n",
      "        0.00022606,  0.00022097,  0.00021766,  0.00021428,  0.00021208,\n",
      "        0.00021006,  0.00020864,  0.0002076 ,  0.00020664,  0.00020592,\n",
      "        0.00020535,  0.00020491]), 'gamma': 1e-12, 'varUni': array([ 0.00039822,  0.00029912,  0.00026564,  0.00024875,  0.00023209,\n",
      "        0.00022389,  0.00021883,  0.00021552,  0.00021221,  0.00020995,\n",
      "        0.00020793,  0.00020651,  0.00020549,  0.00020453,  0.00020379,\n",
      "        0.00020326,  0.00020281]), 'varGauss': array([ 0.00040262,  0.00030173,  0.00026821,  0.00025134,  0.00023442,\n",
      "        0.00022598,  0.00022089,  0.00021756,  0.00021422,  0.000212  ,\n",
      "        0.00021001,  0.00020857,  0.00020753,  0.00020655,  0.00020584,\n",
      "        0.00020528,  0.00020483]), 'biasUni': array([ 0.05902964,  0.04594971,  0.04027924,  0.03705272,  0.03371948,\n",
      "        0.03185184,  0.03076473,  0.02994685,  0.02922101,  0.02876511,\n",
      "        0.02827647,  0.02800787,  0.02773396,  0.02753248,  0.02735675,\n",
      "        0.02726673,  0.02715658]), 'biasOpt': 1.321858502705177e-08, 'biasSrft': array([ 0.05803814,  0.04489214,  0.03975183,  0.03685058,  0.03363961,\n",
      "        0.0320936 ,  0.03094964,  0.03022493,  0.02945293,  0.02892207,\n",
      "        0.02846942,  0.02808758,  0.0279205 ,  0.0276374 ,  0.02744966,\n",
      "        0.02728526,  0.02717237]), 'varSrft': array([ 0.00039786,  0.00029809,  0.00026487,  0.00024845,  0.00023185,\n",
      "        0.00022371,  0.00021872,  0.00021542,  0.00021207,  0.00020989,\n",
      "        0.00020789,  0.00020648,  0.00020547,  0.00020451,  0.0002038 ,\n",
      "        0.00020325,  0.00020281])}\n"
     ]
    }
   ],
   "source": [
    "s = 1000\n",
    "gamma = 1e-12\n",
    "xi = 0.1\n",
    "vecG = [1, 2, 3, 4, 6, 8, 10, 12, 15, 18, 22, 26, 30, 35, 40, 45, 50]\n",
    "method = 'hat'\n",
    "\n",
    "resultDict = biasVarModelAvg.bvExperiment(matX, vecW, s, gamma, xi, vecG, method)\n",
    "print(resultDict)\n",
    "\n",
    "outputFileName = 'avg_' + method +'_' + dataname + '_s' + str(s) + '_gam' + str(gamma) + '.mat'\n",
    "scipy.io.savemat(outputFileName, resultDict)\n"
   ]
  },
  {
   "cell_type": "code",
   "execution_count": 10,
   "metadata": {
    "collapsed": false
   },
   "outputs": [
    {
     "data": {
      "image/png": "[encoded data removed]",
      "text/plain": [
       "<matplotlib.figure.Figure at 0x140cc72b0>"
      ]
     },
     "metadata": {},
     "output_type": "display_data"
    }
   ],
   "source": [
    "import matplotlib.pyplot as plt\n",
    "%matplotlib inline\n",
    "\n",
    "result = resultDict['biasCount'] \n",
    "plt.plot(resultDict['g'], result[0] / result)\n",
    "plt.show()"
   ]
  },
  {
   "cell_type": "code",
   "execution_count": 12,
   "metadata": {
    "collapsed": false
   },
   "outputs": [
    {
     "data": {
      "image/png": "[encoded data removed]",
      "text/plain": [
       "<matplotlib.figure.Figure at 0x140d23c88>"
      ]
     },
     "metadata": {},
     "output_type": "display_data"
    }
   ],
   "source": [
    "g = numpy.array(range(10)) + 1\n",
    "eta = 0.3\n",
    "y = eta / g + eta ** 2 / (1-eta)\n",
    "\n",
    "plt.plot(g, y[0] / y)\n",
    "plt.show()"
   ]
  },
  {
   "cell_type": "code",
   "execution_count": 1,
   "metadata": {
    "collapsed": false
   },
   "outputs": [
    {
     "name": "stdout",
     "output_type": "stream",
     "text": [
      "(100000, 500)\n"
     ]
    }
   ],
   "source": [
    "import numpy\n",
    "import scipy.io\n",
    "\n",
    "#### To Be Specified\n",
    "filename = 'NB_n=100000_d=500.mat' \n",
    "\n",
    "# load data\n",
    "dataname = filename[0:2]\n",
    "dataDict = scipy.io.loadmat(filename)\n",
    "matX = dataDict['matX']\n",
    "vecW = dataDict['vecW']\n",
    "print(matX.shape)"
   ]
  },
  {
   "cell_type": "code",
   "execution_count": 2,
   "metadata": {
    "collapsed": false
   },
   "outputs": [
    {
     "name": "stdout",
     "output_type": "stream",
     "text": [
      "(100000, 500)\n",
      "Doing uniform sampling...\n",
      "iteration 0\n",
      "iteration 10\n",
      "iteration 20\n",
      "iteration 30\n",
      "iteration 40\n",
      "Doing leverage score sampling...\n",
      "iteration 0\n",
      "iteration 10\n",
      "iteration 20\n",
      "iteration 30\n",
      "iteration 40\n",
      "Doing shrinkage leverage score sampling...\n",
      "iteration 0\n",
      "iteration 10\n"
     ]
    },
    {
     "ename": "KeyboardInterrupt",
     "evalue": "",
     "output_type": "error",
     "traceback": [
      "\u001b[0;31m---------------------------------------------------------------------------\u001b[0m",
      "\u001b[0;31mKeyboardInterrupt\u001b[0m                         Traceback (most recent call last)",
      "\u001b[0;32m<ipython-input-2-dcd45a9b9f02>\u001b[0m in \u001b[0;36m<module>\u001b[0;34m()\u001b[0m\n\u001b[1;32m      1\u001b[0m \u001b[0;32mimport\u001b[0m \u001b[0mbiasVarModelAvg\u001b[0m\u001b[0;34m\u001b[0m\u001b[0m\n\u001b[1;32m      2\u001b[0m \u001b[0;34m\u001b[0m\u001b[0m\n\u001b[0;32m----> 3\u001b[0;31m \u001b[0mbiasVarModelAvg\u001b[0m\u001b[0;34m.\u001b[0m\u001b[0mrun\u001b[0m\u001b[0;34m(\u001b[0m\u001b[0mfilename\u001b[0m\u001b[0;34m)\u001b[0m\u001b[0;34m\u001b[0m\u001b[0m\n\u001b[0m",
      "\u001b[0;32m/Users/shusenwang/Documents/Experiment/test/regression/biasVarModelAvg.py\u001b[0m in \u001b[0;36mrun\u001b[0;34m(filename)\u001b[0m\n\u001b[1;32m    335\u001b[0m     \u001b[0ms\u001b[0m \u001b[0;34m=\u001b[0m \u001b[0;36m1000\u001b[0m\u001b[0;34m\u001b[0m\u001b[0m\n\u001b[1;32m    336\u001b[0m     \u001b[0mgamma\u001b[0m \u001b[0;34m=\u001b[0m \u001b[0;36m1e-6\u001b[0m\u001b[0;34m\u001b[0m\u001b[0m\n\u001b[0;32m--> 337\u001b[0;31m     \u001b[0mresultDict\u001b[0m \u001b[0;34m=\u001b[0m \u001b[0mbvExperiment\u001b[0m\u001b[0;34m(\u001b[0m\u001b[0mmatX\u001b[0m\u001b[0;34m,\u001b[0m \u001b[0mvecW\u001b[0m\u001b[0;34m,\u001b[0m \u001b[0ms\u001b[0m\u001b[0;34m,\u001b[0m \u001b[0mgamma\u001b[0m\u001b[0;34m,\u001b[0m \u001b[0mxi\u001b[0m\u001b[0;34m,\u001b[0m \u001b[0mvecG\u001b[0m\u001b[0;34m,\u001b[0m \u001b[0mmethod\u001b[0m\u001b[0;34m)\u001b[0m\u001b[0;34m\u001b[0m\u001b[0m\n\u001b[0m\u001b[1;32m    338\u001b[0m     \u001b[0mprint\u001b[0m\u001b[0;34m(\u001b[0m\u001b[0mresultDict\u001b[0m\u001b[0;34m)\u001b[0m\u001b[0;34m\u001b[0m\u001b[0m\n\u001b[1;32m    339\u001b[0m     \u001b[0moutputFileName\u001b[0m \u001b[0;34m=\u001b[0m \u001b[0;34m'avg_'\u001b[0m \u001b[0;34m+\u001b[0m \u001b[0mmethod\u001b[0m \u001b[0;34m+\u001b[0m\u001b[0;34m'_'\u001b[0m \u001b[0;34m+\u001b[0m \u001b[0mdataname\u001b[0m \u001b[0;34m+\u001b[0m \u001b[0;34m'_s'\u001b[0m \u001b[0;34m+\u001b[0m \u001b[0mstr\u001b[0m\u001b[0;34m(\u001b[0m\u001b[0ms\u001b[0m\u001b[0;34m)\u001b[0m \u001b[0;34m+\u001b[0m \u001b[0;34m'_gam'\u001b[0m \u001b[0;34m+\u001b[0m \u001b[0mstr\u001b[0m\u001b[0;34m(\u001b[0m\u001b[0mgamma\u001b[0m\u001b[0;34m)\u001b[0m \u001b[0;34m+\u001b[0m \u001b[0;34m'.mat'\u001b[0m\u001b[0;34m\u001b[0m\u001b[0m\n",
      "\u001b[0;32m/Users/shusenwang/Documents/Experiment/test/regression/biasVarModelAvg.py\u001b[0m in \u001b[0;36mbvExperiment\u001b[0;34m(matX, matW0, s, gamma, xi, vecG, method)\u001b[0m\n\u001b[1;32m    274\u001b[0m         \u001b[0mbiasShrink\u001b[0m\u001b[0;34m,\u001b[0m \u001b[0mvarShrink\u001b[0m \u001b[0;34m=\u001b[0m \u001b[0mbvAvgTilde\u001b[0m\u001b[0;34m(\u001b[0m\u001b[0mvecS\u001b[0m\u001b[0;34m,\u001b[0m \u001b[0mmatU\u001b[0m\u001b[0;34m,\u001b[0m \u001b[0mmatVW0\u001b[0m\u001b[0;34m,\u001b[0m \u001b[0mgamma\u001b[0m\u001b[0;34m,\u001b[0m \u001b[0mxi\u001b[0m\u001b[0;34m,\u001b[0m \u001b[0;34m'shrink'\u001b[0m\u001b[0;34m,\u001b[0m \u001b[0ms\u001b[0m\u001b[0;34m,\u001b[0m \u001b[0mvecG\u001b[0m\u001b[0;34m)\u001b[0m\u001b[0;34m\u001b[0m\u001b[0m\n\u001b[1;32m    275\u001b[0m     \u001b[0;32melif\u001b[0m \u001b[0mmethod\u001b[0m \u001b[0;34m==\u001b[0m \u001b[0;34m'hat'\u001b[0m\u001b[0;34m:\u001b[0m\u001b[0;34m\u001b[0m\u001b[0m\n\u001b[0;32m--> 276\u001b[0;31m         \u001b[0mbiasShrink\u001b[0m\u001b[0;34m,\u001b[0m \u001b[0mvarShrink\u001b[0m \u001b[0;34m=\u001b[0m \u001b[0mbvAvgHat\u001b[0m\u001b[0;34m(\u001b[0m\u001b[0mvecS\u001b[0m\u001b[0;34m,\u001b[0m \u001b[0mmatU\u001b[0m\u001b[0;34m,\u001b[0m \u001b[0mmatVW0\u001b[0m\u001b[0;34m,\u001b[0m \u001b[0mgamma\u001b[0m\u001b[0;34m,\u001b[0m \u001b[0mxi\u001b[0m\u001b[0;34m,\u001b[0m \u001b[0;34m'shrink'\u001b[0m\u001b[0;34m,\u001b[0m \u001b[0ms\u001b[0m\u001b[0;34m,\u001b[0m \u001b[0mvecG\u001b[0m\u001b[0;34m)\u001b[0m\u001b[0;34m\u001b[0m\u001b[0m\n\u001b[0m\u001b[1;32m    277\u001b[0m \u001b[0;34m\u001b[0m\u001b[0m\n\u001b[1;32m    278\u001b[0m     \u001b[0;31m# Gaussian projection\u001b[0m\u001b[0;34m\u001b[0m\u001b[0;34m\u001b[0m\u001b[0m\n",
      "\u001b[0;32m/Users/shusenwang/Documents/Experiment/test/regression/biasVarModelAvg.py\u001b[0m in \u001b[0;36mbvAvgHat\u001b[0;34m(vecS, matU, matVW0, gamma, xi, sketch, s, vecG)\u001b[0m\n\u001b[1;32m    212\u001b[0m             \u001b[0mmat1\u001b[0m \u001b[0;34m=\u001b[0m \u001b[0mn\u001b[0m \u001b[0;34m*\u001b[0m \u001b[0mgamma\u001b[0m \u001b[0;34m/\u001b[0m \u001b[0mvecS\u001b[0m \u001b[0;34m/\u001b[0m \u001b[0mvecS\u001b[0m\u001b[0;34m\u001b[0m\u001b[0m\n\u001b[1;32m    213\u001b[0m             \u001b[0mmat1\u001b[0m \u001b[0;34m=\u001b[0m \u001b[0mnumpy\u001b[0m\u001b[0;34m.\u001b[0m\u001b[0mdiag\u001b[0m\u001b[0;34m(\u001b[0m\u001b[0mmat1\u001b[0m\u001b[0;34m)\u001b[0m \u001b[0;34m+\u001b[0m \u001b[0mmat0\u001b[0m\u001b[0;34m\u001b[0m\u001b[0m\n\u001b[0;32m--> 214\u001b[0;31m             \u001b[0mmat0\u001b[0m \u001b[0;34m=\u001b[0m \u001b[0mnumpy\u001b[0m\u001b[0;34m.\u001b[0m\u001b[0mlinalg\u001b[0m\u001b[0;34m.\u001b[0m\u001b[0mpinv\u001b[0m\u001b[0;34m(\u001b[0m\u001b[0mmat1\u001b[0m\u001b[0;34m)\u001b[0m\u001b[0;34m\u001b[0m\u001b[0m\n\u001b[0m\u001b[1;32m    215\u001b[0m             \u001b[0mmatSumV\u001b[0m \u001b[0;34m=\u001b[0m \u001b[0mmatSumV\u001b[0m \u001b[0;34m+\u001b[0m \u001b[0mmat0\u001b[0m\u001b[0;34m\u001b[0m\u001b[0m\n\u001b[1;32m    216\u001b[0m \u001b[0;34m\u001b[0m\u001b[0m\n",
      "\u001b[0;32m/Users/shusenwang/anaconda/lib/python3.5/site-packages/numpy/linalg/linalg.py\u001b[0m in \u001b[0;36mpinv\u001b[0;34m(a, rcond)\u001b[0m\n\u001b[1;32m   1615\u001b[0m     \u001b[0m_assertNoEmpty2d\u001b[0m\u001b[0;34m(\u001b[0m\u001b[0ma\u001b[0m\u001b[0;34m)\u001b[0m\u001b[0;34m\u001b[0m\u001b[0m\n\u001b[1;32m   1616\u001b[0m     \u001b[0ma\u001b[0m \u001b[0;34m=\u001b[0m \u001b[0ma\u001b[0m\u001b[0;34m.\u001b[0m\u001b[0mconjugate\u001b[0m\u001b[0;34m(\u001b[0m\u001b[0;34m)\u001b[0m\u001b[0;34m\u001b[0m\u001b[0m\n\u001b[0;32m-> 1617\u001b[0;31m     \u001b[0mu\u001b[0m\u001b[0;34m,\u001b[0m \u001b[0ms\u001b[0m\u001b[0;34m,\u001b[0m \u001b[0mvt\u001b[0m \u001b[0;34m=\u001b[0m \u001b[0msvd\u001b[0m\u001b[0;34m(\u001b[0m\u001b[0ma\u001b[0m\u001b[0;34m,\u001b[0m \u001b[0;36m0\u001b[0m\u001b[0;34m)\u001b[0m\u001b[0;34m\u001b[0m\u001b[0m\n\u001b[0m\u001b[1;32m   1618\u001b[0m     \u001b[0mm\u001b[0m \u001b[0;34m=\u001b[0m \u001b[0mu\u001b[0m\u001b[0;34m.\u001b[0m\u001b[0mshape\u001b[0m\u001b[0;34m[\u001b[0m\u001b[0;36m0\u001b[0m\u001b[0;34m]\u001b[0m\u001b[0;34m\u001b[0m\u001b[0m\n\u001b[1;32m   1619\u001b[0m     \u001b[0mn\u001b[0m \u001b[0;34m=\u001b[0m \u001b[0mvt\u001b[0m\u001b[0;34m.\u001b[0m\u001b[0mshape\u001b[0m\u001b[0;34m[\u001b[0m\u001b[0;36m1\u001b[0m\u001b[0;34m]\u001b[0m\u001b[0;34m\u001b[0m\u001b[0m\n",
      "\u001b[0;32m/Users/shusenwang/anaconda/lib/python3.5/site-packages/numpy/linalg/linalg.py\u001b[0m in \u001b[0;36msvd\u001b[0;34m(a, full_matrices, compute_uv)\u001b[0m\n\u001b[1;32m   1357\u001b[0m \u001b[0;34m\u001b[0m\u001b[0m\n\u001b[1;32m   1358\u001b[0m         \u001b[0msignature\u001b[0m \u001b[0;34m=\u001b[0m \u001b[0;34m'D->DdD'\u001b[0m \u001b[0;32mif\u001b[0m \u001b[0misComplexType\u001b[0m\u001b[0;34m(\u001b[0m\u001b[0mt\u001b[0m\u001b[0;34m)\u001b[0m \u001b[0;32melse\u001b[0m \u001b[0;34m'd->ddd'\u001b[0m\u001b[0;34m\u001b[0m\u001b[0m\n\u001b[0;32m-> 1359\u001b[0;31m         \u001b[0mu\u001b[0m\u001b[0;34m,\u001b[0m \u001b[0ms\u001b[0m\u001b[0;34m,\u001b[0m \u001b[0mvt\u001b[0m \u001b[0;34m=\u001b[0m \u001b[0mgufunc\u001b[0m\u001b[0;34m(\u001b[0m\u001b[0ma\u001b[0m\u001b[0;34m,\u001b[0m \u001b[0msignature\u001b[0m\u001b[0;34m=\u001b[0m\u001b[0msignature\u001b[0m\u001b[0;34m,\u001b[0m \u001b[0mextobj\u001b[0m\u001b[0;34m=\u001b[0m\u001b[0mextobj\u001b[0m\u001b[0;34m)\u001b[0m\u001b[0;34m\u001b[0m\u001b[0m\n\u001b[0m\u001b[1;32m   1360\u001b[0m         \u001b[0mu\u001b[0m \u001b[0;34m=\u001b[0m \u001b[0mu\u001b[0m\u001b[0;34m.\u001b[0m\u001b[0mastype\u001b[0m\u001b[0;34m(\u001b[0m\u001b[0mresult_t\u001b[0m\u001b[0;34m,\u001b[0m \u001b[0mcopy\u001b[0m\u001b[0;34m=\u001b[0m\u001b[0;32mFalse\u001b[0m\u001b[0;34m)\u001b[0m\u001b[0;34m\u001b[0m\u001b[0m\n\u001b[1;32m   1361\u001b[0m         \u001b[0ms\u001b[0m \u001b[0;34m=\u001b[0m \u001b[0ms\u001b[0m\u001b[0;34m.\u001b[0m\u001b[0mastype\u001b[0m\u001b[0;34m(\u001b[0m\u001b[0m_realType\u001b[0m\u001b[0;34m(\u001b[0m\u001b[0mresult_t\u001b[0m\u001b[0;34m)\u001b[0m\u001b[0;34m,\u001b[0m \u001b[0mcopy\u001b[0m\u001b[0;34m=\u001b[0m\u001b[0;32mFalse\u001b[0m\u001b[0;34m)\u001b[0m\u001b[0;34m\u001b[0m\u001b[0m\n",
      "\u001b[0;31mKeyboardInterrupt\u001b[0m: "
     ]
    }
   ],
   "source": [
    "import biasVarModelAvg\n",
    "filename = 'UB_n=100000_d=500.mat' \n",
    "biasVarModelAvg.run(filename)\n"
   ]
  },
  {
   "cell_type": "code",
   "execution_count": null,
   "metadata": {
    "collapsed": true
   },
   "outputs": [],
   "source": []
  }
 ],
 "metadata": {
  "anaconda-cloud": {},
  "kernelspec": {
   "display_name": "Python [Root]",
   "language": "python",
   "name": "Python [Root]"
  },
  "language_info": {
   "codemirror_mode": {
    "name": "ipython",
    "version": 3
   },
   "file_extension": ".py",
   "mimetype": "text/x-python",
   "name": "python",
   "nbconvert_exporter": "python",
   "pygments_lexer": "ipython3",
   "version": "3.5.2"
  }
 },
 "nbformat": 4,
 "nbformat_minor": 0
}

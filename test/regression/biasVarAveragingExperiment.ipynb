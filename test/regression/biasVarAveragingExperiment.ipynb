{
 "cells": [
  {
   "cell_type": "code",
   "execution_count": 1,
   "metadata": {
    "collapsed": false
   },
   "outputs": [
    {
     "name": "stdout",
     "output_type": "stream",
     "text": [
      "(100000, 500)\n"
     ]
    }
   ],
   "source": [
    "import numpy\n",
    "import sys\n",
    "sys.path.append('../../main/regression/')\n",
    "import scipy.io\n",
    "import biasVarModelAvg\n",
    "\n",
    "#### To Be Specified\n",
    "filename = 'NB_n=100000_d=500.mat' \n",
    "\n",
    "# load data\n",
    "dataname = filename[0:2]\n",
    "dataDict = scipy.io.loadmat(filename)\n",
    "matX = dataDict['matX']\n",
    "vecW = dataDict['vecW']\n",
    "print(matX.shape)\n",
    "matU, vecS, matV = numpy.linalg.svd(matX, full_matrices=False)"
   ]
  },
  {
   "cell_type": "code",
   "execution_count": 11,
   "metadata": {
    "collapsed": false
   },
   "outputs": [
    {
     "name": "stdout",
     "output_type": "stream",
     "text": [
      "Doing uniform sampling...\n",
      "iteration 0\n",
      "iteration 10\n",
      "iteration 20\n",
      "iteration 30\n",
      "iteration 40\n",
      "Doing leverage score sampling...\n",
      "iteration 0\n",
      "iteration 10\n",
      "iteration 20\n",
      "iteration 30\n",
      "iteration 40\n",
      "Doing shrinkage leverage score sampling...\n",
      "iteration 0\n",
      "iteration 10\n",
      "iteration 20\n",
      "iteration 30\n",
      "iteration 40\n",
      "Doing Gaussian projection...\n",
      "iteration 0\n",
      "iteration 10\n",
      "iteration 20\n",
      "iteration 30\n",
      "iteration 40\n",
      "Doing SRFT...\n",
      "iteration 0\n",
      "iteration 10\n",
      "iteration 20\n",
      "iteration 30\n",
      "iteration 40\n",
      "Doing count sketch...\n",
      "iteration 0\n",
      "iteration 10\n",
      "iteration 20\n",
      "iteration 30\n",
      "iteration 40\n",
      "{'biasOpt': 2.5848584798489399e-06, 'xi': 0.1, 'varShrink': array([  6.25372104e-05,   2.19071790e-04,   1.32214846e-04,\n",
      "         1.01576777e-04,   7.93542682e-05,   7.14488036e-05,\n",
      "         6.78203148e-05,   6.56846660e-05,   6.38872478e-05,\n",
      "         6.29246405e-05,   6.38554125e-05,   6.42153098e-05,\n",
      "         6.54051095e-05,   6.42887587e-05,   6.41676559e-05,\n",
      "         6.35213386e-05,   6.34748631e-05]), 'varCount': array([  3.26743232e-05,   3.19074740e-05,   3.15036691e-05,\n",
      "         3.13472264e-05,   3.11581841e-05,   3.10548513e-05,\n",
      "         3.09978035e-05,   3.09646713e-05,   3.09416652e-05,\n",
      "         3.09235021e-05,   3.08985006e-05,   3.08886777e-05,\n",
      "         3.08807957e-05,   3.08693147e-05,   3.08596764e-05,\n",
      "         3.08549259e-05,   3.08489008e-05]), 'varSrft': array([  3.22195713e-05,   3.13854876e-05,   3.11086827e-05,\n",
      "         3.09659637e-05,   3.08227704e-05,   3.07552922e-05,\n",
      "         3.07154930e-05,   3.06878344e-05,   3.06597189e-05,\n",
      "         3.06404533e-05,   3.06224814e-05,   3.06097977e-05,\n",
      "         3.06003871e-05,   3.05918258e-05,   3.05858653e-05,\n",
      "         3.05816310e-05,   3.05772370e-05]), 'biasUni': array([ 0.18576394,  0.18212777,  0.18291143,  0.18288957,  0.18248793,\n",
      "        0.18039695,  0.18107055,  0.18117103,  0.18030842,  0.18035007,\n",
      "        0.18008997,  0.18024753,  0.18025493,  0.17992679,  0.18020932,\n",
      "        0.17997294,  0.17963729]), 'biasShrink': array([ 0.00916381,  0.00981974,  0.00941596,  0.00923741,  0.00905797,\n",
      "        0.00897738,  0.00901012,  0.00895992,  0.00890822,  0.00892094,\n",
      "        0.0089119 ,  0.00893143,  0.00898375,  0.00896849,  0.0089887 ,\n",
      "        0.00897688,  0.00896127]), 'varUni': array([ 0.0752859 ,  0.07352408,  0.0743916 ,  0.07451625,  0.07349887,\n",
      "        0.07215326,  0.07260446,  0.07251137,  0.07162669,  0.07157719,\n",
      "        0.07111638,  0.07121466,  0.07126399,  0.07158303,  0.07173657,\n",
      "        0.07151304,  0.07108993]), 'g': [1, 2, 3, 4, 6, 8, 10, 12, 15, 18, 22, 26, 30, 35, 40, 45, 50], 'biasCount': array([ 0.00227579,  0.00181512,  0.00147951,  0.00130647,  0.00112167,\n",
      "        0.00100138,  0.00092448,  0.00087336,  0.00082276,  0.0007937 ,\n",
      "        0.00075118,  0.00072219,  0.00070493,  0.00068211,  0.00066549,\n",
      "        0.00065608,  0.00064646]), 'biasSrft': array([ 0.00216365,  0.00153936,  0.00129254,  0.00114315,  0.00097349,\n",
      "        0.00088584,  0.00082055,  0.00077934,  0.00073251,  0.00069822,\n",
      "        0.00066592,  0.00064668,  0.00062913,  0.0006119 ,  0.00059883,\n",
      "        0.00058599,  0.00057925]), 'gamma': 1e-12, 'varGauss': array([  3.24992091e-05,   3.16090097e-05,   3.13119779e-05,\n",
      "         3.11641828e-05,   3.10207911e-05,   3.09480612e-05,\n",
      "         3.09021172e-05,   3.08706272e-05,   3.08409110e-05,\n",
      "         3.08211746e-05,   3.08033561e-05,   3.07905221e-05,\n",
      "         3.07814161e-05,   3.07728058e-05,   3.07661783e-05,\n",
      "         3.07609391e-05,   3.07572639e-05]), 'varOpt': 2.7352392463947427e-05, 'biasGauss': array([ 0.00224125,  0.00162031,  0.00135792,  0.00120484,  0.00103356,\n",
      "        0.00093399,  0.00086751,  0.00081724,  0.00076836,  0.00073639,\n",
      "        0.00070187,  0.00067611,  0.00065777,  0.0006365 ,  0.00062505,\n",
      "        0.00061396,  0.00060747]), 's': 5000, 'biasLev': array([ 0.01429714,  0.01422704,  0.01421188,  0.01420263,  0.01419641,\n",
      "        0.01419351,  0.01418949,  0.01418237,  0.01418026,  0.01418249,\n",
      "        0.01417898,  0.01417692,  0.01417572,  0.01417553,  0.01417529,\n",
      "        0.01417399,  0.01417491]), 'varLev': array([  7.75852146e-05,   7.69005416e-05,   7.66674914e-05,\n",
      "         7.65522569e-05,   7.64438193e-05,   7.63883828e-05,\n",
      "         7.63562277e-05,   7.63343130e-05,   7.63151318e-05,\n",
      "         7.62995406e-05,   7.62837882e-05,   7.62740257e-05,\n",
      "         7.62660308e-05,   7.62593973e-05,   7.62538083e-05,\n",
      "         7.62518650e-05,   7.62487102e-05])}\n"
     ]
    }
   ],
   "source": [
    "s = 5000\n",
    "gamma = 1e-12\n",
    "xi = 0.1\n",
    "vecG = [1, 2, 3, 4, 6, 8, 10, 12, 15, 18, 22, 26, 30, 35, 40, 45, 50]\n",
    "method = 'hat'\n",
    "\n",
    "resultDict = biasVarModelAvg.bvExperiment(matX, vecW, s, gamma, xi, vecG, method)\n",
    "print(resultDict)\n",
    "\n",
    "outputFileName = 'avg_' + method +'_' + dataname + '_s' + str(s) + '_gam' + str(gamma) + '.mat'\n",
    "scipy.io.savemat(outputFileName, resultDict)\n"
   ]
  },
  {
   "cell_type": "code",
   "execution_count": 10,
   "metadata": {
    "collapsed": false
   },
   "outputs": [
    {
     "data": {
      "image/png": "[encoded data removed]",
      "text/plain": [
       "<matplotlib.figure.Figure at 0x140cc72b0>"
      ]
     },
     "metadata": {},
     "output_type": "display_data"
    }
   ],
   "source": [
    "import matplotlib.pyplot as plt\n",
    "%matplotlib inline\n",
    "\n",
    "result = resultDict['biasCount'] \n",
    "plt.plot(resultDict['g'], result[0] / result)\n",
    "plt.show()"
   ]
  },
  {
   "cell_type": "code",
   "execution_count": 12,
   "metadata": {
    "collapsed": false
   },
   "outputs": [
    {
     "data": {
      "image/png": "[encoded data removed]",
      "text/plain": [
       "<matplotlib.figure.Figure at 0x140d23c88>"
      ]
     },
     "metadata": {},
     "output_type": "display_data"
    }
   ],
   "source": [
    "g = numpy.array(range(10)) + 1\n",
    "eta = 0.3\n",
    "y = eta / g + eta ** 2 / (1-eta)\n",
    "\n",
    "plt.plot(g, y[0] / y)\n",
    "plt.show()"
   ]
  },
  {
   "cell_type": "code",
   "execution_count": 1,
   "metadata": {
    "collapsed": false
   },
   "outputs": [
    {
     "name": "stdout",
     "output_type": "stream",
     "text": [
      "(100000, 500)\n"
     ]
    }
   ],
   "source": [
    "import numpy\n",
    "import scipy.io\n",
    "\n",
    "#### To Be Specified\n",
    "filename = 'NB_n=100000_d=500.mat' \n",
    "\n",
    "# load data\n",
    "dataname = filename[0:2]\n",
    "dataDict = scipy.io.loadmat(filename)\n",
    "matX = dataDict['matX']\n",
    "vecW = dataDict['vecW']\n",
    "print(matX.shape)"
   ]
  },
  {
   "cell_type": "code",
   "execution_count": 2,
   "metadata": {
    "collapsed": false
   },
   "outputs": [
    {
     "name": "stdout",
     "output_type": "stream",
     "text": [
      "(100000, 500)\n",
      "Doing uniform sampling...\n",
      "iteration 0\n",
      "iteration 10\n",
      "iteration 20\n",
      "iteration 30\n",
      "iteration 40\n",
      "Doing leverage score sampling...\n",
      "iteration 0\n",
      "iteration 10\n",
      "iteration 20\n",
      "iteration 30\n",
      "iteration 40\n",
      "Doing shrinkage leverage score sampling...\n",
      "iteration 0\n",
      "iteration 10\n"
     ]
    },
    {
     "ename": "KeyboardInterrupt",
     "evalue": "",
     "output_type": "error",
     "traceback": [
      "\u001b[0;31m---------------------------------------------------------------------------\u001b[0m",
      "\u001b[0;31mKeyboardInterrupt\u001b[0m                         Traceback (most recent call last)",
      "\u001b[0;32m<ipython-input-2-dcd45a9b9f02>\u001b[0m in \u001b[0;36m<module>\u001b[0;34m()\u001b[0m\n\u001b[1;32m      1\u001b[0m \u001b[0;32mimport\u001b[0m \u001b[0mbiasVarModelAvg\u001b[0m\u001b[0;34m\u001b[0m\u001b[0m\n\u001b[1;32m      2\u001b[0m \u001b[0;34m\u001b[0m\u001b[0m\n\u001b[0;32m----> 3\u001b[0;31m \u001b[0mbiasVarModelAvg\u001b[0m\u001b[0;34m.\u001b[0m\u001b[0mrun\u001b[0m\u001b[0;34m(\u001b[0m\u001b[0mfilename\u001b[0m\u001b[0;34m)\u001b[0m\u001b[0;34m\u001b[0m\u001b[0m\n\u001b[0m",
      "\u001b[0;32m/Users/shusenwang/Documents/Experiment/test/regression/biasVarModelAvg.py\u001b[0m in \u001b[0;36mrun\u001b[0;34m(filename)\u001b[0m\n\u001b[1;32m    335\u001b[0m     \u001b[0ms\u001b[0m \u001b[0;34m=\u001b[0m \u001b[0;36m1000\u001b[0m\u001b[0;34m\u001b[0m\u001b[0m\n\u001b[1;32m    336\u001b[0m     \u001b[0mgamma\u001b[0m \u001b[0;34m=\u001b[0m \u001b[0;36m1e-6\u001b[0m\u001b[0;34m\u001b[0m\u001b[0m\n\u001b[0;32m--> 337\u001b[0;31m     \u001b[0mresultDict\u001b[0m \u001b[0;34m=\u001b[0m \u001b[0mbvExperiment\u001b[0m\u001b[0;34m(\u001b[0m\u001b[0mmatX\u001b[0m\u001b[0;34m,\u001b[0m \u001b[0mvecW\u001b[0m\u001b[0;34m,\u001b[0m \u001b[0ms\u001b[0m\u001b[0;34m,\u001b[0m \u001b[0mgamma\u001b[0m\u001b[0;34m,\u001b[0m \u001b[0mxi\u001b[0m\u001b[0;34m,\u001b[0m \u001b[0mvecG\u001b[0m\u001b[0;34m,\u001b[0m \u001b[0mmethod\u001b[0m\u001b[0;34m)\u001b[0m\u001b[0;34m\u001b[0m\u001b[0m\n\u001b[0m\u001b[1;32m    338\u001b[0m     \u001b[0mprint\u001b[0m\u001b[0;34m(\u001b[0m\u001b[0mresultDict\u001b[0m\u001b[0;34m)\u001b[0m\u001b[0;34m\u001b[0m\u001b[0m\n\u001b[1;32m    339\u001b[0m     \u001b[0moutputFileName\u001b[0m \u001b[0;34m=\u001b[0m \u001b[0;34m'avg_'\u001b[0m \u001b[0;34m+\u001b[0m \u001b[0mmethod\u001b[0m \u001b[0;34m+\u001b[0m\u001b[0;34m'_'\u001b[0m \u001b[0;34m+\u001b[0m \u001b[0mdataname\u001b[0m \u001b[0;34m+\u001b[0m \u001b[0;34m'_s'\u001b[0m \u001b[0;34m+\u001b[0m \u001b[0mstr\u001b[0m\u001b[0;34m(\u001b[0m\u001b[0ms\u001b[0m\u001b[0;34m)\u001b[0m \u001b[0;34m+\u001b[0m \u001b[0;34m'_gam'\u001b[0m \u001b[0;34m+\u001b[0m \u001b[0mstr\u001b[0m\u001b[0;34m(\u001b[0m\u001b[0mgamma\u001b[0m\u001b[0;34m)\u001b[0m \u001b[0;34m+\u001b[0m \u001b[0;34m'.mat'\u001b[0m\u001b[0;34m\u001b[0m\u001b[0m\n",
      "\u001b[0;32m/Users/shusenwang/Documents/Experiment/test/regression/biasVarModelAvg.py\u001b[0m in \u001b[0;36mbvExperiment\u001b[0;34m(matX, matW0, s, gamma, xi, vecG, method)\u001b[0m\n\u001b[1;32m    274\u001b[0m         \u001b[0mbiasShrink\u001b[0m\u001b[0;34m,\u001b[0m \u001b[0mvarShrink\u001b[0m \u001b[0;34m=\u001b[0m \u001b[0mbvAvgTilde\u001b[0m\u001b[0;34m(\u001b[0m\u001b[0mvecS\u001b[0m\u001b[0;34m,\u001b[0m \u001b[0mmatU\u001b[0m\u001b[0;34m,\u001b[0m \u001b[0mmatVW0\u001b[0m\u001b[0;34m,\u001b[0m \u001b[0mgamma\u001b[0m\u001b[0;34m,\u001b[0m \u001b[0mxi\u001b[0m\u001b[0;34m,\u001b[0m \u001b[0;34m'shrink'\u001b[0m\u001b[0;34m,\u001b[0m \u001b[0ms\u001b[0m\u001b[0;34m,\u001b[0m \u001b[0mvecG\u001b[0m\u001b[0;34m)\u001b[0m\u001b[0;34m\u001b[0m\u001b[0m\n\u001b[1;32m    275\u001b[0m     \u001b[0;32melif\u001b[0m \u001b[0mmethod\u001b[0m \u001b[0;34m==\u001b[0m \u001b[0;34m'hat'\u001b[0m\u001b[0;34m:\u001b[0m\u001b[0;34m\u001b[0m\u001b[0m\n\u001b[0;32m--> 276\u001b[0;31m         \u001b[0mbiasShrink\u001b[0m\u001b[0;34m,\u001b[0m \u001b[0mvarShrink\u001b[0m \u001b[0;34m=\u001b[0m \u001b[0mbvAvgHat\u001b[0m\u001b[0;34m(\u001b[0m\u001b[0mvecS\u001b[0m\u001b[0;34m,\u001b[0m \u001b[0mmatU\u001b[0m\u001b[0;34m,\u001b[0m \u001b[0mmatVW0\u001b[0m\u001b[0;34m,\u001b[0m \u001b[0mgamma\u001b[0m\u001b[0;34m,\u001b[0m \u001b[0mxi\u001b[0m\u001b[0;34m,\u001b[0m \u001b[0;34m'shrink'\u001b[0m\u001b[0;34m,\u001b[0m \u001b[0ms\u001b[0m\u001b[0;34m,\u001b[0m \u001b[0mvecG\u001b[0m\u001b[0;34m)\u001b[0m\u001b[0;34m\u001b[0m\u001b[0m\n\u001b[0m\u001b[1;32m    277\u001b[0m \u001b[0;34m\u001b[0m\u001b[0m\n\u001b[1;32m    278\u001b[0m     \u001b[0;31m# Gaussian projection\u001b[0m\u001b[0;34m\u001b[0m\u001b[0;34m\u001b[0m\u001b[0m\n",
      "\u001b[0;32m/Users/shusenwang/Documents/Experiment/test/regression/biasVarModelAvg.py\u001b[0m in \u001b[0;36mbvAvgHat\u001b[0;34m(vecS, matU, matVW0, gamma, xi, sketch, s, vecG)\u001b[0m\n\u001b[1;32m    212\u001b[0m             \u001b[0mmat1\u001b[0m \u001b[0;34m=\u001b[0m \u001b[0mn\u001b[0m \u001b[0;34m*\u001b[0m \u001b[0mgamma\u001b[0m \u001b[0;34m/\u001b[0m \u001b[0mvecS\u001b[0m \u001b[0;34m/\u001b[0m \u001b[0mvecS\u001b[0m\u001b[0;34m\u001b[0m\u001b[0m\n\u001b[1;32m    213\u001b[0m             \u001b[0mmat1\u001b[0m \u001b[0;34m=\u001b[0m \u001b[0mnumpy\u001b[0m\u001b[0;34m.\u001b[0m\u001b[0mdiag\u001b[0m\u001b[0;34m(\u001b[0m\u001b[0mmat1\u001b[0m\u001b[0;34m)\u001b[0m \u001b[0;34m+\u001b[0m \u001b[0mmat0\u001b[0m\u001b[0;34m\u001b[0m\u001b[0m\n\u001b[0;32m--> 214\u001b[0;31m             \u001b[0mmat0\u001b[0m \u001b[0;34m=\u001b[0m \u001b[0mnumpy\u001b[0m\u001b[0;34m.\u001b[0m\u001b[0mlinalg\u001b[0m\u001b[0;34m.\u001b[0m\u001b[0mpinv\u001b[0m\u001b[0;34m(\u001b[0m\u001b[0mmat1\u001b[0m\u001b[0;34m)\u001b[0m\u001b[0;34m\u001b[0m\u001b[0m\n\u001b[0m\u001b[1;32m    215\u001b[0m             \u001b[0mmatSumV\u001b[0m \u001b[0;34m=\u001b[0m \u001b[0mmatSumV\u001b[0m \u001b[0;34m+\u001b[0m \u001b[0mmat0\u001b[0m\u001b[0;34m\u001b[0m\u001b[0m\n\u001b[1;32m    216\u001b[0m \u001b[0;34m\u001b[0m\u001b[0m\n",
      "\u001b[0;32m/Users/shusenwang/anaconda/lib/python3.5/site-packages/numpy/linalg/linalg.py\u001b[0m in \u001b[0;36mpinv\u001b[0;34m(a, rcond)\u001b[0m\n\u001b[1;32m   1615\u001b[0m     \u001b[0m_assertNoEmpty2d\u001b[0m\u001b[0;34m(\u001b[0m\u001b[0ma\u001b[0m\u001b[0;34m)\u001b[0m\u001b[0;34m\u001b[0m\u001b[0m\n\u001b[1;32m   1616\u001b[0m     \u001b[0ma\u001b[0m \u001b[0;34m=\u001b[0m \u001b[0ma\u001b[0m\u001b[0;34m.\u001b[0m\u001b[0mconjugate\u001b[0m\u001b[0;34m(\u001b[0m\u001b[0;34m)\u001b[0m\u001b[0;34m\u001b[0m\u001b[0m\n\u001b[0;32m-> 1617\u001b[0;31m     \u001b[0mu\u001b[0m\u001b[0;34m,\u001b[0m \u001b[0ms\u001b[0m\u001b[0;34m,\u001b[0m \u001b[0mvt\u001b[0m \u001b[0;34m=\u001b[0m \u001b[0msvd\u001b[0m\u001b[0;34m(\u001b[0m\u001b[0ma\u001b[0m\u001b[0;34m,\u001b[0m \u001b[0;36m0\u001b[0m\u001b[0;34m)\u001b[0m\u001b[0;34m\u001b[0m\u001b[0m\n\u001b[0m\u001b[1;32m   1618\u001b[0m     \u001b[0mm\u001b[0m \u001b[0;34m=\u001b[0m \u001b[0mu\u001b[0m\u001b[0;34m.\u001b[0m\u001b[0mshape\u001b[0m\u001b[0;34m[\u001b[0m\u001b[0;36m0\u001b[0m\u001b[0;34m]\u001b[0m\u001b[0;34m\u001b[0m\u001b[0m\n\u001b[1;32m   1619\u001b[0m     \u001b[0mn\u001b[0m \u001b[0;34m=\u001b[0m \u001b[0mvt\u001b[0m\u001b[0;34m.\u001b[0m\u001b[0mshape\u001b[0m\u001b[0;34m[\u001b[0m\u001b[0;36m1\u001b[0m\u001b[0;34m]\u001b[0m\u001b[0;34m\u001b[0m\u001b[0m\n",
      "\u001b[0;32m/Users/shusenwang/anaconda/lib/python3.5/site-packages/numpy/linalg/linalg.py\u001b[0m in \u001b[0;36msvd\u001b[0;34m(a, full_matrices, compute_uv)\u001b[0m\n\u001b[1;32m   1357\u001b[0m \u001b[0;34m\u001b[0m\u001b[0m\n\u001b[1;32m   1358\u001b[0m         \u001b[0msignature\u001b[0m \u001b[0;34m=\u001b[0m \u001b[0;34m'D->DdD'\u001b[0m \u001b[0;32mif\u001b[0m \u001b[0misComplexType\u001b[0m\u001b[0;34m(\u001b[0m\u001b[0mt\u001b[0m\u001b[0;34m)\u001b[0m \u001b[0;32melse\u001b[0m \u001b[0;34m'd->ddd'\u001b[0m\u001b[0;34m\u001b[0m\u001b[0m\n\u001b[0;32m-> 1359\u001b[0;31m         \u001b[0mu\u001b[0m\u001b[0;34m,\u001b[0m \u001b[0ms\u001b[0m\u001b[0;34m,\u001b[0m \u001b[0mvt\u001b[0m \u001b[0;34m=\u001b[0m \u001b[0mgufunc\u001b[0m\u001b[0;34m(\u001b[0m\u001b[0ma\u001b[0m\u001b[0;34m,\u001b[0m \u001b[0msignature\u001b[0m\u001b[0;34m=\u001b[0m\u001b[0msignature\u001b[0m\u001b[0;34m,\u001b[0m \u001b[0mextobj\u001b[0m\u001b[0;34m=\u001b[0m\u001b[0mextobj\u001b[0m\u001b[0;34m)\u001b[0m\u001b[0;34m\u001b[0m\u001b[0m\n\u001b[0m\u001b[1;32m   1360\u001b[0m         \u001b[0mu\u001b[0m \u001b[0;34m=\u001b[0m \u001b[0mu\u001b[0m\u001b[0;34m.\u001b[0m\u001b[0mastype\u001b[0m\u001b[0;34m(\u001b[0m\u001b[0mresult_t\u001b[0m\u001b[0;34m,\u001b[0m \u001b[0mcopy\u001b[0m\u001b[0;34m=\u001b[0m\u001b[0;32mFalse\u001b[0m\u001b[0;34m)\u001b[0m\u001b[0;34m\u001b[0m\u001b[0m\n\u001b[1;32m   1361\u001b[0m         \u001b[0ms\u001b[0m \u001b[0;34m=\u001b[0m \u001b[0ms\u001b[0m\u001b[0;34m.\u001b[0m\u001b[0mastype\u001b[0m\u001b[0;34m(\u001b[0m\u001b[0m_realType\u001b[0m\u001b[0;34m(\u001b[0m\u001b[0mresult_t\u001b[0m\u001b[0;34m)\u001b[0m\u001b[0;34m,\u001b[0m \u001b[0mcopy\u001b[0m\u001b[0;34m=\u001b[0m\u001b[0;32mFalse\u001b[0m\u001b[0;34m)\u001b[0m\u001b[0;34m\u001b[0m\u001b[0m\n",
      "\u001b[0;31mKeyboardInterrupt\u001b[0m: "
     ]
    }
   ],
   "source": [
    "import biasVarModelAvg\n",
    "filename = 'UB_n=100000_d=500.mat' \n",
    "biasVarModelAvg.run(filename)\n"
   ]
  },
  {
   "cell_type": "code",
   "execution_count": null,
   "metadata": {
    "collapsed": true
   },
   "outputs": [],
   "source": []
  }
 ],
 "metadata": {
  "anaconda-cloud": {},
  "kernelspec": {
   "display_name": "Python [Root]",
   "language": "python",
   "name": "Python [Root]"
  },
  "language_info": {
   "codemirror_mode": {
    "name": "ipython",
    "version": 3
   },
   "file_extension": ".py",
   "mimetype": "text/x-python",
   "name": "python",
   "nbconvert_exporter": "python",
   "pygments_lexer": "ipython3",
   "version": "3.5.2"
  }
 },
 "nbformat": 4,
 "nbformat_minor": 0
}

{
 "cells": [
  {
   "cell_type": "code",
   "execution_count": 1,
   "metadata": {
    "collapsed": false
   },
   "outputs": [
    {
     "name": "stdout",
     "output_type": "stream",
     "text": [
      "(100000, 500)\n"
     ]
    }
   ],
   "source": [
    "import numpy\n",
    "import sys\n",
    "sys.path.append('../../main/regression/')\n",
    "import scipy.io\n",
    "import biasVarModelAvg\n",
    "\n",
    "#### To Be Specified\n",
    "filename = 'NB_n=100000_d=500.mat' \n",
    "\n",
    "# load data\n",
    "dataname = filename[0:2]\n",
    "dataDict = scipy.io.loadmat(filename)\n",
    "matX = dataDict['matX']\n",
    "vecW = dataDict['vecW']\n",
    "print(matX.shape)\n",
    "matU, vecS, matV = numpy.linalg.svd(matX, full_matrices=False)"
   ]
  },
  {
   "cell_type": "code",
   "execution_count": 2,
   "metadata": {
    "collapsed": false
   },
   "outputs": [
    {
     "name": "stdout",
     "output_type": "stream",
     "text": [
      "Doing uniform sampling...\n",
      "Doing leverage score sampling...\n",
      "Doing shrinkage leverage score sampling...\n",
      "Doing Gaussian projection...\n",
      "Doing SRFT...\n",
      "Doing count sketch...\n",
      "{'g': [1, 2, 3, 4, 6, 8, 12, 16, 20, 25, 30], 'varGauss': array([  7.76540858e-05,   7.02323081e-05,   6.77223280e-05,\n",
      "         6.64131158e-05,   6.51512031e-05,   6.45306431e-05,\n",
      "         6.38706452e-05,   6.35435693e-05,   6.33702204e-05,\n",
      "         6.32062567e-05,   6.30886875e-05]), 'biasShrink': array([ 0.02046875,  0.05539925,  0.05658248,  0.04303551,  0.04066382,\n",
      "        0.03636203,  0.02558084,  0.02344748,  0.02511384,  0.02139308,\n",
      "        0.01930251]), 'biasLev': array([ 0.00911748,  0.00911827,  0.00879247,  0.00871662,  0.01305494,\n",
      "        0.01178866,  0.01053238,  0.00989245,  0.00956309,  0.00935257,\n",
      "        0.00915304]), 'xi': 0.1, 'varLev': array([  8.51437446e-05,   8.05596533e-05,   7.91382303e-05,\n",
      "         7.81960956e-05,   9.22086437e-05,   8.63476986e-05,\n",
      "         8.16171436e-05,   7.96598067e-05,   7.88815103e-05,\n",
      "         7.81961338e-05,   7.76278123e-05]), 'biasSrft': array([ 0.00542346,  0.0042286 ,  0.00351166,  0.00314673,  0.0027987 ,\n",
      "        0.00266349,  0.00247732,  0.00239878,  0.0023496 ,  0.00227591,\n",
      "        0.0022325 ]), 'biasUni': array([ 0.36337187,  0.32153626,  0.3378485 ,  0.34273852,  0.34583309,\n",
      "        0.34702241,  0.34631026,  0.34395149,  0.34746087,  0.34986363,\n",
      "        0.35223636]), 'varSrft': array([  7.76042519e-05,   6.95742786e-05,   6.71001325e-05,\n",
      "         6.58609880e-05,   6.46635994e-05,   6.40455909e-05,\n",
      "         6.33690637e-05,   6.30641930e-05,   6.28783239e-05,\n",
      "         6.27150527e-05,   6.26097808e-05]), 'varUni': array([ 0.01448575,  0.01194014,  0.01277046,  0.0132474 ,  0.01349457,\n",
      "        0.01361558,  0.01370081,  0.01369845,  0.01389579,  0.01404108,\n",
      "        0.01412815]), 'varShrink': array([ 0.00014568,  0.0004901 ,  0.00052927,  0.00034593,  0.0002806 ,\n",
      "        0.00023621,  0.00016407,  0.00015598,  0.00016356,  0.00014439,\n",
      "        0.00013415]), 'gamma': 1e-15, 's': 2000, 'varOpt': 3.9827307818525901e-05, 'biasOpt': 9.1462635890037038e-08, 'varCount': array([  8.21977677e-05,   7.32871401e-05,   6.96001882e-05,\n",
      "         6.80253715e-05,   6.65112783e-05,   6.57514665e-05,\n",
      "         6.59782227e-05,   6.51739634e-05,   6.48954909e-05,\n",
      "         6.46084201e-05,   6.44938084e-05]), 'biasCount': array([ 0.00584494,  0.00519869,  0.00425102,  0.0036736 ,  0.00320114,\n",
      "        0.00288832,  0.00354695,  0.00319698,  0.00302574,  0.00281622,\n",
      "        0.00265791]), 'biasGauss': array([ 0.00537759,  0.00401381,  0.00356421,  0.00326246,  0.00286799,\n",
      "        0.00267279,  0.0025011 ,  0.00244651,  0.00240374,  0.00235123,\n",
      "        0.00230215])}\n"
     ]
    }
   ],
   "source": [
    "s = 1000\n",
    "gamma = 1e-6\n",
    "xi = 0.1\n",
    "vecG = [1, 2, 3, 4, 6, 8, 12, 16, 20, 25, 30]\n",
    "method = 'tilde'\n",
    "\n",
    "resultDict = biasVarModelAvg.bvExperiment(matX, vecW, s, gamma, xi, vecG, method)\n",
    "print(resultDict)\n",
    "\n",
    "outputFileName = 'avg_' + method +'_' + dataname + '_s' + str(s) + '_gam' + str(gamma) + '.mat'\n",
    "scipy.io.savemat(outputFileName, resultDict)\n"
   ]
  },
  {
   "cell_type": "code",
   "execution_count": 7,
   "metadata": {
    "collapsed": false
   },
   "outputs": [
    {
     "data": {
      "image/png": "[encoded data removed]",
      "text/plain": [
       "<matplotlib.figure.Figure at 0x140461c50>"
      ]
     },
     "metadata": {},
     "output_type": "display_data"
    }
   ],
   "source": [
    "import matplotlib.pyplot as plt\n",
    "%matplotlib inline\n",
    "\n",
    "result = resultDict['biasGauss']\n",
    "plt.plot(resultDict['g'], result[0] / result)\n",
    "plt.show()"
   ]
  },
  {
   "cell_type": "code",
   "execution_count": 47,
   "metadata": {
    "collapsed": false
   },
   "outputs": [
    {
     "name": "stdout",
     "output_type": "stream",
     "text": [
      "1.37195419192e-05\n",
      "4.24994331919e-05\n"
     ]
    }
   ],
   "source": [
    "matVW0 = numpy.dot(matV, vecW)\n",
    "gamma = 1e-12\n",
    "xi = 0.1\n",
    "bias, var = bvAvgHat(vecS, matU, matVW0, gamma, xi, 'srft', 2000, 1)\n",
    "print(bias ** 2)\n",
    "print(var)"
   ]
  },
  {
   "cell_type": "code",
   "execution_count": 48,
   "metadata": {
    "collapsed": false
   },
   "outputs": [
    {
     "name": "stdout",
     "output_type": "stream",
     "text": [
      "5.25404861186e-06\n",
      "3.83116132291e-05\n"
     ]
    }
   ],
   "source": [
    "\n",
    "bias, var = bvAvgHat(vecS, matU, matVW0, gamma, xi, 'srft', 2000, 4)\n",
    "print(bias ** 2)\n",
    "print(var)"
   ]
  },
  {
   "cell_type": "code",
   "execution_count": 49,
   "metadata": {
    "collapsed": false
   },
   "outputs": [
    {
     "name": "stdout",
     "output_type": "stream",
     "text": [
      "3.26710178337e-06\n",
      "3.74747604589e-05\n"
     ]
    }
   ],
   "source": [
    "\n",
    "bias, var = bvAvgHat(vecS, matU, matVW0, gamma, xi, 'srft', 2000, 8)\n",
    "print(bias ** 2)\n",
    "print(var)"
   ]
  },
  {
   "cell_type": "code",
   "execution_count": 4,
   "metadata": {
    "collapsed": false
   },
   "outputs": [
    {
     "data": {
      "text/plain": [
       "True"
      ]
     },
     "execution_count": 4,
     "metadata": {},
     "output_type": "execute_result"
    }
   ],
   "source": [
    "vecG = [1, 2, 3, 4, 6, 8, 12, 16, 20, 25, 30]\n",
    "setG = set(vecG)\n",
    "2 + 2 in setG"
   ]
  },
  {
   "cell_type": "code",
   "execution_count": 12,
   "metadata": {
    "collapsed": false
   },
   "outputs": [
    {
     "data": {
      "image/png": "[encoded data removed]",
      "text/plain": [
       "<matplotlib.figure.Figure at 0x140d23c88>"
      ]
     },
     "metadata": {},
     "output_type": "display_data"
    }
   ],
   "source": [
    "g = numpy.array(range(10)) + 1\n",
    "eta = 0.3\n",
    "y = eta / g + eta ** 2 / (1-eta)\n",
    "\n",
    "plt.plot(g, y[0] / y)\n",
    "plt.show()"
   ]
  },
  {
   "cell_type": "code",
   "execution_count": null,
   "metadata": {
    "collapsed": true
   },
   "outputs": [],
   "source": []
  }
 ],
 "metadata": {
  "anaconda-cloud": {},
  "kernelspec": {
   "display_name": "Python [Root]",
   "language": "python",
   "name": "Python [Root]"
  },
  "language_info": {
   "codemirror_mode": {
    "name": "ipython",
    "version": 3
   },
   "file_extension": ".py",
   "mimetype": "text/x-python",
   "name": "python",
   "nbconvert_exporter": "python",
   "pygments_lexer": "ipython3",
   "version": "3.5.2"
  }
 },
 "nbformat": 4,
 "nbformat_minor": 0
}

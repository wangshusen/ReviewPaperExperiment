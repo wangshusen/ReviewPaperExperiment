{
 "cells": [
  {
   "cell_type": "code",
   "execution_count": 1,
   "metadata": {
    "collapsed": false
   },
   "outputs": [
    {
     "name": "stdout",
     "output_type": "stream",
     "text": [
      "(100000, 500)\n"
     ]
    }
   ],
   "source": [
    "import numpy\n",
    "import sys\n",
    "sys.path.append('../../main/regression/')\n",
    "import scipy.io\n",
    "import biasVarModelAvg\n",
    "\n",
    "#### To Be Specified\n",
    "filename = 'NB_n=100000_d=500.mat' \n",
    "\n",
    "# load data\n",
    "dataname = filename[0:2]\n",
    "dataDict = scipy.io.loadmat(filename)\n",
    "matX = dataDict['matX']\n",
    "vecW = dataDict['vecW']\n",
    "print(matX.shape)\n",
    "matU, vecS, matV = numpy.linalg.svd(matX, full_matrices=False)"
   ]
  },
  {
   "cell_type": "code",
   "execution_count": null,
   "metadata": {
    "collapsed": false
   },
   "outputs": [
    {
     "name": "stdout",
     "output_type": "stream",
     "text": [
      "Doing uniform sampling...\n",
      "iteration 0\n"
     ]
    }
   ],
   "source": [
    "s = 2000\n",
    "gamma = 1e-12\n",
    "xi = 0.1\n",
    "vecG = [1, 2, 3, 4, 6, 8, 10, 12, 15, 18, 22, 26, 30, 35, 40, 45, 50]\n",
    "method = 'hat'\n",
    "\n",
    "resultDict = biasVarModelAvg.bvExperiment(matX, vecW, s, gamma, xi, vecG, method)\n",
    "print(resultDict)\n",
    "\n",
    "outputFileName = 'avg_' + method +'_' + dataname + '_s' + str(s) + '_gam' + str(gamma) + '.mat'\n",
    "scipy.io.savemat(outputFileName, resultDict)\n"
   ]
  },
  {
   "cell_type": "code",
   "execution_count": 7,
   "metadata": {
    "collapsed": false
   },
   "outputs": [
    {
     "data": {
      "image/png": "[encoded data removed]",
      "text/plain": [
       "<matplotlib.figure.Figure at 0x140e4e470>"
      ]
     },
     "metadata": {},
     "output_type": "display_data"
    }
   ],
   "source": [
    "import matplotlib.pyplot as plt\n",
    "%matplotlib inline\n",
    "\n",
    "result = resultDict['biasSrft']\n",
    "plt.plot(resultDict['g'], result[0] / result)\n",
    "plt.show()"
   ]
  },
  {
   "cell_type": "code",
   "execution_count": 47,
   "metadata": {
    "collapsed": false
   },
   "outputs": [
    {
     "name": "stdout",
     "output_type": "stream",
     "text": [
      "1.37195419192e-05\n",
      "4.24994331919e-05\n"
     ]
    }
   ],
   "source": [
    "matVW0 = numpy.dot(matV, vecW)\n",
    "gamma = 1e-12\n",
    "xi = 0.1\n",
    "bias, var = bvAvgHat(vecS, matU, matVW0, gamma, xi, 'srft', 2000, 1)\n",
    "print(bias ** 2)\n",
    "print(var)"
   ]
  },
  {
   "cell_type": "code",
   "execution_count": 48,
   "metadata": {
    "collapsed": false
   },
   "outputs": [
    {
     "name": "stdout",
     "output_type": "stream",
     "text": [
      "5.25404861186e-06\n",
      "3.83116132291e-05\n"
     ]
    }
   ],
   "source": [
    "\n",
    "bias, var = bvAvgHat(vecS, matU, matVW0, gamma, xi, 'srft', 2000, 4)\n",
    "print(bias ** 2)\n",
    "print(var)"
   ]
  },
  {
   "cell_type": "code",
   "execution_count": 49,
   "metadata": {
    "collapsed": false
   },
   "outputs": [
    {
     "name": "stdout",
     "output_type": "stream",
     "text": [
      "3.26710178337e-06\n",
      "3.74747604589e-05\n"
     ]
    }
   ],
   "source": [
    "\n",
    "bias, var = bvAvgHat(vecS, matU, matVW0, gamma, xi, 'srft', 2000, 8)\n",
    "print(bias ** 2)\n",
    "print(var)"
   ]
  },
  {
   "cell_type": "code",
   "execution_count": 4,
   "metadata": {
    "collapsed": false
   },
   "outputs": [
    {
     "data": {
      "text/plain": [
       "True"
      ]
     },
     "execution_count": 4,
     "metadata": {},
     "output_type": "execute_result"
    }
   ],
   "source": [
    "vecG = [1, 2, 3, 4, 6, 8, 12, 16, 20, 25, 30]\n",
    "setG = set(vecG)\n",
    "2 + 2 in setG"
   ]
  },
  {
   "cell_type": "code",
   "execution_count": 12,
   "metadata": {
    "collapsed": false
   },
   "outputs": [
    {
     "data": {
      "image/png": "[encoded data removed]",
      "text/plain": [
       "<matplotlib.figure.Figure at 0x140d23c88>"
      ]
     },
     "metadata": {},
     "output_type": "display_data"
    }
   ],
   "source": [
    "g = numpy.array(range(10)) + 1\n",
    "eta = 0.3\n",
    "y = eta / g + eta ** 2 / (1-eta)\n",
    "\n",
    "plt.plot(g, y[0] / y)\n",
    "plt.show()"
   ]
  },
  {
   "cell_type": "code",
   "execution_count": null,
   "metadata": {
    "collapsed": true
   },
   "outputs": [],
   "source": []
  }
 ],
 "metadata": {
  "anaconda-cloud": {},
  "kernelspec": {
   "display_name": "Python [Root]",
   "language": "python",
   "name": "Python [Root]"
  },
  "language_info": {
   "codemirror_mode": {
    "name": "ipython",
    "version": 3
   },
   "file_extension": ".py",
   "mimetype": "text/x-python",
   "name": "python",
   "nbconvert_exporter": "python",
   "pygments_lexer": "ipython3",
   "version": "3.5.2"
  }
 },
 "nbformat": 4,
 "nbformat_minor": 0
}

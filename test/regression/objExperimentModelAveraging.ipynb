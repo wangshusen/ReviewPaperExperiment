{
 "cells": [
  {
   "cell_type": "code",
   "execution_count": 30,
   "metadata": {
    "collapsed": false
   },
   "outputs": [
    {
     "name": "stdout",
     "output_type": "stream",
     "text": [
      "(100000, 500)\n"
     ]
    }
   ],
   "source": [
    "import numpy\n",
    "import sys\n",
    "sys.path.append('../../main/regression/')\n",
    "import scipy.io\n",
    "\n",
    "#### To Be Specified\n",
    "filename = 'UG_n=100000_d=500.mat' \n",
    "\n",
    "# load data\n",
    "dataname = filename[0:2]\n",
    "dataDict = scipy.io.loadmat(filename)\n",
    "matX = dataDict['matX']\n",
    "vecW = dataDict['vecW']\n",
    "print(matX.shape)\n"
   ]
  },
  {
   "cell_type": "code",
   "execution_count": null,
   "metadata": {
    "collapsed": false
   },
   "outputs": [
    {
     "name": "stdout",
     "output_type": "stream",
     "text": [
      "Doing optimal ridge regression...\n",
      "Doing uniform sampling...\n",
      "Doing leverage score sampling...\n",
      "Doing shrinkage leverage score sampling...\n",
      "Doing Gaussian projection...\n"
     ]
    }
   ],
   "source": [
    "import objValModelAvg\n",
    "\n",
    "# Parameters Fixed for All the Experiments\n",
    "vecGamma = [1e-12, 1e-6]\n",
    "xi = 0.1\n",
    "s = 5000\n",
    "\n",
    "outputFileName = 'objFunVal_' + dataname + '_xi=' + str(xi) + '_s=' + str(s) + '.mat'\n",
    "resultDict = objValModelAvg.objExperiment(matX, vecW, s, vecGamma, xi)\n",
    "scipy.io.savemat(outputFileName, resultDict)"
   ]
  },
  {
   "cell_type": "code",
   "execution_count": null,
   "metadata": {
    "collapsed": false
   },
   "outputs": [],
   "source": [
    "import objValModelAvg\n",
    "\n",
    "# Parameters Fixed for All the Experiments\n",
    "vecGamma = [1e-12, 1e-6]\n",
    "xi = 0.01\n",
    "s = 5000\n",
    "\n",
    "outputFileName = 'objFunVal_' + dataname + '_xi=' + str(xi) + '_s=' + str(s) + '.mat'\n",
    "resultDict = objValModelAvg.objExperiment(matX, vecW, s, vecGamma, xi)\n",
    "scipy.io.savemat(outputFileName, resultDict)"
   ]
  },
  {
   "cell_type": "code",
   "execution_count": 29,
   "metadata": {
    "collapsed": false
   },
   "outputs": [
    {
     "name": "stdout",
     "output_type": "stream",
     "text": [
      "[[ 0.04010298  0.0201553   0.01356612  0.01027607  0.00698085  0.00532432\n",
      "   0.00432591  0.00365927  0.00298927  0.00254779  0.0021544   0.00188647\n",
      "   0.00168816  0.00149793  0.00135908  0.00124914  0.00116014]\n",
      " [ 0.00852009  0.00618677  0.00543244  0.00506346  0.0046808   0.00448417\n",
      "   0.00436734  0.00428614  0.0042041   0.00414876  0.00409699  0.00406378\n",
      "   0.00403746  0.00401085  0.00398874  0.00396956  0.00395255]]\n"
     ]
    }
   ],
   "source": [
    "err = (resultDict['TildeShrink'] - resultDict['Opt'].reshape(2, 1)) / resultDict['Opt'].reshape(2, 1)\n",
    "print(err)"
   ]
  },
  {
   "cell_type": "code",
   "execution_count": null,
   "metadata": {
    "collapsed": true
   },
   "outputs": [],
   "source": []
  },
  {
   "cell_type": "code",
   "execution_count": null,
   "metadata": {
    "collapsed": true
   },
   "outputs": [],
   "source": []
  }
 ],
 "metadata": {
  "anaconda-cloud": {},
  "kernelspec": {
   "display_name": "Python [Root]",
   "language": "python",
   "name": "Python [Root]"
  },
  "language_info": {
   "codemirror_mode": {
    "name": "ipython",
    "version": 3
   },
   "file_extension": ".py",
   "mimetype": "text/x-python",
   "name": "python",
   "nbconvert_exporter": "python",
   "pygments_lexer": "ipython3",
   "version": "3.5.2"
  }
 },
 "nbformat": 4,
 "nbformat_minor": 0
}

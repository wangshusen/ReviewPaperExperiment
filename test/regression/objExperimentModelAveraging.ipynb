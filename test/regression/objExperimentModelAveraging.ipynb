{
 "cells": [
  {
   "cell_type": "code",
   "execution_count": 35,
   "metadata": {
    "collapsed": false
   },
   "outputs": [
    {
     "name": "stdout",
     "output_type": "stream",
     "text": [
      "(100000, 500)\n"
     ]
    }
   ],
   "source": [
    "import numpy\n",
    "import sys\n",
    "sys.path.append('../../main/regression/')\n",
    "import scipy.io\n",
    "\n",
    "#### To Be Specified\n",
    "filename = 'NB_n=100000_d=500.mat' \n",
    "\n",
    "# load data\n",
    "dataname = filename[0:2]\n",
    "dataDict = scipy.io.loadmat(filename)\n",
    "matX = dataDict['matX']\n",
    "vecW = dataDict['vecW']\n",
    "print(matX.shape)\n"
   ]
  },
  {
   "cell_type": "code",
   "execution_count": 36,
   "metadata": {
    "collapsed": false
   },
   "outputs": [],
   "source": [
    "import numpy\n",
    "import sys\n",
    "sys.path.append('../../main/sketch/')\n",
    "import countsketch as csketch\n",
    "import srft\n",
    "\n",
    "\n",
    "def solveW(vecS, matV, matUY, ngamma):\n",
    "    '''\n",
    "    Input\n",
    "        X = U * diag(S) * V\n",
    "        UY = U^T * Y\n",
    "        ngamma = n * gamma\n",
    "    '''\n",
    "    vec1 = ngamma / vecS\n",
    "    vec1 = vec1 + vecS\n",
    "    mat1 = matUY / vec1.reshape(len(vec1), 1)\n",
    "    matW = numpy.dot(matV.T, mat1)\n",
    "    return matW\n",
    "\n",
    "def solveWhat(vecS, matV, matXY, ngamma):\n",
    "    vec1 = vecS * vecS + ngamma\n",
    "    mat1 = numpy.dot(matV, matXY)\n",
    "    mat1 = mat1 / vec1.reshape(len(vec1), 1)\n",
    "    matW = numpy.dot(matV.T, mat1)\n",
    "    return matW\n",
    "\n",
    "def objFunValOpt(matX, matY, vecS, matV, matUY, vecGamma):\n",
    "    n = matX.shape[0]\n",
    "    lenGamma = len(vecGamma)\n",
    "    vecObjOpt = numpy.zeros(lenGamma)\n",
    "    for i in range(lenGamma):\n",
    "        gamma = vecGamma[i]\n",
    "        matW = solveW(vecS, matV, matUY, n * gamma)\n",
    "        matRes = numpy.dot(matX, matW) - matY\n",
    "        err = numpy.linalg.norm(matRes)\n",
    "        del matRes\n",
    "        reg = numpy.linalg.norm(matW)\n",
    "        del matW\n",
    "        vecObjOpt[i] = err * err / n + gamma * reg * reg\n",
    "    return vecObjOpt\n",
    "    \n",
    "\n",
    "\n",
    "def modelAveraging(matX, matY, matXY, vecGamma, sketch, s, vecLev):\n",
    "    repeat = 30\n",
    "    n, d = matX.shape\n",
    "    lenGamma = len(vecGamma)\n",
    "    \n",
    "    modelTilde = numpy.zeros((lenGamma, repeat, d))\n",
    "    modelHat = numpy.zeros((lenGamma, repeat, d))\n",
    "    \n",
    "    if sketch == 'srft':\n",
    "        randSigns = numpy.random.choice(2, n) * 2 - 1\n",
    "        matXsketch = matX * randSigns.reshape(n, 1)\n",
    "        matYsketch = matY * randSigns.reshape(n, 1)\n",
    "        matXsketch = srft.realfft(matXsketch)\n",
    "        matYsketch = srft.realfft(matYsketch)\n",
    "    \n",
    "    for j in range(repeat):\n",
    "        # ================== sketching ================== #\n",
    "        if sketch == 'uni':\n",
    "            idx = numpy.random.choice(n, s, replace=False)\n",
    "            matXsketch = matX[idx, :] * numpy.sqrt(n/s)\n",
    "            matYsketch = matY[idx, :] * numpy.sqrt(n/s)\n",
    "        elif sketch == 'lev':\n",
    "            prob = vecLev / numpy.sum(vecLev)\n",
    "            scaling = 1 / numpy.sqrt(s * prob)\n",
    "            scaling = scaling.reshape(n, 1)\n",
    "            idx = numpy.random.choice(n, s, replace=False, p=prob)\n",
    "            matXsketch = matX[idx, :] * scaling[idx]\n",
    "            matYsketch = matY[idx, :] * scaling[idx]\n",
    "        elif sketch == 'shrink':\n",
    "            prob = vecLev / numpy.sum(vecLev)\n",
    "            prob = (prob + 1/n) / 2\n",
    "            scaling = 1 / numpy.sqrt(s * prob)\n",
    "            scaling = scaling.reshape(n, 1)\n",
    "            idx = numpy.random.choice(n, s, replace=False, p=prob)\n",
    "            matXsketch = matX[idx, :] * scaling[idx]\n",
    "            matYsketch = matY[idx, :] * scaling[idx]\n",
    "        elif sketch == 'gauss':\n",
    "            matSketch = numpy.random.randn(s, n) / numpy.sqrt(s) \n",
    "            matXsketch = numpy.dot(matSketch, matX)\n",
    "            matYsketch = numpy.dot(matSketch, matY)\n",
    "        elif sketch == 'srft':\n",
    "            idx = numpy.random.choice(n, s, replace=False)\n",
    "            matXsketch = matXsketch[idx, :] * numpy.sqrt(n/s)\n",
    "            matYsketch = matYsketch[idx, :] * numpy.sqrt(n/s)\n",
    "        elif sketch == 'count':\n",
    "            matXsketch, matYsketch = csketch.countsketch(matX, matY, s)\n",
    "\n",
    "        matU, vecS, matV = numpy.linalg.svd(matXsketch, full_matrices=False)\n",
    "        matUY = numpy.dot(matU.T, matYsketch)\n",
    "\n",
    "        # ================ compute Wtilde ================ #\n",
    "        for i in range(lenGamma):\n",
    "            gamma = vecGamma[i]\n",
    "            matW = solveW(vecS, matV, matUY, n * gamma)\n",
    "            modelTilde[i, j, :] = matW.reshape(matW.shape[0])\n",
    "\n",
    "        # ================ compute What ================ #\n",
    "        for i in range(lenGamma):\n",
    "            gamma = vecGamma[i]\n",
    "            matW = solveWhat(vecS, matV, matXY, n * gamma)\n",
    "            modelHat[i, j, :] = matW.reshape(matW.shape[0])\n",
    "        \n",
    "        return modelTilde, modelHat\n",
    "    \n",
    "    \n",
    "def objFunValSketch(matX, matY, vecGamma, models, vecG):\n",
    "    lenG = len(vecG)\n",
    "    n, d = matX.shape\n",
    "    repeat = models.shape[1]\n",
    "    lenGamma = len(vecGamma)\n",
    "    \n",
    "    matObj = numpy.zeros((lenGamma, lenG))\n",
    "\n",
    "    for i in range(lenGamma):\n",
    "        gamma = vecGamma[i]\n",
    "        for l in range(lenG):\n",
    "            g = vecG[l]\n",
    "            r = repeat - g + 1\n",
    "            objTmp = numpy.zeros(r)\n",
    "            for p in range(r):\n",
    "                matW = numpy.mean(models[i, p:p+g, :], axis=0)\n",
    "                matRes = numpy.dot(matX, matW.reshape(d, 1)) - matY\n",
    "                err = numpy.linalg.norm(matRes)\n",
    "                del matRes\n",
    "                reg = numpy.linalg.norm(matW)\n",
    "                del matW\n",
    "                objTmp[p] = err * err / n + gamma * reg * reg\n",
    "            matObj[i, l] = numpy.mean(objTmp)\n",
    "    return matObj\n",
    "\n",
    "\n",
    "def objExperiment(matX, matW, s, vecGamma, xi):\n",
    "    n, d = matX.shape\n",
    "    vecG = [1, 2, 4, 8, 16]\n",
    "    \n",
    "    matU, vecS, matV = numpy.linalg.svd(matX, full_matrices=False)\n",
    "    vecLev = numpy.sum(matU ** 2, axis=1)\n",
    "    \n",
    "    matNoise = numpy.random.randn(n, 1)\n",
    "    matY = numpy.dot(matX, matW) + matNoise * xi\n",
    "    matXY = numpy.dot(matX.T, matY)\n",
    "    matUY = numpy.dot(matU.T, matY)\n",
    "    \n",
    "    # optimal\n",
    "    print('Doing optimal ridge regression...')\n",
    "    objOpt = objFunValOpt(matX, matY, vecS, matV, matUY, vecGamma)\n",
    "    # uniform\n",
    "    print('Doing uniform sampling...')\n",
    "    modelTilde, modelHat = modelAveraging(matX, matY, matXY, vecGamma, 'uni', s, vecLev)\n",
    "    objTildeUni = objFunValSketch(matX, matY, vecGamma, modelTilde, vecG)\n",
    "    objHatUni = objFunValSketch(matX, matY, vecGamma, modelHat, vecG)\n",
    "    # leverage\n",
    "    print('Doing leverage score sampling...')\n",
    "    modelTilde, modelHat = modelAveraging(matX, matY, matXY, vecGamma, 'lev', s, vecLev)\n",
    "    objTildeLev = objFunValSketch(matX, matY, vecGamma, modelTilde, vecG)\n",
    "    objHatLev = objFunValSketch(matX, matY, vecGamma, modelHat, vecG)\n",
    "    # shrinkage leverage\n",
    "    print('Doing shrinkage leverage score sampling...')\n",
    "    modelTilde, modelHat = modelAveraging(matX, matY, matXY, vecGamma, 'shrink', s, vecLev)\n",
    "    objTildeShrink = objFunValSketch(matX, matY, vecGamma, modelTilde, vecG)\n",
    "    objHatShrink = objFunValSketch(matX, matY, vecGamma, modelHat, vecG)\n",
    "    # Gaussian projection\n",
    "    print('Doing Gaussian projection...')\n",
    "    modelTilde, modelHat = modelAveraging(matX, matY, matXY, vecGamma, 'gauss', s, vecLev)\n",
    "    objTildeGauss = objFunValSketch(matX, matY, vecGamma, modelTilde, vecG)\n",
    "    objHatGauss = objFunValSketch(matX, matY, vecGamma, modelHat, vecG)\n",
    "    # SRFT\n",
    "    print('Doing SRFT...')\n",
    "    modelTilde, modelHat = modelAveraging(matX, matY, matXY, vecGamma, 'srft', s, vecLev)\n",
    "    objTildeSrft = objFunValSketch(matX, matY, vecGamma, modelTilde, vecG)\n",
    "    objHatSrft = objFunValSketch(matX, matY, vecGamma, modelHat, vecG)\n",
    "    # Count Sketch\n",
    "    print('Doing count sketch...')\n",
    "    modelTilde, modelHat = modelAveraging(matX, matY, matXY, vecGamma, 'count', s, vecLev)\n",
    "    objTildeCount = objFunValSketch(matX, matY, vecGamma, modelTilde, vecG)\n",
    "    objHatCount = objFunValSketch(matX, matY, vecGamma, modelHat, vecG)\n",
    "\n",
    "    resultDict = {'gamma': vecGamma,\n",
    "                  'g': vecG,\n",
    "                  'Opt': objOpt,\n",
    "                 'TildeUni': objTildeUni,\n",
    "                 'HatUni': objHatUni,\n",
    "                 'TildeLev': objTildeLev,\n",
    "                 'HatLev': objHatLev,\n",
    "                 'TildeShrink': objTildeShrink,\n",
    "                 'HatShrink': objHatShrink,\n",
    "                 'TildeGauss': objTildeGauss,\n",
    "                 'HatGauss': objHatGauss,\n",
    "                 'TildeSrft': objTildeSrft,\n",
    "                 'HatSrft': objHatSrft,\n",
    "                 'TildeCount': objTildeCount,\n",
    "                 'HatCount': objHatCount }\n",
    "    return resultDict\n",
    "\n",
    "        \n",
    "    "
   ]
  },
  {
   "cell_type": "code",
   "execution_count": 41,
   "metadata": {
    "collapsed": false
   },
   "outputs": [
    {
     "name": "stdout",
     "output_type": "stream",
     "text": [
      "Doing optimal ridge regression...\n",
      "Doing uniform sampling...\n",
      "Doing leverage score sampling...\n",
      "Doing shrinkage leverage score sampling...\n",
      "Doing Gaussian projection...\n",
      "Doing SRFT...\n",
      "Doing count sketch...\n"
     ]
    }
   ],
   "source": [
    "\n",
    "# Parameters Fixed for All the Experiments\n",
    "vecGamma = [1e-15, 1e-5]\n",
    "xi = 3\n",
    "s = 5000\n",
    "\n",
    "outputFileName = 'objFunVal_' + dataname + '.mat'\n",
    "resultDict = objExperiment(matX, vecW, s, vecGamma, xi)\n",
    "scipy.io.savemat(outputFileName, resultDict)"
   ]
  },
  {
   "cell_type": "code",
   "execution_count": 42,
   "metadata": {
    "collapsed": false
   },
   "outputs": [
    {
     "name": "stdout",
     "output_type": "stream",
     "text": [
      "[[ 0.00853818  0.00513128  0.00430279  0.0041064   0.00405913]\n",
      " [ 0.0002814   0.00016992  0.00014369  0.00013789  0.00013656]]\n"
     ]
    }
   ],
   "source": [
    "err = (resultDict['TildeLev'] - resultDict['Opt'].reshape(2, 1)) / resultDict['Opt'].reshape(2, 1)\n",
    "print(err)"
   ]
  },
  {
   "cell_type": "code",
   "execution_count": 43,
   "metadata": {
    "collapsed": false
   },
   "outputs": [
    {
     "name": "stdout",
     "output_type": "stream",
     "text": [
      "[[ 0.01255757  0.0062145   0.00461714  0.00421244  0.00411035]\n",
      " [ 0.00018316  0.00014514  0.00013737  0.00013623  0.00013608]]\n"
     ]
    }
   ],
   "source": [
    "err = (resultDict['TildeUni'] - resultDict['Opt'].reshape(2, 1)) / resultDict['Opt'].reshape(2, 1)\n",
    "print(err)"
   ]
  },
  {
   "cell_type": "code",
   "execution_count": null,
   "metadata": {
    "collapsed": true
   },
   "outputs": [],
   "source": []
  },
  {
   "cell_type": "code",
   "execution_count": null,
   "metadata": {
    "collapsed": true
   },
   "outputs": [],
   "source": []
  }
 ],
 "metadata": {
  "anaconda-cloud": {},
  "kernelspec": {
   "display_name": "Python [Root]",
   "language": "python",
   "name": "Python [Root]"
  },
  "language_info": {
   "codemirror_mode": {
    "name": "ipython",
    "version": 3
   },
   "file_extension": ".py",
   "mimetype": "text/x-python",
   "name": "python",
   "nbconvert_exporter": "python",
   "pygments_lexer": "ipython3",
   "version": "3.5.2"
  }
 },
 "nbformat": 4,
 "nbformat_minor": 0
}
